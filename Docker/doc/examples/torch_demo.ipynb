{
 "cells": [
  {
   "cell_type": "markdown",
   "metadata": {},
   "source": [
    "# Supervised learning with PyTorch: a toy example \n",
    "\n",
    "\n",
    "## Introduction\n",
    "\n",
    "In this example, you will use a supervised learning strategy to train a neural network. The example is deliberately very simple to allow for great scalability and fast CPU learning."
   ]
  },
  {
   "cell_type": "code",
   "execution_count": null,
   "metadata": {},
   "outputs": [],
   "source": [
    "%matplotlib widget\n",
    "import numpy as np\n",
    "import matplotlib.pyplot as plt\n",
    "import matplotlib as mpl\n",
    "import pandas as pd\n",
    "from scipy import optimize\n",
    "import numba\n",
    "import torch\n",
    "import tqdm"
   ]
  },
  {
   "cell_type": "markdown",
   "metadata": {},
   "source": [
    "## Exact model\n",
    "\n",
    "In this first part, we propose to define an ideal classification model. It is a function which associates a value $z \\in \\left\\lbrace 0, 1 \\right \\rbrace$ to a tuple of values $(x, y)$. This function represents categories that we would like to model the distribution in space. In a real case, this function would be inaccessible to us and we would try to find it through deep learning.\n",
    "\n",
    "We propose two examples of functions but you are encouraged to develop your own and to test them."
   ]
  },
  {
   "cell_type": "code",
   "execution_count": null,
   "metadata": {},
   "outputs": [],
   "source": [
    "def exact1(inp):\n",
    "    \"\"\"\n",
    "    A ideal model.\n",
    "    \"\"\"\n",
    "    xc1, yc1 = 0.3, 0.6\n",
    "    xc2, yc2 = 0.55, 0.15\n",
    "    r1, r2 = 0.25, 0.15\n",
    "    X, Y = np.array(inp).T\n",
    "    R12 = (X - xc1) ** 2 + (Y - yc1) ** 2\n",
    "    R22 = (X - xc2) ** 2 + (Y - yc2) ** 2\n",
    "    return ((R22 <= r2**2) | (R12 <= r1**2)) * 1\n",
    "\n",
    "\n",
    "def exact2(inp):\n",
    "    \"\"\"\n",
    "    Another ideal model.\n",
    "    \"\"\"\n",
    "    x, y = np.array(inp).T - 0.5\n",
    "    r = np.sqrt(x**2 + y**2)\n",
    "    theta = np.arccos(x / r) * np.sign(y)\n",
    "    out = (np.cos(3 * theta + 10 * r) >= 0.0) * 1\n",
    "    out[r <= 0.1] = 1\n",
    "    return out\n",
    "\n",
    "\n",
    "exact_model = exact2\n"
   ]
  },
  {
   "cell_type": "markdown",
   "metadata": {},
   "source": [
    "In what follows, we draw the model to see what it looks like."
   ]
  },
  {
   "cell_type": "code",
   "execution_count": null,
   "metadata": {},
   "outputs": [],
   "source": [
    "nxm, nym = 200, 200\n",
    "xm = np.linspace(0, 1.0, nxm)\n",
    "ym = np.linspace(0, 1.0, nym)\n",
    "Xm, Ym = np.meshgrid(xm, ym)\n",
    "pointsm = np.array([Xm.flatten(), Ym.flatten()]).T\n",
    "solm = exact_model(pointsm)\n",
    "solm\n"
   ]
  },
  {
   "cell_type": "code",
   "execution_count": null,
   "metadata": {},
   "outputs": [],
   "source": [
    "fig, ax = plt.subplots(1, 1)\n",
    "ax.set_aspect(\"equal\")\n",
    "plt.scatter(\n",
    "    pointsm[solm == 1].T[0], pointsm[solm == 1].T[1], s=1, color=\"white\", label=\"Ones\"\n",
    ")\n",
    "plt.scatter(\n",
    "    pointsm[solm == 0].T[0], pointsm[solm == 0].T[1], s=1, color=\"black\", label=\"Zeros\"\n",
    ")\n",
    "plt.legend()\n",
    "plt.show()\n"
   ]
  },
  {
   "cell_type": "markdown",
   "metadata": {},
   "source": [
    "## Learning DB"
   ]
  },
  {
   "cell_type": "code",
   "execution_count": null,
   "metadata": {},
   "outputs": [],
   "source": [
    "npl = 200000\n",
    "pointsl = np.random.rand(npl * 2).reshape(npl, 2)\n",
    "soll = exact_model(pointsl)\n"
   ]
  },
  {
   "cell_type": "code",
   "execution_count": null,
   "metadata": {
    "scrolled": false
   },
   "outputs": [],
   "source": [
    "fig, ax = plt.subplots(1, 1)\n",
    "ax.set_aspect(\"equal\")\n",
    "plt.scatter(\n",
    "    pointsl[soll == 1].T[0], pointsl[soll == 1].T[1], s=2, color=\"red\", label=\"Ones\"\n",
    ")\n",
    "plt.scatter(\n",
    "    pointsl[soll == 0].T[0], pointsl[soll == 0].T[1], s=2, color=\"blue\", label=\"Zeros\"\n",
    ")\n",
    "plt.legend()\n",
    "plt.show()\n"
   ]
  },
  {
   "cell_type": "markdown",
   "metadata": {},
   "source": [
    "## Neural Network class"
   ]
  },
  {
   "cell_type": "code",
   "execution_count": null,
   "metadata": {},
   "outputs": [],
   "source": [
    "device = torch.device(\"cuda\" if torch.cuda.is_available() else \"cpu\")\n",
    "device_name = torch.cuda.get_device_name(device)\n",
    "\n",
    "\n",
    "force_cpu = False\n",
    "if force_cpu:\n",
    "    device = torch.device(\"cpu\")\n",
    "\n",
    "print(f\"Using {device} device {device_name}\")"
   ]
  },
  {
   "cell_type": "code",
   "execution_count": null,
   "metadata": {},
   "outputs": [],
   "source": [
    "device"
   ]
  },
  {
   "cell_type": "code",
   "execution_count": null,
   "metadata": {},
   "outputs": [],
   "source": [
    "# BUILD LAYERS WITH:\n",
    "# LINEAR LAYERS:\n",
    "torch.nn.Linear(2, 4, bias=True)\n",
    "# NEURAL FUNCTIONS:\n",
    "torch.nn.ELU, torch.nn.ReLU, torch.nn.Hardtanh\n",
    "activation_func = torch.nn.ELU\n",
    "\n",
    "# LAYERS INITIALIZATION\n",
    "layers = [\n",
    "    torch.nn.Linear(2, 4, bias=True),\n",
    "    activation_func(),\n",
    "    torch.nn.Linear(4, 10, bias=True),\n",
    "    activation_func(),\n",
    "    torch.nn.Linear(10, 10, bias=True),\n",
    "    activation_func(),\n",
    "    torch.nn.Linear(10, 20, bias=True),\n",
    "    activation_func(),\n",
    "    torch.nn.Linear(20, 10, bias=True),\n",
    "    activation_func(),\n",
    "    torch.nn.Linear(10, 4, bias=True),\n",
    "    activation_func(),\n",
    "    torch.nn.Linear(4, 1, bias=True),\n",
    "    torch.nn.Hardtanh(min_val=0.0, max_val=1.0),\n",
    "]\n",
    "model = torch.nn.Sequential(*layers).to(device)\n",
    "layers\n"
   ]
  },
  {
   "cell_type": "code",
   "execution_count": null,
   "metadata": {},
   "outputs": [],
   "source": [
    "# TRAINING INPUTS / OUTPUTS\n",
    "x = torch.Tensor(pointsl).to(device)\n",
    "t = torch.Tensor(soll[:, None]).to(device)\n",
    "ns = x.shape[0]\n",
    "learning_rate = 1e-3\n",
    "optimizer = torch.optim.Adam(model.parameters(), lr=learning_rate)\n",
    "loss_fn = torch.nn.MSELoss(reduction=\"sum\").to(device)\n",
    "Ne = 50 # Number of training epoch\n",
    "Nes = 100 # Number of training steps per epoch\n",
    "error = np.zeros(Ne)\n",
    "\n",
    "# TRAINING\n",
    "pbar = tqdm.trange(Ne)\n",
    "for e in pbar: \n",
    "    for s in range(Nes):\n",
    "        y = model(x)\n",
    "        loss = loss_fn(y, t)\n",
    "        optimizer.zero_grad()\n",
    "        loss.backward()\n",
    "        optimizer.step()\n",
    "    error[e] = loss.item() / ns\n",
    "    err_str =  \"{0:.3f}\".format(error[e] * 100).zfill(6)\n",
    "    pbar.set_description(f\"Error = {err_str}\")\n",
    "              \n",
    "      "
   ]
  },
  {
   "cell_type": "code",
   "execution_count": null,
   "metadata": {},
   "outputs": [],
   "source": [
    "# POST-PROCESSING\n",
    "\n",
    "fig = plt.figure()\n",
    "# plt.yscale(\"log\")\n",
    "plt.plot(error * 100, \"or-\")\n",
    "plt.xlabel(\"Epoch\")\n",
    "plt.ylabel(\"Loss [%]\")\n",
    "plt.yscale(\"log\")\n",
    "plt.grid()\n"
   ]
  },
  {
   "cell_type": "code",
   "execution_count": null,
   "metadata": {
    "scrolled": false
   },
   "outputs": [],
   "source": [
    "yt = model(torch.Tensor(pointsm).to(device)).cpu().data.numpy().ravel()\n",
    "\n",
    "\n",
    "fig = plt.figure()\n",
    "ax = fig.add_subplot(1, 3, 1)\n",
    "ax.set_aspect(\"equal\")\n",
    "plt.title(\"Model\")\n",
    "plt.tricontourf(pointsm.T[0], pointsm.T[1], solm, 2, cmap=mpl.cm.gray)\n",
    "ax.axis(\"off\")\n",
    "ax = fig.add_subplot(1, 3, 2)\n",
    "ax.set_aspect(\"equal\")\n",
    "plt.title(\"Learned\")\n",
    "plt.tricontourf(pointsm.T[0], pointsm.T[1], yt, cmap=mpl.cm.gray)\n",
    "ax.axis(\"off\")\n",
    "ax = fig.add_subplot(1, 3, 3)\n",
    "ax.set_aspect(\"equal\")\n",
    "plt.title(\"Error\")\n",
    "plt.tricontourf(pointsm.T[0], pointsm.T[1], yt - solm, cmap=mpl.cm.gray)\n",
    "ax.axis(\"off\")\n",
    "plt.show()\n"
   ]
  },
  {
   "cell_type": "code",
   "execution_count": null,
   "metadata": {},
   "outputs": [],
   "source": []
  },
  {
   "cell_type": "code",
   "execution_count": null,
   "metadata": {},
   "outputs": [],
   "source": []
  }
 ],
 "metadata": {
  "kernelspec": {
   "display_name": "Python 3.9.15 ('awesome')",
   "language": "python",
   "name": "python3"
  },
  "language_info": {
   "codemirror_mode": {
    "name": "ipython",
    "version": 3
   },
   "file_extension": ".py",
   "mimetype": "text/x-python",
   "name": "python",
   "nbconvert_exporter": "python",
   "pygments_lexer": "ipython3",
   "version": "3.9.15"
  },
  "vscode": {
   "interpreter": {
    "hash": "d6799c45d679ac48fdd26e1eb3113e14dab1680562a657d3f345b15f9022186a"
   }
  }
 },
 "nbformat": 4,
 "nbformat_minor": 2
}
