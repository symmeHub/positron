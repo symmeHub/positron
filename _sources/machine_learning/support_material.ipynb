{
 "cells": [
  {
   "cell_type": "code",
   "execution_count": null,
   "metadata": {
    "tags": [
     "hide-input"
    ]
   },
   "outputs": [],
   "source": [
    "from IPython.display import YouTubeVideo"
   ]
  },
  {
   "cell_type": "markdown",
   "metadata": {},
   "source": [
    "# Support material\n",
    "\n",
    "## Machine learning\n",
    "\n",
    "Machine learning is a type of artificial intelligence that allows machines to learn and improve their performance on a task based on data. The basic idea is to use algorithms to automatically identify patterns in data and use those patterns to make predictions or decisions.\n",
    "\n",
    "The process typically involves three main steps:\n",
    "\n",
    "1. Data preparation: This involves collecting, cleaning, and organizing data for use in training and testing machine learning models.\n",
    "2. Model training: In this step, a machine learning algorithm is applied to the data to create a model that can make predictions or decisions based on new data.\n",
    "3. Model evaluation: Once a model has been created, it is tested on a separate set of data to evaluate its accuracy and performance.\n",
    "\n",
    "There are many different types of machine learning algorithms, including supervised learning, unsupervised learning, and reinforcement learning. Supervised learning involves training a model using labeled data, while unsupervised learning involves finding patterns in unlabeled data. Reinforcement learning involves training a model through trial and error based on rewards and punishments.\n",
    "\n",
    "Machine learning is used in a wide variety of applications, from predicting customer behavior and optimizing supply chain management to detecting fraud and diagnosing diseases.\n",
    "For more general information, please read the [Wikipedia page on this topic](https://en.wikipedia.org/wiki/Machine_learning)\n",
    "\n",
    "You can also consult the following documents:\n",
    "* The excellent documentation of the Python module [Scikit-learn](https://scikit-learn.org/stable/).\n",
    "* Or the following videos.\n",
    "\n",
    "\n"
   ]
  },
  {
   "cell_type": "code",
   "execution_count": null,
   "metadata": {
    "tags": [
     "hide-input"
    ]
   },
   "outputs": [],
   "source": [
    "YouTubeVideo(\"trWrEWfhTVg\")"
   ]
  },
  {
   "cell_type": "code",
   "execution_count": null,
   "metadata": {
    "tags": [
     "hide-input"
    ]
   },
   "outputs": [],
   "source": [
    "YouTubeVideo(\"xuBzQ38DNhE\")"
   ]
  },
  {
   "cell_type": "markdown",
   "metadata": {},
   "source": [
    "## Neural networks\n",
    "\n",
    "Neural networks are a type of machine learning algorithm that are inspired by the structure and function of the human brain. They are used to model complex relationships between inputs and outputs in order to make predictions or decisions.\n",
    "\n",
    "The basic idea behind neural networks is to simulate the behavior of interconnected neurons in the brain. A neural network is made up of layers of artificial neurons, each of which takes in one or more inputs, performs a mathematical computation, and passes the result to the next layer of neurons.\n",
    "\n",
    "The first layer of neurons is called the input layer, and it receives input data. The last layer of neurons is called the output layer, and it produces the final output of the network. There may be one or more hidden layers of neurons in between the input and output layers, which perform intermediate computations.\n",
    "\n",
    "During training, the weights and biases of the neurons are adjusted so that the network can learn to make accurate predictions or decisions based on the input data. This is done by comparing the output of the network to the desired output, and using an optimization algorithm to adjust the weights and biases to minimize the difference between the two.\n",
    "\n",
    "There are many different types of neural networks, each with its own architecture and learning algorithm. Some common types include feedforward neural networks, recurrent neural networks, and convolutional neural networks. Neural networks are used in a wide range of applications, from image and speech recognition to natural language processing and autonomous vehicles."
   ]
  },
  {
   "cell_type": "code",
   "execution_count": null,
   "metadata": {
    "tags": [
     "hide-input"
    ]
   },
   "outputs": [],
   "source": [
    "YouTubeVideo(\"aircAruvnKk\")"
   ]
  },
  {
   "cell_type": "markdown",
   "metadata": {},
   "source": [
    "Here an explication from a French Youtube video maker"
   ]
  },
  {
   "cell_type": "code",
   "execution_count": null,
   "metadata": {
    "tags": [
     "hide-input"
    ]
   },
   "outputs": [],
   "source": [
    "YouTubeVideo(\"XUFLq6dKQok\")"
   ]
  }
 ],
 "metadata": {
  "kernelspec": {
   "display_name": "Python 3 (ipykernel)",
   "language": "python",
   "name": "python3"
  },
  "language_info": {
   "codemirror_mode": {
    "name": "ipython",
    "version": 3
   },
   "file_extension": ".py",
   "mimetype": "text/x-python",
   "name": "python",
   "nbconvert_exporter": "python",
   "pygments_lexer": "ipython3",
   "version": "3.9.15"
  }
 },
 "nbformat": 4,
 "nbformat_minor": 4
}
