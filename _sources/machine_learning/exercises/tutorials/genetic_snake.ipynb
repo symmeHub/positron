{
 "cells": [
  {
   "cell_type": "code",
   "execution_count": 1,
   "id": "c4ddc077-1c7c-4448-ac9a-6cf9e0768f54",
   "metadata": {
    "tags": [
     "hide-input"
    ]
   },
   "outputs": [],
   "source": [
    "# UNCOMMENT FOR INTERACTIVE PLOTTING\n",
    "# %matplotlib notebook\n",
    "%matplotlib widget\n",
    "import numpy as np\n",
    "import pandas as pd\n",
    "import matplotlib.pyplot as plt\n",
    "from matplotlib import animation, rc, cm\n",
    "import time\n",
    "from snakelib import FastSnake, show_gui, NeuralAgent\n",
    "\n",
    "rc(\"animation\", html=\"html5\")"
   ]
  },
  {
   "cell_type": "markdown",
   "id": "2e008533-84a5-4304-bb4d-1b3265213e48",
   "metadata": {},
   "source": [
    "(ML:practical_work:genetic_snake)=\n",
    "# Reinforcement learning on snake with a genetic neural network\n",
    "\n",
    ":::{admonition} Required files\n",
    ":class: important\n",
    "In order to work properly, this notebook requires the following modules in its folder:\n",
    "\n",
    "* {download}`snakelib.py <snakelib.py>`\n",
    "\n",
    "Put it in your working directory along with this notebook. \n",
    "\n",
    ":::\n",
    "\n",
    "\n",
    "This notebook is an example of supervised learning applied to video games. You will use the legendary game Snake rewritten in Python for the occasion and will try to develop an automatic game strategy. In a first step, by hand and in a second step using a genetic algorithm to evolve a neural network. Graphical examples will allow to see the evolution of the game performances.\n",
    "\n",
    "## Part 1: Try the game\n",
    "\n",
    "In this first part, you are asked to try the game and check that you understand the rules. Try to imagine what you need to know to win a game."
   ]
  },
  {
   "cell_type": "code",
   "execution_count": 2,
   "id": "fc3a7833-b07c-4b87-945e-4811ddbc69bf",
   "metadata": {},
   "outputs": [
    {
     "data": {
      "application/vnd.jupyter.widget-view+json": {
       "model_id": "b5791c2e686e4f0f95b2e10387642537",
       "version_major": 2,
       "version_minor": 0
      },
      "text/plain": [
       "Box(children=(Button(button_style='success', description='snake.turn(+1)', icon='arrow-left', style=ButtonStyl…"
      ]
     },
     "metadata": {},
     "output_type": "display_data"
    },
    {
     "data": {
      "application/vnd.jupyter.widget-view+json": {
       "model_id": "d0cbc26279ba4370a8017c13782be8e5",
       "version_major": 2,
       "version_minor": 0
      },
      "image/png": "[encoded data removed]",
      "text/html": [
       "\n",
       "            <div style=\"display: inline-block;\">\n",
       "                <div class=\"jupyter-widgets widget-label\" style=\"text-align: center;\">\n",
       "                    Figure\n",
       "                </div>\n",
       "                <img src='data:image/png;base64,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' width=640.0/>\n",
       "            </div>\n",
       "        "
      ],
      "text/plain": [
       "Canvas(toolbar=Toolbar(toolitems=[('Home', 'Reset original view', 'home', 'home'), ('Back', 'Back to previous …"
      ]
     },
     "metadata": {},
     "output_type": "display_data"
    }
   ],
   "source": [
    "fig = plt.figure()\n",
    "ax = fig.add_subplot(1, 1, 1)\n",
    "snake = FastSnake(Nrow=10, Ncol=10)\n",
    "show_gui(snake, ax)"
   ]
  },
  {
   "cell_type": "markdown",
   "id": "9c2bc019-c310-48a5-bbb2-2056f9cdb385",
   "metadata": {},
   "source": [
    "## SOME EXPLICATIONS\n",
    "### Sensors \n",
    "### Directions \n"
   ]
  },
  {
   "cell_type": "markdown",
   "id": "fd9d3043-b145-4ee7-8842-6a9c1ae8eaca",
   "metadata": {},
   "source": [
    "## Automatic playing\n",
    "\n",
    "At first, you are asked to build an agent that will play automatically. It will have to make decisions according to the snake's sensor values. These decisions are to choose the best direction to take."
   ]
  },
  {
   "cell_type": "code",
   "execution_count": 4,
   "id": "7c32b749-2416-4f98-8855-3da96200131b",
   "metadata": {},
   "outputs": [
    {
     "data": {
      "text/plain": [
       "-1"
      ]
     },
     "execution_count": 4,
     "metadata": {},
     "output_type": "execute_result"
    }
   ],
   "source": [
    "def my_agent(sensors):\n",
    "    \"\"\"\n",
    "    A simple agent demo.\n",
    "    \"\"\"\n",
    "    turn_neighbors = sensors[:3]\n",
    "    fcos, fsin = sensors[3:]\n",
    "    direction_ids = np.array([1, 0, -1])\n",
    "    # FRUIT IS NEAR ?\n",
    "    for direction in np.arange(3):\n",
    "        if turn_neighbors[direction] == 1:\n",
    "            return direction_ids[direction]\n",
    "    # OK, NO, THEN GET CLOSER TO IT ?\n",
    "    if 0.0 in turn_neighbors:\n",
    "        prefered_directions = np.zeros(3)\n",
    "        if fcos > 0.0:\n",
    "            prefered_directions[:] += 0, 3, 0\n",
    "        elif fcos < 0.0:\n",
    "            prefered_directions[:] += 1, 0, 1\n",
    "        if fsin < 0.0:\n",
    "            prefered_directions[:] += 0, 1, 1\n",
    "        elif fsin > 0.0:\n",
    "            prefered_directions[:] += 1, 1, 0\n",
    "        p = prefered_directions * (turn_neighbors >= 0.0)\n",
    "        my_choice = np.where(p == p.max())[0][0]\n",
    "        return direction_ids[my_choice]\n",
    "    else:\n",
    "        # OK LET'S SUICIDE\n",
    "        return np.random.randint(3)\n",
    "\n",
    "\n",
    "snake = FastSnake(Nrow=10, Ncol=10)\n",
    "my_choice = my_agent(snake.sensors())\n",
    "my_choice"
   ]
  },
  {
   "cell_type": "markdown",
   "id": "77b64b70-d4b0-405e-9205-ec21c78fec24",
   "metadata": {},
   "source": [
    "## Automatic play with graphic output\n"
   ]
  },
  {
   "cell_type": "code",
   "execution_count": null,
   "id": "559e69ae-be9c-4481-9ceb-cc974be91a53",
   "metadata": {
    "tags": [
     "hide-input"
    ]
   },
   "outputs": [],
   "source": [
    "snake5 = FastSnake(Nrow=15, Ncol=15)\n",
    "\n",
    "\n",
    "def updatefig(*args):\n",
    "    sensors = snake5.sensors()\n",
    "    my_choice = my_agent(sensors)\n",
    "    snake5.turn(my_choice)\n",
    "    im2.set_array(snake5.grid)\n",
    "    if snake5.status != 0:\n",
    "        snake5.reset()\n",
    "    return (im2,)\n",
    "\n",
    "\n",
    "fig2, ax2 = plt.subplots()\n",
    "ax2.axis(\"off\")\n",
    "im2 = plt.imshow(snake5.grid, interpolation=\"nearest\", animated=True)\n",
    "anim = animation.FuncAnimation(fig2, updatefig, frames=40, interval=50, blit=True)\n",
    "plt.show()  # UNCOMMENT TO PLAY\n",
    "# plt.close() # COMMENT TO PLAY\n",
    "# anim # COMMENT TO PLAY"
   ]
  },
  {
   "cell_type": "code",
   "execution_count": 10,
   "id": "4b936dcf-3ce6-4542-b3fb-b7990401190f",
   "metadata": {
    "tags": [
     "hide-input"
    ]
   },
   "outputs": [],
   "source": [
    "anim.pause()\n",
    "plt.close(fig2)"
   ]
  },
  {
   "cell_type": "markdown",
   "id": "aa883a8a-7d5f-497b-a10e-660ba8e1e7a9",
   "metadata": {},
   "source": [
    "## Benchmark"
   ]
  },
  {
   "cell_type": "code",
   "execution_count": 11,
   "id": "25834cf6-8776-479a-bfb4-e406e24ae0a1",
   "metadata": {
    "tags": [
     "hide-input"
    ]
   },
   "outputs": [],
   "source": [
    "Nagent_ids = 200\n",
    "max_turns = 1000\n",
    "snake3 = FastSnake(Nrow=10, Ncol=10)\n",
    "scores = np.zeros(Nagent_ids)\n",
    "turns = np.zeros(Nagent_ids)\n",
    "# for agent_id in tqdm.trange(Nagent_ids):\n",
    "for agent_id in range(Nagent_ids):\n",
    "    snake3.reset()\n",
    "    turn = 0\n",
    "    while snake3.status == 0:\n",
    "        sensors = snake3.sensors()\n",
    "        my_choice = my_agent(sensors)\n",
    "        snake3.turn(my_choice)\n",
    "        turn += 1\n",
    "        if turn >= max_turns:\n",
    "            break\n",
    "    scores[agent_id] = snake3.score\n",
    "    turns[agent_id] = turn"
   ]
  },
  {
   "cell_type": "code",
   "execution_count": 12,
   "id": "db09fbfe-bb14-4376-8633-bb00eee5585e",
   "metadata": {
    "tags": [
     "hide-input"
    ]
   },
   "outputs": [
    {
     "data": {
      "text/html": [
       "<div>\n",
       "<style scoped>\n",
       "    .dataframe tbody tr th:only-of-type {\n",
       "        vertical-align: middle;\n",
       "    }\n",
       "\n",
       "    .dataframe tbody tr th {\n",
       "        vertical-align: top;\n",
       "    }\n",
       "\n",
       "    .dataframe thead th {\n",
       "        text-align: right;\n",
       "    }\n",
       "</style>\n",
       "<table border=\"1\" class=\"dataframe\">\n",
       "  <thead>\n",
       "    <tr style=\"text-align: right;\">\n",
       "      <th></th>\n",
       "      <th>mean</th>\n",
       "      <th>std</th>\n",
       "      <th>max</th>\n",
       "      <th>min</th>\n",
       "      <th>count</th>\n",
       "    </tr>\n",
       "  </thead>\n",
       "  <tbody>\n",
       "    <tr>\n",
       "      <th>score</th>\n",
       "      <td>13.155</td>\n",
       "      <td>4.481225</td>\n",
       "      <td>28.0</td>\n",
       "      <td>2.0</td>\n",
       "      <td>200.0</td>\n",
       "    </tr>\n",
       "    <tr>\n",
       "      <th>turns</th>\n",
       "      <td>93.175</td>\n",
       "      <td>35.743705</td>\n",
       "      <td>218.0</td>\n",
       "      <td>21.0</td>\n",
       "      <td>200.0</td>\n",
       "    </tr>\n",
       "  </tbody>\n",
       "</table>\n",
       "</div>"
      ],
      "text/plain": [
       "         mean        std    max   min  count\n",
       "score  13.155   4.481225   28.0   2.0  200.0\n",
       "turns  93.175  35.743705  218.0  21.0  200.0"
      ]
     },
     "execution_count": 12,
     "metadata": {},
     "output_type": "execute_result"
    }
   ],
   "source": [
    "data = pd.DataFrame({\"score\": scores, \"turns\": turns})\n",
    "data.describe().loc[[\"mean\", \"std\", \"max\", \"min\", \"count\"]].T"
   ]
  },
  {
   "cell_type": "markdown",
   "id": "37ce6eaa-8250-4894-a62b-9010f6911cae",
   "metadata": {},
   "source": [
    "## Genetic Neural Network agent "
   ]
  },
  {
   "cell_type": "code",
   "execution_count": 13,
   "id": "c7248a2a-6ef9-43c2-b1ab-12ad6f9f2640",
   "metadata": {
    "tags": []
   },
   "outputs": [],
   "source": [
    "# NEURAL FUNCTIONS\n",
    "def sigmoid(x):\n",
    "    return 1.0 / (1.0 + np.exp(-x))\n",
    "\n",
    "\n",
    "def ReLu(x):\n",
    "    return np.where(x > 0.0, x, 0.0)\n",
    "\n",
    "\n",
    "def identity(x):\n",
    "    return x\n",
    "\n",
    "\n",
    "# ARG MAX\n",
    "def argMax(x):\n",
    "    return int(np.where(x == x.max())[0][0])\n",
    "\n",
    "\n",
    "# GENETIC ALGORITHM SETUP\n",
    "\n",
    "Npop = 50  # NUMBER OF INDIVIDUALS IN THE POPULATION\n",
    "Ngen = 2  # NUMBER OF GENERATIONS OF EVOLUTION\n",
    "Ntries = 2  # NUMBER OF TRIES PER INDIVIDUAL PER GENERATION\n",
    "Net_struct = 5, 3  # NETWORK STRUCTURE\n",
    "keep_ratio = 0.1  # # GENETIC ALGORITHM KEEP RATIO\n",
    "mutation_ratio = 0.1  # MUTATION RATIO\n",
    "mutation_sigma = 0.1  # MUTATION GAUSSIAN SIGMA\n",
    "max_turns = 1000  # MAX PLAY TURNS PER TRIAL\n",
    "neural_functions = [identity]  # NEURAL FUNCTION VECTOR\n",
    "\n",
    "\n",
    "# PRE-PROCESSING\n",
    "keep_individuals = int(keep_ratio * Npop)\n",
    "Nw = 0\n",
    "for i in range(len(Net_struct) - 1):\n",
    "    nin = Net_struct[i]\n",
    "    nout = Net_struct[i + 1]\n",
    "    Nw += (nin + 1) * nout\n",
    "all_weights = np.random.normal(loc=0.0, scale=1.0, size=(Npop, Nw))\n",
    "agents = []\n",
    "for agent_id in range(Npop):\n",
    "    weights = all_weights[agent_id]\n",
    "    agent = NeuralAgent(\n",
    "        weights=weights, structure=Net_struct, neural_functions=neural_functions\n",
    "    )\n",
    "    agents.append(agent)\n",
    "agent_functions = [agent.get_caller() for agent in agents]\n",
    "func = agent_functions[0]\n",
    "total_generations = 1"
   ]
  },
  {
   "cell_type": "code",
   "execution_count": null,
   "id": "fbf47619-bb81-4613-b596-54ed18d5d47a",
   "metadata": {},
   "outputs": [],
   "source": []
  },
  {
   "cell_type": "code",
   "execution_count": 15,
   "id": "f694920f-fcb3-4101-8215-0123a2d510c1",
   "metadata": {
    "tags": []
   },
   "outputs": [
    {
     "name": "stdout",
     "output_type": "stream",
     "text": [
      "Generation: 11\n",
      "=> best score = 29.5\n",
      "   score  turns  perf\n",
      "0   29.5  404.5  29.5\n",
      "1   29.5  362.5  29.5\n",
      "2   28.0  388.5  28.0\n",
      "3   26.0  416.0  26.0\n",
      "4   25.5  307.5  25.5\n",
      "Generation: 12\n",
      "=> best score = 30.5\n",
      "   score  turns  perf\n",
      "0   30.5  408.5  30.5\n",
      "1   29.5  364.0  29.5\n",
      "2   28.5  336.0  28.5\n",
      "3   28.0  314.5  28.0\n",
      "4   27.5  320.0  27.5\n",
      "Generation: 13\n",
      "=> best score = 32.0\n",
      "   score  turns  perf\n",
      "0   32.0  339.0  32.0\n",
      "1   29.5  356.0  29.5\n",
      "2   27.5  330.0  27.5\n",
      "3   27.5  308.0  27.5\n",
      "4   26.0  397.5  26.0\n",
      "Generation: 14\n",
      "=> best score = 30.5\n",
      "   score  turns  perf\n",
      "0   30.5  432.5  30.5\n",
      "1   30.0  459.0  30.0\n",
      "2   29.0  338.5  29.0\n",
      "3   28.5  316.5  28.5\n",
      "4   28.5  365.5  28.5\n",
      "Generation: 15\n",
      "=> best score = 31.5\n",
      "   score  turns  perf\n",
      "0   31.5  456.5  31.5\n",
      "1   30.5  476.5  30.5\n",
      "2   30.0  353.0  30.0\n",
      "3   29.0  397.0  29.0\n",
      "4   28.5  396.0  28.5\n",
      "Generation: 16\n",
      "=> best score = 33.0\n",
      "   score  turns  perf\n",
      "0   33.0  439.0  33.0\n",
      "1   31.5  410.5  31.5\n",
      "2   29.0  436.0  29.0\n",
      "3   27.0  419.0  27.0\n",
      "4   26.5  350.0  26.5\n",
      "Generation: 17\n",
      "=> best score = 34.0\n",
      "   score  turns  perf\n",
      "0   34.0  523.5  34.0\n",
      "1   31.5  498.5  31.5\n",
      "2   30.5  410.5  30.5\n",
      "3   30.0  364.5  30.0\n",
      "4   30.0  451.5  30.0\n",
      "Generation: 18\n",
      "=> best score = 30.0\n",
      "   score  turns  perf\n",
      "0   30.0  378.0  30.0\n",
      "1   30.0  415.5  30.0\n",
      "2   30.0  456.5  30.0\n",
      "3   28.5  346.5  28.5\n",
      "4   28.5  358.0  28.5\n",
      "Generation: 19\n",
      "=> best score = 31.0\n",
      "   score  turns  perf\n",
      "0   31.0  420.5  31.0\n",
      "1   26.0  362.5  26.0\n",
      "2   26.0  361.0  26.0\n",
      "3   25.5  300.5  25.5\n",
      "4   24.5  344.0  24.5\n",
      "Generation: 20\n",
      "=> best score = 33.5\n",
      "   score  turns  perf\n",
      "0   33.5  428.5  33.5\n",
      "1   30.5  398.0  30.5\n",
      "2   29.5  407.5  29.5\n",
      "3   29.5  434.5  29.5\n",
      "4   29.0  372.5  29.0\n",
      "FINISHED\n"
     ]
    }
   ],
   "source": [
    "# DATA STORAGE\n",
    "snake4 = FastSnake(Nrow=12, Ncol=12)\n",
    "scores = np.zeros(Npop)\n",
    "turns = np.zeros(Npop)\n",
    "tries_scores = np.zeros(Ntries)\n",
    "tries_turns = np.zeros(Ntries)\n",
    "new_all_weights = np.zeros_like(all_weights)\n",
    "turn_ids = np.array([-1.0, 0.0, 1.0])\n",
    "for generation in range(Ngen):\n",
    "    print(f\"Generation: {total_generations}\")\n",
    "    scores[:] = 0.0\n",
    "    turns[:] = 0.0\n",
    "    for agent_id in range(Npop):  # tqdm.trange(Npop):\n",
    "        tries_scores[:] = 0.0\n",
    "        tries_turns[:] = 0.0\n",
    "        agent_func = agent_functions[agent_id]\n",
    "        for trial in range(Ntries):\n",
    "            snake4.reset()\n",
    "            Ncol = snake4.Ncol\n",
    "            Nrow = snake4.Nrow\n",
    "            snake4.fruit_position = (Nrow - 2) * Ncol + Ncol - 2\n",
    "            turn = 0\n",
    "            # weights = all_weights[agent_id]\n",
    "            while snake4.status == 0:\n",
    "                sensors = snake4.sensors()\n",
    "                my_choice = turn_ids[argMax(agent_func(sensors))]\n",
    "                snake4.turn(my_choice)\n",
    "                turn += 1\n",
    "                if turn >= max_turns:\n",
    "                    break\n",
    "            tries_scores[trial] = snake4.score\n",
    "            tries_turns[trial] = turn\n",
    "        scores[agent_id] = tries_scores.mean()\n",
    "        turns[agent_id] = tries_turns.mean()\n",
    "    perf = scores\n",
    "    order = np.argsort(perf)[::-1]\n",
    "    new_all_weights[:] = 0.0\n",
    "    # SELECTION\n",
    "    new_all_weights[:keep_individuals] = all_weights[order][:keep_individuals]\n",
    "    # HYBRIDATION\n",
    "    keep_range = np.arange(keep_individuals)\n",
    "    for indiv in range(keep_individuals, Npop):\n",
    "        parents = np.random.choice(keep_range, 2)\n",
    "        while parents[1] == parents[0]:\n",
    "            parents = np.random.choice(keep_range, 2)\n",
    "        # parents = np.array([0, np.random.randint(1, keep_individuals)])\n",
    "        pw = np.random.rand()\n",
    "        # w = new_all_weights[parents[0]] * pw + (1.0 - pw) + new_all_weights[parents[1]]\n",
    "        cross_over = np.random.randint(1, Nw - 1)\n",
    "        # new_all_weights[indiv][:cross_over] = new_all_weights[parents[0]][:cross_over]\n",
    "        # new_all_weights[indiv][cross_over:] = new_all_weights[parents[1]][cross_over:]\n",
    "        # #= new_all_weights[parents[0]]\n",
    "        new_all_weights[indiv] = (\n",
    "            new_all_weights[parents[0]] * pw + (1.0 - pw) + new_all_weights[parents[1]]\n",
    "        )\n",
    "        # MUTATION:\n",
    "        if np.random.rand() <= mutation_ratio:\n",
    "            mutation_loc = np.random.randint(Nw)\n",
    "            new_all_weights[indiv] *= np.random.normal(\n",
    "                loc=1.0, scale=mutation_sigma, size=Nw\n",
    "            )\n",
    "\n",
    "        # new_all_weights[indiv] = w\n",
    "    total_generations += 1\n",
    "    all_weights[:] = new_all_weights\n",
    "    print(f\"=> best score = {scores.max()}\")\n",
    "\n",
    "    data = pd.DataFrame(\n",
    "        {\"score\": scores[order], \"turns\": turns[order], \"perf\": perf[order]}\n",
    "    )  # .sort_values( \"perf\", ascending=False    )\n",
    "    print(data.head(5))\n",
    "print(\"FINISHED\")"
   ]
  },
  {
   "cell_type": "code",
   "execution_count": null,
   "id": "74a09602-697c-4acc-980c-21c85de39023",
   "metadata": {},
   "outputs": [],
   "source": [
    "snake5 = FastSnake(Nrow=12, Ncol=12)\n",
    "\n",
    "# weights = all_weights[0]  # BEST AGENT\n",
    "best_agent_func = agent_functions[0]\n",
    "turn_ids = np.array([-1.0, 0.0, 1.0])\n",
    "\n",
    "\n",
    "def updatefig(*args):\n",
    "    sensors = snake5.sensors()\n",
    "    my_choice = turn_ids[argMax(agent_func(sensors))]\n",
    "\n",
    "    snake5.turn(my_choice)\n",
    "    im2.set_array(snake5.grid)\n",
    "    if snake5.status != 0:\n",
    "        snake5.reset()\n",
    "    return (im2,)\n",
    "\n",
    "\n",
    "fig2, ax2 = plt.subplots()\n",
    "ax2.axis(\"off\")\n",
    "im2 = plt.imshow(snake5.grid, interpolation=\"nearest\", animated=True)\n",
    "anim = animation.FuncAnimation(fig2, updatefig, frames=500, interval=50, blit=True)\n",
    "plt.show()"
   ]
  },
  {
   "cell_type": "code",
   "execution_count": null,
   "id": "8ccaefc4-9b26-49b9-b0d6-8e2a29dd60ed",
   "metadata": {},
   "outputs": [],
   "source": []
  }
 ],
 "metadata": {
  "kernelspec": {
   "display_name": "Python 3 (ipykernel)",
   "language": "python",
   "name": "python3"
  },
  "language_info": {
   "codemirror_mode": {
    "name": "ipython",
    "version": 3
   },
   "file_extension": ".py",
   "mimetype": "text/x-python",
   "name": "python",
   "nbconvert_exporter": "python",
   "pygments_lexer": "ipython3",
   "version": "3.9.15"
  }
 },
 "nbformat": 4,
 "nbformat_minor": 5
}
