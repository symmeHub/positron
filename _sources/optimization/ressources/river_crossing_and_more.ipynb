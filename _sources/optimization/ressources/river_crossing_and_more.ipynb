{
 "cells": [
  {
   "cell_type": "markdown",
   "metadata": {
    "toc": true
   },
   "source": [
    "<h1>Table of Contents<span class=\"tocSkip\"></span></h1>\n",
    "<div class=\"toc\"><ul class=\"toc-item\"><li><span><a href=\"#Physical-model\" data-toc-modified-id=\"Physical-model-1\"><span class=\"toc-item-num\">1&nbsp;&nbsp;</span>Physical model</a></span></li><li><span><a href=\"#Optimisation-probleme-formulation\" data-toc-modified-id=\"Optimisation-probleme-formulation-2\"><span class=\"toc-item-num\">2&nbsp;&nbsp;</span>Optimisation probleme formulation</a></span></li><li><span><a href=\"#Solve-Problem\" data-toc-modified-id=\"Solve-Problem-3\"><span class=\"toc-item-num\">3&nbsp;&nbsp;</span>Solve Problem</a></span></li><li><span><a href=\"#Brut-Force-approach\" data-toc-modified-id=\"Brut-Force-approach-4\"><span class=\"toc-item-num\">4&nbsp;&nbsp;</span>Brut Force approach</a></span></li></ul></div>"
   ]
  },
  {
   "cell_type": "code",
   "execution_count": null,
   "metadata": {
    "tags": [
     "hide-input"
    ]
   },
   "outputs": [],
   "source": [
    "#%matplotlib notebook\n",
    "%matplotlib widget\n",
    "import matplotlib.pyplot as plt\n",
    "import numpy as np\n",
    "from scipy import optimize\n",
    "import ipywidgets as ipw\n",
    "from matplotlib import cm\n",
    "import ipywidgets as widgets\n",
    "from scipy import integrate\n",
    "\n"
   ]
  },
  {
   "cell_type": "markdown",
   "metadata": {},
   "source": [
    "# Illustration : Crossing a river\n",
    "This example deal with the case of a person who wants to cross a river in a minimum of time. \n",
    "\n",
    "\n",
    "Problem statement:\n",
    "* the velocity on the ground is 10 km/h\n",
    "* the swimming velocity is 1 km/h\n",
    "* the starting point and the ending point are fixed\n",
    "* the width of the river is fixed (40m)\n",
    "\n",
    "Based on this problem we will go through the formulation of the optimization method and its resolution. \n",
    "The following points have to be addressed : "
   ]
  },
  {
   "cell_type": "markdown",
   "metadata": {},
   "source": [
    "* Problem formulation:\n",
    "\n",
    "* Objective: \n",
    "\n",
    "* Variables: \n",
    "\n",
    "* Constraints: \n",
    "\n",
    "* Objective function: \n",
    "\n",
    "* Resolution method: \n"
   ]
  },
  {
   "cell_type": "markdown",
   "metadata": {},
   "source": [
    "## Problem statement : model formulation\n",
    "### Where is the river :  model the river\n",
    "The river is an area wher the velocity is lower."
   ]
  },
  {
   "cell_type": "code",
   "execution_count": null,
   "metadata": {},
   "outputs": [],
   "source": [
    "groung_v = 10.0 / 3.6\n",
    "swim_v = 1.0 / 3.6\n",
    "\n",
    "y1_river = 40\n",
    "y2_river = 80\n",
    "\n",
    "\n",
    "def world_definition(x, y):\n",
    "    v = swim_v * np.ones_like(x)\n",
    "    v[y <= y1_river] = groung_v\n",
    "    v[y > y2_river] = groung_v\n",
    "    return v\n",
    "\n",
    "\n",
    "x = np.linspace(0, 100, 100)\n",
    "y = np.linspace(0, 120, 150)\n",
    "x_world, y_world = np.meshgrid(x, y, indexing=\"xy\")\n",
    "v_world = world_definition(x_world, y_world)"
   ]
  },
  {
   "cell_type": "code",
   "execution_count": null,
   "metadata": {},
   "outputs": [],
   "source": [
    "plt.figure()\n",
    "plt.contourf(x_world, y_world, v_world, 20, cmap=cm.jet)\n",
    "plt.title(\"Velocity map [m/s]\")\n",
    "plt.colorbar()\n",
    "plt.show()"
   ]
  },
  {
   "cell_type": "markdown",
   "metadata": {},
   "source": [
    "### Starting and ending points : defintion of the path"
   ]
  },
  {
   "cell_type": "code",
   "execution_count": null,
   "metadata": {},
   "outputs": [],
   "source": [
    "path = np.array([[5.0, 5.0], [15.0, y1_river], [25, y2_river], [80, 85]])\n",
    "\n",
    "plt.figure()\n",
    "plt.contourf(x_world, y_world, v_world, 20, cmap=cm.jet)\n",
    "plt.plot(path[:, 0], path[:, 1], \"go-\")\n",
    "plt.title(\"Velocity map [m/s]\")\n",
    "plt.colorbar()"
   ]
  },
  {
   "cell_type": "markdown",
   "metadata": {},
   "source": [
    "## model the river crossing : compute the velocity and the duration to go trougth the path\n",
    "\n",
    "* first lrt's work on one segment of the path :"
   ]
  },
  {
   "cell_type": "code",
   "execution_count": null,
   "metadata": {},
   "outputs": [],
   "source": [
    "def arc_duration(seg, nb_sub=20):\n",
    "    seg = seg.T\n",
    "    sub = np.linspace(seg[:, 0], seg[:, 1], nb_sub)\n",
    "    sub = sub[:-1] + np.diff(sub, axis=0) / 2\n",
    "    sub_length = np.linalg.norm(np.diff(seg)) / (nb_sub - 1)\n",
    "    v = world_definition(sub[:, 0], sub[:, 1])\n",
    "    duration = (sub_length / v).sum()\n",
    "    return duration, sub, v"
   ]
  },
  {
   "cell_type": "code",
   "execution_count": null,
   "metadata": {},
   "outputs": [],
   "source": [
    "# test for one segment of the path\n",
    "seg = path[:2, :]\n",
    "duration, sub, v = arc_duration(seg, nb_sub=20)\n",
    "duration"
   ]
  },
  {
   "cell_type": "markdown",
   "metadata": {},
   "source": [
    "* Now we can work on the full path :"
   ]
  },
  {
   "cell_type": "code",
   "execution_count": null,
   "metadata": {},
   "outputs": [],
   "source": [
    "total = 0\n",
    "for i in range(len(path) - 1):\n",
    "    seg = path[i : i + 2, :]\n",
    "    duration, sub, v = arc_duration(seg, nb_sub=20)\n",
    "    total += duration\n",
    "    print(\"segment {0} : {1:0.2f}s\".format(i, duration))\n",
    "print(\"Total   : {0:0.2f}s\".format(total))"
   ]
  },
  {
   "cell_type": "code",
   "execution_count": null,
   "metadata": {},
   "outputs": [],
   "source": [
    "def total_duration(path, blabla=False):\n",
    "    total = 0.0\n",
    "    for i in range(len(path) - 1):\n",
    "        seg = path[i : i + 2, :].copy()\n",
    "        duration, _, _ = arc_duration(seg, nb_sub=20)\n",
    "        total += duration\n",
    "        if blabla:\n",
    "            print(\"segment {0} : {1:0.1f}s\".format(i, duration))\n",
    "    if blabla:\n",
    "        print(\"Total   : {0:0.1f}s\".format(total))\n",
    "    return total\n",
    "\n",
    "\n",
    "# test for the path\n",
    "total_duration(path, blabla=True)"
   ]
  },
  {
   "cell_type": "markdown",
   "metadata": {},
   "source": [
    "### Widget plot"
   ]
  },
  {
   "cell_type": "code",
   "execution_count": null,
   "metadata": {},
   "outputs": [],
   "source": [
    "plt.figure()\n",
    "(l,) = plt.plot(path[:, 0], path[:, 1], \"y-o\")\n",
    "plt.contourf(x_world, y_world, v_world, 20, cmap=cm.jet)\n",
    "title = plt.title(\"duration\")\n",
    "\n",
    "\n",
    "@ipw.interact(x1=(0.0, 100, 1), x2=(0.0, 100, 1))\n",
    "def update(x1=30, x2=30):\n",
    "    path[1, 0] = x1\n",
    "    path[2, 0] = x2\n",
    "    t_total = total_duration(path, blabla=False)\n",
    "    l.set_data(path[:, 0], path[:, 1])\n",
    "    title.set_text(\"Total   : {0:0.1f}s\".format(t_total))"
   ]
  },
  {
   "cell_type": "markdown",
   "metadata": {
    "tags": []
   },
   "source": [
    "### What is the optimal solution ?\n",
    "#### First idea : test all combination "
   ]
  },
  {
   "cell_type": "code",
   "execution_count": null,
   "metadata": {},
   "outputs": [],
   "source": [
    "Nx, Ny = 30, 30\n",
    "x1 = np.linspace(5, 100, Nx)\n",
    "x2 = np.linspace(5, 100, Ny)\n",
    "X, Y = np.meshgrid(x1, x2)\n",
    "Z = np.zeros_like(X)\n",
    "\n",
    "for i in range(len(X)):\n",
    "    for j in range(len(Y)):\n",
    "        path[1, 0] = X[i, j]\n",
    "        path[2, 0] = Y[i, j]\n",
    "        Z[i, j] = total_duration(path, blabla=False)"
   ]
  },
  {
   "cell_type": "markdown",
   "metadata": {},
   "source": [
    "##### Find the min"
   ]
  },
  {
   "cell_type": "code",
   "execution_count": null,
   "metadata": {},
   "outputs": [],
   "source": [
    "x1_min, x2_min = np.where(np.min(Z) == Z)\n",
    "X_min = X[x1_min, x2_min]\n",
    "Y_min = Y[x1_min, x2_min]\n",
    "print(X_min, Y_min)"
   ]
  },
  {
   "cell_type": "code",
   "execution_count": null,
   "metadata": {},
   "outputs": [],
   "source": [
    "plt.figure()\n",
    "title = plt.title(\"\")\n",
    "# plt.contourf(X, Y, Z, 20, cmap=cm.jet)\n",
    "# plt.colorbar()\n",
    "# plt.contour(X, Y, Z, 20, cmap=cm.gray)\n",
    "plt.scatter(X, Y, c=Z, s=50, cmap=cm.jet)\n",
    "plt.plot(X_min, Y_min, \"*y\")\n",
    "plt.colorbar()\n",
    "plt.xlabel(\"Diving position [m]\")\n",
    "plt.ylabel(\"Dout of water [m]\")\n",
    "plt.show()"
   ]
  },
  {
   "cell_type": "markdown",
   "metadata": {},
   "source": [
    "### Is that realistic with a finer grid ? (or in larger dimension)"
   ]
  },
  {
   "cell_type": "code",
   "execution_count": null,
   "metadata": {},
   "outputs": [],
   "source": [
    "%%timeit\n",
    "total_duration(path, blabla=False)"
   ]
  },
  {
   "cell_type": "markdown",
   "metadata": {},
   "source": [
    "### Usning optimization methode"
   ]
  },
  {
   "cell_type": "code",
   "execution_count": null,
   "metadata": {},
   "outputs": [],
   "source": [
    "def cost(X):\n",
    "    path[1, 0] = X[0]\n",
    "    path[2, 0] = X[1]\n",
    "    return total_duration(path, blabla=False)"
   ]
  },
  {
   "cell_type": "code",
   "execution_count": null,
   "metadata": {},
   "outputs": [],
   "source": [
    "from scipy import optimize"
   ]
  },
  {
   "cell_type": "code",
   "execution_count": null,
   "metadata": {},
   "outputs": [],
   "source": [
    "sol = optimize.minimize(cost, [10.0, 10.0], method=\"Nelder-Mead\")"
   ]
  },
  {
   "cell_type": "code",
   "execution_count": null,
   "metadata": {},
   "outputs": [],
   "source": [
    "plt.figure()\n",
    "plt.contourf(x_world, y_world, v_world, 20, cmap=cm.jet)\n",
    "plt.plot(path[:, 0], path[:, 1], \"go-\", label=\"optimal path\")\n",
    "plt.title(\"Velocity map [m/s]\")\n",
    "plt.legend()\n",
    "plt.colorbar()"
   ]
  },
  {
   "cell_type": "markdown",
   "metadata": {},
   "source": [
    "## Crossing another river : higer dimension\n",
    "The person can swim faster close to the river side."
   ]
  },
  {
   "cell_type": "code",
   "execution_count": null,
   "metadata": {},
   "outputs": [],
   "source": [
    "def world_definition(x, y):\n",
    "    v = swim_v * np.ones_like(x)\n",
    "    v = swim_v + (1 - 0.8 * np.cos(2 * np.pi * (y - 60) / 40))\n",
    "    v[y <= y1_river] = groung_v\n",
    "    v[y > y2_river] = groung_v\n",
    "    return v\n",
    "\n",
    "\n",
    "x = np.linspace(0, 100, 100)\n",
    "y = np.linspace(0, 120, 150)\n",
    "\n",
    "x_world, y_world = np.meshgrid(x, y, indexing=\"xy\")\n",
    "v_world = world_definition(x_world, y_world)"
   ]
  },
  {
   "cell_type": "code",
   "execution_count": null,
   "metadata": {},
   "outputs": [],
   "source": [
    "plt.figure()\n",
    "plt.contourf(x_world, y_world, v_world, 20, cmap=cm.jet)\n",
    "plt.title(\"Velocity map\")\n",
    "plt.colorbar()\n",
    "plt.show()"
   ]
  },
  {
   "cell_type": "markdown",
   "metadata": {},
   "source": [
    "Is that still relevant to go straight ?"
   ]
  },
  {
   "cell_type": "markdown",
   "metadata": {},
   "source": [
    "### Add more control points"
   ]
  },
  {
   "cell_type": "code",
   "execution_count": null,
   "metadata": {},
   "outputs": [],
   "source": [
    "path_init = np.linspace([5.0, 5.0], [80.0, 100.0], 10)\n",
    "path = np.copy(path_init)"
   ]
  },
  {
   "cell_type": "code",
   "execution_count": null,
   "metadata": {},
   "outputs": [],
   "source": [
    "def cost_n_points(X):\n",
    "    for i in range(len(X)):\n",
    "        path[i + 1, 0] = X[i]\n",
    "    return total_duration(path, blabla=False)"
   ]
  },
  {
   "cell_type": "code",
   "execution_count": null,
   "metadata": {},
   "outputs": [],
   "source": [
    "init_guess = np.copy(path_init[:-2, 0])\n",
    "sol = optimize.minimize(cost_n_points, init_guess, method=\"Nelder-Mead\")\n",
    "X = sol.x\n",
    "for i in range(len(X)):\n",
    "    path[i + 1, 0] = X[i]"
   ]
  },
  {
   "cell_type": "code",
   "execution_count": null,
   "metadata": {},
   "outputs": [],
   "source": [
    "sol"
   ]
  },
  {
   "cell_type": "code",
   "execution_count": null,
   "metadata": {},
   "outputs": [],
   "source": [
    "plt.figure()\n",
    "plt.contourf(x_world, y_world, v_world, 20, cmap=cm.jet, alpha=0.5)\n",
    "plt.plot(path_init[:, 0], path_init[:, 1], \"o:g\")\n",
    "plt.plot(path[:, 0], path[:, 1], \"o-r\")\n",
    "plt.title(\"Velocity map\")\n",
    "plt.colorbar()"
   ]
  },
  {
   "cell_type": "markdown",
   "metadata": {},
   "source": [
    "## Crossing a river with a crocodile : Add constrainte"
   ]
  },
  {
   "cell_type": "code",
   "execution_count": null,
   "metadata": {},
   "outputs": [],
   "source": [
    "# Low velocity\n",
    "def invexp(x, y, tau, cx, cy):\n",
    "    return np.exp(-(((x - cx) / tau) ** 2) - ((y - cy) / tau) ** 2)\n",
    "\n",
    "\n",
    "def world_definition(x, y):\n",
    "    v = swim_v * np.ones_like(x)\n",
    "    v = swim_v + (1 - 0.8 * np.cos(2 * np.pi * (y - 60) / 40))\n",
    "    tau = 5\n",
    "    v = v * ((1 + 0.1) - invexp(x, y, tau, 50, 60))\n",
    "    v[y <= y1_river] = groung_v\n",
    "    v[y > y2_river] = groung_v\n",
    "    return v\n",
    "\n",
    "\n",
    "x = np.linspace(0, 100, 100)\n",
    "y = np.linspace(0, 120, 150)\n",
    "\n",
    "x_world, y_world = np.meshgrid(x, y, indexing=\"xy\")\n",
    "v_world = world_definition(x_world, y_world)"
   ]
  },
  {
   "cell_type": "code",
   "execution_count": null,
   "metadata": {},
   "outputs": [],
   "source": [
    "plt.figure()\n",
    "plt.contourf(x_world, y_world, v_world, 20, cmap=cm.jet)\n",
    "plt.title(\"Velocity map\")\n",
    "plt.colorbar()\n",
    "plt.show()"
   ]
  },
  {
   "cell_type": "markdown",
   "metadata": {},
   "source": [
    "### With 2 parametres  (2D Problems)"
   ]
  },
  {
   "cell_type": "code",
   "execution_count": null,
   "metadata": {},
   "outputs": [],
   "source": [
    "path = np.array([[5.0, 5.0], [15.0, y1_river], [25, y2_river], [80, 85]])"
   ]
  },
  {
   "cell_type": "code",
   "execution_count": null,
   "metadata": {},
   "outputs": [],
   "source": [
    "Nx, Ny = 25, 25\n",
    "x1 = np.linspace(5, 100, Nx)\n",
    "x2 = np.linspace(5, 100, Ny)\n",
    "X, Y = np.meshgrid(x1, x2)\n",
    "Z = np.zeros_like(X)\n",
    "for i in range(len(X)):\n",
    "    for j in range(len(Y)):\n",
    "        path[1, 0] = X[i, j]\n",
    "        path[2, 0] = Y[i, j]\n",
    "        Z[i, j] = total_duration(path, blabla=False)"
   ]
  },
  {
   "cell_type": "code",
   "execution_count": null,
   "metadata": {},
   "outputs": [],
   "source": [
    "x1_min, x2_min = np.where(np.min(Z) == Z)\n",
    "X_min = X[x1_min, x2_min]\n",
    "Y_min = Y[x1_min, x2_min]\n",
    "print(X_min, Y_min)"
   ]
  },
  {
   "cell_type": "code",
   "execution_count": null,
   "metadata": {},
   "outputs": [],
   "source": [
    "plt.figure()\n",
    "title = plt.title(\"\")\n",
    "plt.contourf(X, Y, Z, 20, cmap=cm.jet)\n",
    "plt.colorbar()\n",
    "plt.contour(X, Y, Z, 20, cmap=cm.gray)\n",
    "plt.scatter(X, Y, c=Z, s=20, cmap=cm.jet)\n",
    "plt.plot(X_min, Y_min, \"or\")\n",
    "plt.colorbar()\n",
    "plt.xlabel(\"Diving position [m]\")\n",
    "plt.ylabel(\"Dout of water [m]\")\n",
    "plt.show()"
   ]
  },
  {
   "cell_type": "markdown",
   "metadata": {},
   "source": [
    "### With N parametres  (ND Problems)"
   ]
  },
  {
   "cell_type": "code",
   "execution_count": null,
   "metadata": {},
   "outputs": [],
   "source": [
    "N = 10\n",
    "path_init = np.linspace([5.0, 5.0], [80.0, 100.0], N)\n",
    "path = np.copy(path_init)\n",
    "\n",
    "\n",
    "def cost_n_points(X):\n",
    "    for i in range(len(X)):\n",
    "        path[i + 1, 0] = X[i]\n",
    "    return total_duration(path, blabla=False)"
   ]
  },
  {
   "cell_type": "code",
   "execution_count": null,
   "metadata": {},
   "outputs": [],
   "source": [
    "init_guess"
   ]
  },
  {
   "cell_type": "code",
   "execution_count": null,
   "metadata": {},
   "outputs": [],
   "source": [
    "init_guess = 5 + np.random.rand(path_init[:-2, 0].shape[0]) * 80.0\n",
    "path_init[1:-1, 0] = init_guess\n",
    "sol = optimize.minimize(cost_n_points, init_guess, method=\"Nelder-Mead\")\n",
    "X = sol.x\n",
    "for i in range(len(X)):\n",
    "    path[i + 1, 0] = X[i]"
   ]
  },
  {
   "cell_type": "code",
   "execution_count": null,
   "metadata": {},
   "outputs": [],
   "source": [
    "plt.figure()\n",
    "plt.contourf(x_world, y_world, v_world, 20, cmap=cm.jet, alpha=0.5)\n",
    "plt.plot(path_init[:, 0], path_init[:, 1], \"o:g\")\n",
    "plt.plot(path[:, 0], path[:, 1], \"o-r\")\n",
    "plt.title(\"Velocity map\")\n",
    "plt.colorbar()"
   ]
  }
 ],
 "metadata": {
  "kernelspec": {
   "display_name": "Python 3 (ipykernel)",
   "language": "python",
   "name": "python3"
  },
  "language_info": {
   "codemirror_mode": {
    "name": "ipython",
    "version": 3
   },
   "file_extension": ".py",
   "mimetype": "text/x-python",
   "name": "python",
   "nbconvert_exporter": "python",
   "pygments_lexer": "ipython3",
   "version": "3.8.16"
  },
  "toc": {
   "base_numbering": 1,
   "nav_menu": {},
   "number_sections": true,
   "sideBar": true,
   "skip_h1_title": true,
   "title_cell": "Table of Contents",
   "title_sidebar": "Contents",
   "toc_cell": true,
   "toc_position": {},
   "toc_section_display": true,
   "toc_window_display": false
  }
 },
 "nbformat": 4,
 "nbformat_minor": 4
}
