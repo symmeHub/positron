{
 "cells": [
  {
   "cell_type": "markdown",
   "metadata": {
    "toc": true
   },
   "source": [
    "<h1>Table of Contents<span class=\"tocSkip\"></span></h1>\n",
    "<div class=\"toc\"><ul class=\"toc-item\"><li><span><a href=\"#Physical-model\" data-toc-modified-id=\"Physical-model-1\"><span class=\"toc-item-num\">1&nbsp;&nbsp;</span>Physical model</a></span></li><li><span><a href=\"#Optimisation-probleme-formulation\" data-toc-modified-id=\"Optimisation-probleme-formulation-2\"><span class=\"toc-item-num\">2&nbsp;&nbsp;</span>Optimisation probleme formulation</a></span></li><li><span><a href=\"#Solve-Problem\" data-toc-modified-id=\"Solve-Problem-3\"><span class=\"toc-item-num\">3&nbsp;&nbsp;</span>Solve Problem</a></span></li><li><span><a href=\"#Brut-Force-approach\" data-toc-modified-id=\"Brut-Force-approach-4\"><span class=\"toc-item-num\">4&nbsp;&nbsp;</span>Brut Force approach</a></span></li></ul></div>"
   ]
  },
  {
   "cell_type": "code",
   "execution_count": null,
   "metadata": {
    "tags": [
     "hide-input"
    ]
   },
   "outputs": [],
   "source": [
    "#%matplotlib notebook\n",
    "%matplotlib widget\n",
    "import matplotlib.pyplot as plt\n",
    "import numpy as np\n",
    "from scipy import optimize\n",
    "import ipywidgets as ipw\n",
    "from matplotlib import cm\n",
    "import ipywidgets as widgets\n",
    "from scipy import integrate\n",
    "\n"
   ]
  },
  {
   "cell_type": "markdown",
   "metadata": {},
   "source": [
    "# Crossing a river\n",
    "This exemple deal with the case of a personne that want to cross a river in a minimum time. \n",
    "\n",
    "Probleme statement:\n",
    "* the velocity on ground is 10 m/s\n",
    "* the swiming velocity is 2 m/s\n",
    "* the starting point and the ending point are fixed\n",
    "* the width of the river is fixed"
   ]
  },
  {
   "cell_type": "markdown",
   "metadata": {},
   "source": [
    "::::{admonition} Example :class: tip\n",
    "\n",
    "Problem formualtion:\n",
    "\n",
    "Objective: \n",
    "\n",
    "Variables: \n",
    "\n",
    "Constraints: \n",
    "\n",
    "Objective function: \n",
    "\n",
    "Resolution method: \n",
    "::::"
   ]
  },
  {
   "cell_type": "markdown",
   "metadata": {},
   "source": [
    "## Where is the river : The landscape \n",
    "The river is an area wher the velocity is lower."
   ]
  },
  {
   "cell_type": "code",
   "execution_count": null,
   "metadata": {},
   "outputs": [],
   "source": [
    "def world_definition(x, y):\n",
    "    v = 1 * np.ones_like(x)\n",
    "    v[y <= 10] = 10\n",
    "    v[y > 50] = 10\n",
    "    return v\n",
    "\n",
    "\n",
    "x = np.linspace(0, 100, 100)\n",
    "y = np.linspace(0, 60, 150)\n",
    "x_world, y_world = np.meshgrid(x, y, indexing=\"xy\")\n",
    "v_world = world_definition(x_world, y_world)"
   ]
  },
  {
   "cell_type": "code",
   "execution_count": null,
   "metadata": {},
   "outputs": [],
   "source": [
    "plt.figure()\n",
    "plt.contourf(x_world, y_world, v_world, 20, cmap=cm.jet)\n",
    "plt.title(\"Velocity map\")\n",
    "plt.colorbar()\n",
    "plt.show()"
   ]
  },
  {
   "cell_type": "markdown",
   "metadata": {},
   "source": [
    "## Define the path"
   ]
  },
  {
   "cell_type": "code",
   "execution_count": null,
   "metadata": {},
   "outputs": [],
   "source": [
    "path = np.array([[10.0, 5.0], [15.0, 10], [25, 50], [80, 55]])\n",
    "\n",
    "plt.figure()\n",
    "plt.contourf(x_world, y_world, v_world, 20, cmap=cm.jet)\n",
    "plt.plot(path[:, 0], path[:, 1])\n",
    "plt.title(\"Velocity map\")\n",
    "plt.colorbar()"
   ]
  },
  {
   "cell_type": "markdown",
   "metadata": {},
   "source": [
    "## Compute the velocity and duration to go trougth the path\n",
    "\n",
    "work on one segment of the path :"
   ]
  },
  {
   "cell_type": "code",
   "execution_count": null,
   "metadata": {},
   "outputs": [],
   "source": [
    "from scipy.interpolate import RegularGridInterpolator\n",
    "\n",
    "\n",
    "def arc_duration(seg, nb_sub=20):\n",
    "    seg = seg.T\n",
    "    sub = np.linspace(seg[:, 0], seg[:, 1], nb_sub)\n",
    "    sub = sub[:-1] + np.diff(sub, axis=0) / 2\n",
    "    sub_length = np.linalg.norm(np.diff(seg)) / (nb_sub - 1)\n",
    "    v = world_definition(sub[:, 0], sub[:, 1])\n",
    "    duration = (sub_length / v).sum()\n",
    "    return duration, sub, v"
   ]
  },
  {
   "cell_type": "code",
   "execution_count": null,
   "metadata": {},
   "outputs": [],
   "source": [
    "# test for one segment of the path\n",
    "seg = path[:2, :]\n",
    "duration, sub, v = arc_duration(seg, nb_sub=20)\n",
    "duration"
   ]
  },
  {
   "cell_type": "markdown",
   "metadata": {},
   "source": [
    "Work on the full path :"
   ]
  },
  {
   "cell_type": "code",
   "execution_count": null,
   "metadata": {},
   "outputs": [],
   "source": [
    "total = 0\n",
    "for i in range(len(path) - 1):\n",
    "    seg = path[i : i + 2, :]\n",
    "    duration, sub, v = arc_duration(seg, nb_sub=20)\n",
    "    total += duration\n",
    "    print(\"segment {0} : {1:0.2f}s\".format(i, duration))\n",
    "print(\"Total   : {0:0.2f}s\".format(total))"
   ]
  },
  {
   "cell_type": "code",
   "execution_count": null,
   "metadata": {},
   "outputs": [],
   "source": [
    "def total_duration(path, blabla=False):\n",
    "    total = 0.0\n",
    "    for i in range(len(path) - 1):\n",
    "        seg = path[i : i + 2, :].copy()\n",
    "        duration, _, _ = arc_duration(seg, nb_sub=20)\n",
    "        total += duration\n",
    "        if blabla:\n",
    "            print(\"segment {0} : {1:0.1f}s\".format(i, duration))\n",
    "    if blabla:\n",
    "        print(\"Total   : {0:0.1f}s\".format(total))\n",
    "    return total\n",
    "\n",
    "\n",
    "# test for the path\n",
    "total_duration(path, blabla=True)"
   ]
  },
  {
   "cell_type": "markdown",
   "metadata": {},
   "source": [
    "### Widget plot"
   ]
  },
  {
   "cell_type": "code",
   "execution_count": null,
   "metadata": {},
   "outputs": [],
   "source": [
    "plt.figure()\n",
    "(l,) = plt.plot(path[:, 0], path[:, 1], \":o\")\n",
    "plt.contourf(x_world, y_world, v_world, 20, cmap=cm.jet)\n",
    "title = plt.title(\"duration\")\n",
    "\n",
    "\n",
    "@ipw.interact(x1=(0.0, 100, 1), x2=(0.0, 100, 1))\n",
    "def update(x1=30, x2=30):\n",
    "    path[1, 0] = x1\n",
    "    path[2, 0] = x2\n",
    "    t_total = total_duration(path, blabla=False)\n",
    "    l.set_data(path[:, 0], path[:, 1])\n",
    "    title.set_text(\"Total   : {0:0.1f}s\".format(t_total))"
   ]
  },
  {
   "cell_type": "markdown",
   "metadata": {},
   "source": [
    "### What is the optimal solution ?\n",
    "#### First idea : test all combination "
   ]
  },
  {
   "cell_type": "code",
   "execution_count": null,
   "metadata": {},
   "outputs": [],
   "source": [
    "Nx, Ny = 50, 50\n",
    "x1 = np.linspace(5, 80, Nx)\n",
    "x2 = np.linspace(5, 80, Ny)\n",
    "X, Y = np.meshgrid(x1, x2)\n",
    "Z = np.zeros_like(X)\n",
    "for i in range(len(X)):\n",
    "    for j in range(len(Y)):\n",
    "        path[1, 0] = X[i, j]\n",
    "        path[2, 0] = Y[i, j]\n",
    "        Z[i, j] = total_duration(path, blabla=False)"
   ]
  },
  {
   "cell_type": "code",
   "execution_count": null,
   "metadata": {},
   "outputs": [],
   "source": [
    "x1_min, x2_min = np.where(np.min(Z) == Z)\n",
    "X_min = X[x1_min, x2_min]\n",
    "Y_min = Y[x1_min, x2_min]\n",
    "print(X_min, Y_min)"
   ]
  },
  {
   "cell_type": "code",
   "execution_count": null,
   "metadata": {},
   "outputs": [],
   "source": [
    "plt.figure()\n",
    "title = plt.title(\"\")\n",
    "plt.contourf(X, Y, Z, 20, cmap=cm.jet)\n",
    "plt.colorbar()\n",
    "plt.contour(X, Y, Z, 20, cmap=cm.gray)\n",
    "plt.plot(X_min, Y_min, \"or\")\n",
    "plt.show()"
   ]
  },
  {
   "cell_type": "markdown",
   "metadata": {},
   "source": [
    "### Is that realistic with a finer grid ? (or in larger dimension)"
   ]
  },
  {
   "cell_type": "code",
   "execution_count": null,
   "metadata": {},
   "outputs": [],
   "source": [
    "%%timeit\n",
    "total_duration(path, blabla=False)"
   ]
  },
  {
   "cell_type": "markdown",
   "metadata": {},
   "source": [
    "### Usning optimization methode"
   ]
  },
  {
   "cell_type": "code",
   "execution_count": null,
   "metadata": {},
   "outputs": [],
   "source": [
    "def cost(X):\n",
    "    path[1, 0] = X[0]\n",
    "    path[2, 0] = X[1]\n",
    "    return total_duration(path, blabla=False)"
   ]
  },
  {
   "cell_type": "code",
   "execution_count": null,
   "metadata": {},
   "outputs": [],
   "source": [
    "from scipy import optimize\n",
    "\n",
    "sol = optimize.minimize(cost, [10.0, 10.0], method=\"Nelder-Mead\")\n",
    "sol"
   ]
  },
  {
   "cell_type": "markdown",
   "metadata": {},
   "source": [
    "## Crossing a strange river"
   ]
  },
  {
   "cell_type": "code",
   "execution_count": null,
   "metadata": {},
   "outputs": [],
   "source": [
    "# Oscilatting River\n",
    "def world_definition(x, y):\n",
    "    v = 1 * np.ones_like(x)\n",
    "    v = 2 + np.cos(x / 5)\n",
    "    v[y <= 10] = 10\n",
    "    v[y > 50] = 10\n",
    "    return v\n",
    "\n",
    "\n",
    "x = np.linspace(0, 100, 100)\n",
    "y = np.linspace(0, 60, 150)\n",
    "x_world, y_world = np.meshgrid(x, y, indexing=\"xy\")\n",
    "v_world = world_definition(x_world, y_world)"
   ]
  },
  {
   "cell_type": "code",
   "execution_count": null,
   "metadata": {},
   "outputs": [],
   "source": [
    "# Low velocity\n",
    "def world_definition(x, y):\n",
    "    tau = 20\n",
    "    v = 10 - 5 * np.exp(-(((x - 50) / tau) ** 2) - ((y - 30) / tau) ** 2)\n",
    "    # v[y<=10]=10\n",
    "    # v[y>50]=10\n",
    "    return v\n",
    "\n",
    "\n",
    "x = np.linspace(0, 100, 100)\n",
    "y = np.linspace(0, 60, 150)\n",
    "x_world, y_world = np.meshgrid(x, y, indexing=\"xy\")\n",
    "v_world = world_definition(x_world, y_world)"
   ]
  },
  {
   "cell_type": "code",
   "execution_count": null,
   "metadata": {},
   "outputs": [],
   "source": [
    "plt.figure()\n",
    "plt.contourf(x_world, y_world, v_world, 20, cmap=cm.jet)\n",
    "plt.title(\"Velocity map\")\n",
    "plt.colorbar()\n",
    "plt.show()"
   ]
  },
  {
   "cell_type": "code",
   "execution_count": null,
   "metadata": {},
   "outputs": [],
   "source": [
    "Nx, Ny = 50, 50\n",
    "x1 = np.linspace(5, 80, Nx)\n",
    "x2 = np.linspace(5, 80, Ny)\n",
    "X, Y = np.meshgrid(x1, x2)\n",
    "Z = np.zeros_like(X)\n",
    "for i in range(len(X)):\n",
    "    for j in range(len(Y)):\n",
    "        path[1, 0] = X[i, j]\n",
    "        path[2, 0] = Y[i, j]\n",
    "        Z[i, j] = total_duration(path, blabla=False)"
   ]
  },
  {
   "cell_type": "code",
   "execution_count": null,
   "metadata": {},
   "outputs": [],
   "source": [
    "x1_min, x2_min = np.where(np.min(Z) == Z)\n",
    "X_min = X[x1_min, x2_min]\n",
    "Y_min = Y[x1_min, x2_min]\n",
    "print(X_min, Y_min)"
   ]
  },
  {
   "cell_type": "code",
   "execution_count": null,
   "metadata": {},
   "outputs": [],
   "source": [
    "plt.figure()\n",
    "title = plt.title(\"\")\n",
    "plt.contourf(X, Y, Z, 20, cmap=cm.jet)\n",
    "plt.colorbar()\n",
    "plt.contour(X, Y, Z, 20, cmap=cm.gray)\n",
    "plt.plot(X_min, Y_min, \"or\")\n",
    "plt.show()"
   ]
  },
  {
   "cell_type": "code",
   "execution_count": null,
   "metadata": {},
   "outputs": [],
   "source": [
    "path[1, 0] = X_min\n",
    "path[2, 0] = Y_min\n",
    "plt.figure()\n",
    "plt.contourf(x_world, y_world, v_world, 20, cmap=cm.jet)\n",
    "plt.plot(path[:, 0], path[:, 1], \"o-r\")\n",
    "plt.title(\"Velocity map\")\n",
    "plt.colorbar()"
   ]
  },
  {
   "cell_type": "markdown",
   "metadata": {},
   "source": [
    "## Add more control points"
   ]
  },
  {
   "cell_type": "code",
   "execution_count": null,
   "metadata": {},
   "outputs": [],
   "source": [
    "path_init = np.linspace([5, 5], [80, 55], 15)\n",
    "path = np.copy(path_init)"
   ]
  },
  {
   "cell_type": "code",
   "execution_count": null,
   "metadata": {},
   "outputs": [],
   "source": [
    "def cost_n_points(X):\n",
    "    for i in range(len(X)):\n",
    "        path[i + 1, 0] = X[i]\n",
    "    return total_duration(path, blabla=False)"
   ]
  },
  {
   "cell_type": "code",
   "execution_count": null,
   "metadata": {},
   "outputs": [],
   "source": [
    "from scipy import optimize\n",
    "\n",
    "init_guess = np.copy(path_init[:-2, 0])\n",
    "sol = optimize.minimize(cost_n_points, init_guess, method=\"Nelder-Mead\")\n",
    "X = sol.x\n",
    "for i in range(len(X)):\n",
    "    path[i + 1, 0] = X[i]"
   ]
  },
  {
   "cell_type": "code",
   "execution_count": null,
   "metadata": {},
   "outputs": [],
   "source": [
    "sol"
   ]
  },
  {
   "cell_type": "code",
   "execution_count": null,
   "metadata": {},
   "outputs": [],
   "source": [
    "plt.figure()\n",
    "plt.contourf(x_world, y_world, v_world, 20, cmap=cm.jet)\n",
    "plt.plot(path_init[:, 0], path_init[:, 1], \"o:g\")\n",
    "plt.plot(path[:, 0], path[:, 1], \"o-r\")\n",
    "plt.title(\"Velocity map\")\n",
    "plt.colorbar()"
   ]
  },
  {
   "cell_type": "code",
   "execution_count": null,
   "metadata": {},
   "outputs": [],
   "source": []
  },
  {
   "cell_type": "code",
   "execution_count": null,
   "metadata": {},
   "outputs": [],
   "source": []
  }
 ],
 "metadata": {
  "kernelspec": {
   "display_name": "Python 3 (ipykernel)",
   "language": "python",
   "name": "python3"
  },
  "language_info": {
   "codemirror_mode": {
    "name": "ipython",
    "version": 3
   },
   "file_extension": ".py",
   "mimetype": "text/x-python",
   "name": "python",
   "nbconvert_exporter": "python",
   "pygments_lexer": "ipython3",
   "version": "3.8.16"
  },
  "toc": {
   "base_numbering": 1,
   "nav_menu": {},
   "number_sections": true,
   "sideBar": true,
   "skip_h1_title": true,
   "title_cell": "Table of Contents",
   "title_sidebar": "Contents",
   "toc_cell": true,
   "toc_position": {},
   "toc_section_display": true,
   "toc_window_display": false
  }
 },
 "nbformat": 4,
 "nbformat_minor": 4
}
