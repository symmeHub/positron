{
 "cells": [
  {
   "cell_type": "markdown",
   "metadata": {
    "toc": true
   },
   "source": [
    "<h1>Table of Contents<span class=\"tocSkip\"></span></h1>\n",
    "<div class=\"toc\"><ul class=\"toc-item\"><li><span><a href=\"#Physical-model\" data-toc-modified-id=\"Physical-model-1\"><span class=\"toc-item-num\">1&nbsp;&nbsp;</span>Physical model</a></span></li><li><span><a href=\"#Optimisation-probleme-formulation\" data-toc-modified-id=\"Optimisation-probleme-formulation-2\"><span class=\"toc-item-num\">2&nbsp;&nbsp;</span>Optimisation probleme formulation</a></span></li><li><span><a href=\"#Solve-Problem\" data-toc-modified-id=\"Solve-Problem-3\"><span class=\"toc-item-num\">3&nbsp;&nbsp;</span>Solve Problem</a></span></li><li><span><a href=\"#Brut-Force-approach\" data-toc-modified-id=\"Brut-Force-approach-4\"><span class=\"toc-item-num\">4&nbsp;&nbsp;</span>Brut Force approach</a></span></li></ul></div>"
   ]
  },
  {
   "cell_type": "code",
   "execution_count": null,
   "metadata": {},
   "outputs": [],
   "source": [
    "# %matplotlib notebook\n",
    "\n",
    "import matplotlib.pyplot as plt\n",
    "import numpy as np\n",
    "from scipy import optimize\n",
    "import ipywidgets as ipw\n",
    "from matplotlib import cm\n",
    "import ipywidgets as widgets\n",
    "from scipy import integrate\n",
    "import pandas as pd\n",
    "\n",
    "%matplotlib widget"
   ]
  },
  {
   "cell_type": "markdown",
   "metadata": {},
   "source": [
    "## Physical model"
   ]
  },
  {
   "cell_type": "code",
   "execution_count": null,
   "metadata": {},
   "outputs": [],
   "source": [
    "A = np.pi * 0.05**2  #  cross area [m**2]\n",
    "cx = 0.62  # Drag coefficient []\n",
    "m = 2  # mass [kg]\n",
    "rho = 1.225  # Air density [kg/m**3]\n",
    "g = 9.81  # Gravity [m/s**2]\n",
    "windx, windy = -30.0, 00.0\n",
    "fly_duration = 5.0  # seconde\n",
    "\n",
    "# target\n",
    "target = np.array([80, 50])\n",
    "\n",
    "\n",
    "t = np.linspace(0.0, fly_duration, 200)\n",
    "\n",
    "\n",
    "def derivative(X, t):\n",
    "    \"\"\"\n",
    "    Target ODE: Newton's second law\n",
    "    \"\"\"\n",
    "    x, y, vx, vy = X\n",
    "    # relativ speed for aero\n",
    "    vxr = vx - windx\n",
    "    vyr = vy - windy\n",
    "    v = (vxr**2 + vyr**2) ** 0.5\n",
    "    Tx, Ty = vxr / v, vyr / v\n",
    "    ax = -0.5 * rho * v**2 * A * cx * Tx / m\n",
    "    ay = -0.5 * rho * v**2 * A * cx * Ty / m - g\n",
    "    return np.array([vx, vy, ax, ay])\n",
    "\n",
    "\n",
    "def eval_sol(theta0, v0, target):\n",
    "    x0, y0 = 0.0, 0.0\n",
    "    X0 = [x0, y0, v0 * np.cos(np.radians(theta0)), v0 * np.sin(np.radians(theta0))]\n",
    "    sol = integrate.odeint(derivative, X0, t)\n",
    "    out = pd.DataFrame(sol, columns=[\"x\", \"y\", \"vx\", \"vy\"])\n",
    "\n",
    "    dist = np.linalg.norm(target - sol[:, 0:2], axis=1)\n",
    "    dist = np.min(dist)\n",
    "\n",
    "    dist = np.sqrt(((target - sol[-1, 0:2]) ** 2).sum())\n",
    "\n",
    "    return out, dist"
   ]
  },
  {
   "cell_type": "code",
   "execution_count": null,
   "metadata": {},
   "outputs": [],
   "source": [
    "theta0 = 45.0\n",
    "v0 = 10.0  # Initial velocity [m/s]\n",
    "out, dist = eval_sol(theta0, v0, target)"
   ]
  },
  {
   "cell_type": "code",
   "execution_count": null,
   "metadata": {},
   "outputs": [],
   "source": [
    "plt.figure()\n",
    "(l,) = plt.plot(out.x, out.y)\n",
    "(lend,) = plt.plot(out.x.values[-1], out.y.values[-1], \"*y\")\n",
    "plt.plot(target[0], target[1], \"or\")\n",
    "plt.grid()\n",
    "plt.ylim(0.0, target[1] * 2)\n",
    "plt.xlim(0.0, target[0] * 2)\n",
    "plt.xlabel(\"Position, $x$\")\n",
    "plt.ylabel(\"Position, $y$\")\n",
    "plt.show()\n",
    "\n",
    "\n",
    "@ipw.interact(\n",
    "    v0=(0.0, 100, 1), theta0=(0, 90, 2.0), algorithm=[\"Nelder-Mead\", \"BFGS\", \"Powell\"]\n",
    ")\n",
    "def update_plot(theta0, v0):\n",
    "    out, dist = eval_sol(theta0, v0, target)\n",
    "    l.set_data(out.x, out.y)\n",
    "    lend.set_data(out.x.values[-1], out.y.values[-1])"
   ]
  },
  {
   "cell_type": "code",
   "execution_count": null,
   "metadata": {},
   "outputs": [],
   "source": [
    "theta0 = 45.0\n",
    "v0 = 10.0  # Initial velocity [m/s]\n",
    "out, dist = eval_sol(theta0, v0, target)\n",
    "dist"
   ]
  },
  {
   "cell_type": "code",
   "execution_count": null,
   "metadata": {},
   "outputs": [],
   "source": [
    "plt.figure()\n",
    "plt.plot(out.x, out.y)\n",
    "plt.plot(out.x.values[-1], out.y.values[-1], \"*y\")\n",
    "plt.plot(target[0], target[1], \"or\")\n",
    "plt.grid()\n",
    "plt.ylim(0.0, 50.0)\n",
    "plt.xlabel(\"Position, $x$\")\n",
    "plt.ylabel(\"Position, $y$\")\n",
    "plt.show()"
   ]
  },
  {
   "cell_type": "markdown",
   "metadata": {},
   "source": [
    "## Optimisation probleme formulation"
   ]
  },
  {
   "cell_type": "code",
   "execution_count": null,
   "metadata": {},
   "outputs": [],
   "source": [
    "def cost(Param):\n",
    "    v0 = Param[1]\n",
    "    theta0 = Param[0]\n",
    "    out, dist = eval_sol(theta0, v0, target)\n",
    "    return dist"
   ]
  },
  {
   "cell_type": "markdown",
   "metadata": {},
   "source": [
    "## Solve Problem"
   ]
  },
  {
   "cell_type": "code",
   "execution_count": null,
   "metadata": {},
   "outputs": [],
   "source": [
    "X0 = [45, 10]\n",
    "sol = optimize.minimize(cost, X0, method=\"BFGS\")\n",
    "sol.x"
   ]
  },
  {
   "cell_type": "code",
   "execution_count": null,
   "metadata": {},
   "outputs": [],
   "source": [
    "theta0 = sol.x[0]\n",
    "v0 = sol.x[1]\n",
    "out, dist = eval_sol(theta0, v0, target)\n",
    "dist"
   ]
  },
  {
   "cell_type": "code",
   "execution_count": null,
   "metadata": {},
   "outputs": [],
   "source": [
    "plt.figure()\n",
    "plt.plot(target[0], target[1], \"or\")\n",
    "plt.plot(out.x, out.y)\n",
    "plt.plot(out.x.values[-1], out.y.values[-1], \"*y\")\n",
    "\n",
    "plt.grid()\n",
    "plt.ylim(0.0, 500.0)\n",
    "plt.xlabel(\"Position, $x$\")\n",
    "plt.ylabel(\"Position, $y$\")\n",
    "plt.show()"
   ]
  },
  {
   "cell_type": "markdown",
   "metadata": {},
   "source": [
    "## Brut Force approach"
   ]
  },
  {
   "cell_type": "code",
   "execution_count": null,
   "metadata": {},
   "outputs": [],
   "source": [
    "Ntheta, Nvit = 45, 200\n",
    "theta = np.linspace(0.0, 90, Ntheta)\n",
    "v0 = np.linspace(10, 300, Nvit)\n",
    "X, Y = np.meshgrid(theta, v0)\n",
    "param = np.array([X.flatten(), Y.flatten()])\n",
    "zf = np.zeros_like(X.flatten())\n",
    "\n",
    "for i in range(len(param.T)):\n",
    "    zf[i] = cost(param[:, i])\n",
    "\n",
    "Z = zf.reshape(Nvit, Ntheta)\n",
    "# Z = np.where(Z > 200.0, np.nan, Z)"
   ]
  },
  {
   "cell_type": "code",
   "execution_count": null,
   "metadata": {},
   "outputs": [],
   "source": [
    "plt.figure(figsize=(8, 6))\n",
    "title = plt.title(\"\")\n",
    "cost_map = plt.contourf(X, Y, Z, 50, cmap=cm.jet)\n",
    "plt.colorbar(cost_map)\n",
    "plt.contour(X, Y, Z, 50, cmap=cm.gray, zorder=2.0)\n",
    "plt.xlabel(r\"$\\theta$\")\n",
    "plt.ylabel(\"V0\")"
   ]
  },
  {
   "cell_type": "code",
   "execution_count": null,
   "metadata": {},
   "outputs": [],
   "source": [
    "from scipy import interpolate"
   ]
  },
  {
   "cell_type": "code",
   "execution_count": null,
   "metadata": {},
   "outputs": [],
   "source": [
    "nx, ny = 50, 20\n",
    "world = np.ones((ny, nx))\n",
    "world[:, :20] = 2\n",
    "world[:, 30:] = 2"
   ]
  },
  {
   "cell_type": "code",
   "execution_count": null,
   "metadata": {},
   "outputs": [],
   "source": [
    "X = np.array([[0, 0], [20, 0], [25, 12], [30, 10], [50, 20]])\n",
    "\n",
    "dist = np.linalg.norm(np.diff(X, axis=0), axis=1)\n",
    "center = X[:-1] + np.diff(X, axis=0) / 2\n",
    "\n",
    "np.inter2d\n",
    "\n",
    "Speed = np.array([5, 4, 1, 5])\n",
    "\n",
    "t = dist / Speed\n",
    "t_total = t.sum()\n",
    "\n",
    "plt.figure()\n",
    "plt.plot(X[:, 0], X[:, 1], \":o\")\n",
    "plt.plot(center[:, 0], center[:, 1], \"xr\")\n",
    "plt.imshow(world)"
   ]
  },
  {
   "cell_type": "code",
   "execution_count": null,
   "metadata": {},
   "outputs": [],
   "source": [
    "plt.figure()\n",
    "(l,) = plt.plot(X[:, 0], X[:, 1], \":o\")\n",
    "(lc,) = plt.plot(center[:, 0], center[:, 1], \"xr\")\n",
    "plt.imshow(world)\n",
    "\n",
    "\n",
    "@ipw.interact(y1=(0.0, 20, 1), y2=(0.0, 20, 1))\n",
    "def update(y1, y2):\n",
    "    X = np.array([[0, 0], [20, y1], [25, y2], [30, 10], [50, 20]])\n",
    "    dist = np.linalg.norm(np.diff(X, axis=0), axis=1)\n",
    "    center = X[:-1] + np.diff(X, axis=0) / 2\n",
    "    Speed = np.array([5, 3, 1, 5])\n",
    "    t = dist / Speed\n",
    "    t_total = t.sum()\n",
    "    l.set_data(X[:, 0], X[:, 1])\n",
    "    lc.set_data(center[:, 0], center[:, 1])"
   ]
  },
  {
   "cell_type": "code",
   "execution_count": null,
   "metadata": {},
   "outputs": [],
   "source": []
  }
 ],
 "metadata": {
  "kernelspec": {
   "display_name": "Python 3",
   "language": "python",
   "name": "python3"
  },
  "language_info": {
   "codemirror_mode": {
    "name": "ipython",
    "version": 3
   },
   "file_extension": ".py",
   "mimetype": "text/x-python",
   "name": "python",
   "nbconvert_exporter": "python",
   "pygments_lexer": "ipython3",
   "version": "3.8.3"
  },
  "toc": {
   "base_numbering": 1,
   "nav_menu": {},
   "number_sections": true,
   "sideBar": true,
   "skip_h1_title": true,
   "title_cell": "Table of Contents",
   "title_sidebar": "Contents",
   "toc_cell": true,
   "toc_position": {},
   "toc_section_display": true,
   "toc_window_display": false
  }
 },
 "nbformat": 4,
 "nbformat_minor": 4
}
