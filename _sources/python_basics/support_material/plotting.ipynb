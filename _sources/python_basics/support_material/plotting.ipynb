{
 "cells": [
  {
   "cell_type": "markdown",
   "metadata": {},
   "source": [
    "# Advanced plotting"
   ]
  },
  {
   "cell_type": "code",
   "execution_count": null,
   "metadata": {
    "tags": [
     "hide-input"
    ]
   },
   "outputs": [],
   "source": [
    "# UNCOMMENT FOR INTERACTIVE PLOTS\n",
    "#%matplotlib notebook\n",
    "import numpy as np\n",
    "import pandas as pd\n",
    "import matplotlib.pyplot as plt\n",
    "from matplotlib import cm"
   ]
  },
  {
   "cell_type": "code",
   "execution_count": null,
   "metadata": {},
   "outputs": [],
   "source": [
    "def func(x, y):\n",
    "    \"\"\"\n",
    "    A nice looking mapping.\n",
    "    \"\"\"\n",
    "    r = (x ** 2 + y ** 2) ** 0.5\n",
    "    theta = np.where(r != 0.0, np.arccos(x / r) * np.sign(y), 0.0)\n",
    "    z = (1.0 / (r + 5.0) ** 0.5) * np.sin(2.0 * np.pi * r / 3.0) * np.cos(4 * theta)\n",
    "    return z\n",
    "\n",
    "\n",
    "x = np.linspace(-3.0, 3.0, 101)\n",
    "y = np.linspace(-3.0, 3.0, 101)\n",
    "X, Y = np.meshgrid(x, y)\n",
    "X"
   ]
  },
  {
   "cell_type": "code",
   "execution_count": null,
   "metadata": {},
   "outputs": [],
   "source": [
    "Y"
   ]
  },
  {
   "cell_type": "code",
   "execution_count": null,
   "metadata": {},
   "outputs": [],
   "source": [
    "Z = func(X, Y)"
   ]
  },
  {
   "cell_type": "code",
   "execution_count": null,
   "metadata": {},
   "outputs": [],
   "source": [
    "fig = plt.figure(figsize=(8, 6))\n",
    "ax = fig.add_subplot(1, 1, 1)\n",
    "ax.set_aspect(\"equal\")\n",
    "cont = plt.contourf(X, Y, Z, 10, cmap=cm.jet)\n",
    "cbar = plt.colorbar(cont)\n",
    "cbar.set_label(\"Amplitude, $z$\")\n",
    "plt.xlabel(\"Position, $x$\")\n",
    "plt.ylabel(\"Position, $y$\")\n",
    "plt.contour(X, Y, Z, 10, colors=\"black\")\n",
    "plt.show()"
   ]
  },
  {
   "cell_type": "code",
   "execution_count": null,
   "metadata": {},
   "outputs": [],
   "source": []
  }
 ],
 "metadata": {
  "celltoolbar": "Edit Metadata",
  "kernelspec": {
   "display_name": "Python 3",
   "language": "python",
   "name": "python3"
  },
  "language_info": {
   "codemirror_mode": {
    "name": "ipython",
    "version": 3
   },
   "file_extension": ".py",
   "mimetype": "text/x-python",
   "name": "python",
   "nbconvert_exporter": "python",
   "pygments_lexer": "ipython3",
   "version": "3.7.11"
  }
 },
 "nbformat": 4,
 "nbformat_minor": 2
}
