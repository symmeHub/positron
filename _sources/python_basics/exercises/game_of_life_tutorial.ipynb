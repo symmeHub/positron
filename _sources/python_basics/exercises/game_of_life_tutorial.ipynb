{
 "cells": [
  {
   "cell_type": "markdown",
   "metadata": {},
   "source": [
    "# Conway's Game of Life \n",
    "\n",
    "![](https://upload.wikimedia.org/wikipedia/commons/e/e5/Gospers_glider_gun.gif)\n",
    "\n",
    "\n",
    "\n",
    "## Part 1: Introduction\n",
    "\n",
    "### What's the game of life?\n",
    "The game of life (**GoL**)is not a game per se. \n",
    "It is one of the first cellular automata. \n",
    "It can be visualized as a chessboard of arbitrary size in which each **cell** can exist in two states (dead=0 or alive=1). \n",
    "The game has an evolution rule that makes the state of its **cell** change with each time step.\n",
    "This rule is purely deterministic (which implies that there is no randomness in this game) and is based on the number of living [Moore neighbors](https://en.wikipedia.org/wiki/Moore_neighborhood) of each square. \n",
    "\n",
    "This rule can be written as follows:\n",
    "* Birth (**B**): if a dead cell has 3 neighbors, it becomes alive 1. It remains dead 0 otherwise.\n",
    "* Survival (**S**): If a living cell has 2 or 3 neighbors of Moore, it survives thus remains 1, it dies and becomes 0 otherwise. \n",
    "\n",
    "The rule of the game of life can be generalized as **B3/S23**. You can visualize the game graphically on the following simulator: https://bitstorm.org/gameoflife/\n",
    "\n",
    "### Further readings\n",
    "* [Game of Life on Wikipedia](https://en.wikipedia.org/wiki/Conway%27s_Game_of_Life)\n",
    "* [Game of life on Stanford Univ.](http://web.stanford.edu/~cdebs/GameOfLife/#history)\n",
    "\n",
    "\n",
    "\n",
    "## Part 2: Counting living Moore neighbors\n",
    "\n",
    "![](https://upload.wikimedia.org/wikipedia/commons/4/4d/Moore_neighborhood_with_cardinal_directions.svg)\n",
    "\n",
    "Our goal is to animate the game of life at a sufficient speed. Typically, a 200x200 grid should be able to be run in real time, i.e. 25 frames per second. \n",
    "The speed of your code execution must therefore be sufficient. \n",
    "Try counting Moore's living neighbors on a small grid at first before moving to a larger one.\n"
   ]
  },
  {
   "cell_type": "code",
   "execution_count": null,
   "metadata": {
    "tags": [
     "hide-input"
    ]
   },
   "outputs": [],
   "source": [
    "%matplotlib notebook\n",
    "import numpy as np\n",
    "import pandas as pd\n",
    "import matplotlib.pyplot as plt\n",
    "from matplotlib import animation, rc, cm\n",
    "\n",
    "rc(\"animation\", html=\"html5\")"
   ]
  },
  {
   "cell_type": "markdown",
   "metadata": {},
   "source": [
    "We can easily create a random binary matrix usin **numpy**"
   ]
  },
  {
   "cell_type": "code",
   "execution_count": null,
   "metadata": {},
   "outputs": [],
   "source": [
    "cells = np.random.randint(2, size=(5, 5))\n",
    "cells"
   ]
  },
  {
   "cell_type": "code",
   "execution_count": null,
   "metadata": {},
   "outputs": [],
   "source": [
    "plt.figure()\n",
    "plt.imshow(cells, cmap=cm.gray)\n",
    "plt.colorbar()\n",
    "plt.show()"
   ]
  },
  {
   "cell_type": "markdown",
   "metadata": {},
   "source": [
    "Now, you need to find a way to calculate the number of living (1) neighbors around every cell. \n",
    "\n",
    "Tips:\n",
    "* Try several methods and determine which one is the best for you,\n",
    "* The use **numpy**'s [slicing and striding methods](https://numpy.org/doc/stable/user/basics.indexing.html) can help,\n",
    "* Alternatively, numba can be an interesting solution in terms of performance, see [5 min to Numba](https://numba.pydata.org/numba-doc/dev/user/5minguide.html).\n",
    "* Boundary conditions are importants.\n",
    "\n",
    "Neighbors counts can be stored in a matrix like the following one:"
   ]
  },
  {
   "cell_type": "code",
   "execution_count": null,
   "metadata": {},
   "outputs": [],
   "source": [
    "neighbors = np.zeros_like(cells)\n",
    "neighbors"
   ]
  },
  {
   "cell_type": "markdown",
   "metadata": {},
   "source": [
    "## Part 2: Creating a class \n",
    "\n",
    "In what follows, we propose to model the game of life by a class of which the method of calculation of the neighbors that you have just written would be a method. \n",
    "Here is a basic code snippet that you can use as inspiration to move forward."
   ]
  },
  {
   "cell_type": "code",
   "execution_count": null,
   "metadata": {},
   "outputs": [],
   "source": [
    "class GoL:\n",
    "    \"\"\"\n",
    "    A game of life class.\n",
    "    \"\"\"\n",
    "\n",
    "    def __init__(self, cells):\n",
    "        self.cells = np.array(cells)\n",
    "\n",
    "    def __repr__(self):\n",
    "        return \"<GoL with {0} cells>\".format(self.cells.size)\n",
    "\n",
    "    def count_living_neighbors(self):\n",
    "        \"\"\"\n",
    "        Counts the number of living neighbors of each cell.\n",
    "        \"\"\"\n",
    "        # to be completed.\n",
    "        return\n",
    "\n",
    "    def evolve(self):\n",
    "        \"\"\"\n",
    "        make an evolution step forward.\n",
    "        \"\"\"\n",
    "        # to be completed.\n",
    "        return\n",
    "\n",
    "\n",
    "g = GoL(cells)\n",
    "g"
   ]
  },
  {
   "cell_type": "markdown",
   "metadata": {},
   "source": [
    "## Part 3: Animate your Game of Life !\n",
    "\n",
    "In the following example, we provide you with a class which is not related to the game of life but which consists of similar methods. It shows how to make an animation. Use it as an inspiration to animate your game of life."
   ]
  },
  {
   "cell_type": "code",
   "execution_count": null,
   "metadata": {},
   "outputs": [],
   "source": [
    "class AliasingImage:\n",
    "    \"\"\"\n",
    "    Creates a aliasing illusion.\n",
    "    \"\"\"\n",
    "\n",
    "    def __init__(self, size=(5, 5), depth=8):\n",
    "        self.size = size\n",
    "        self.depth = depth\n",
    "        lx, ly = size\n",
    "        x = np.arange(lx)\n",
    "        y = np.arange(ly)\n",
    "        self.f = 1.0\n",
    "        self.df = 0.07\n",
    "        self.X, self.Y = np.meshgrid(x, y)\n",
    "        self.evolve()\n",
    "\n",
    "    def evolve(self):\n",
    "        \"\"\"\n",
    "        Randomizes the image\n",
    "        \"\"\"\n",
    "        f = self.f\n",
    "        self.image = np.cos(2 * f * self.X) * np.sin(2 * f * self.Y)\n",
    "        self.f += self.df\n",
    "\n",
    "\n",
    "ri = AliasingImage(size=(50, 50))\n",
    "\n",
    "\n",
    "def updatefig(*args):\n",
    "    ri.evolve()\n",
    "    im.set_array(ri.image)\n",
    "    return (im,)\n",
    "\n",
    "\n",
    "fig, ax = plt.subplots()\n",
    "ax.axis(\"off\")\n",
    "im = plt.imshow(ri.image, interpolation=\"nearest\", cmap=cm.gray, animated=True)\n",
    "anim = animation.FuncAnimation(fig, updatefig, frames=40, interval=50, blit=True)\n",
    "# plt.show()\n",
    "plt.close()\n",
    "anim"
   ]
  },
  {
   "cell_type": "markdown",
   "metadata": {},
   "source": [
    "### Part 4: Other rules\n",
    "\n",
    "The game of life can be generalized and [other rules](https://en.wikipedia.org/wiki/Life-like_cellular_automaton) give surprising and interesting results from a mathematical point of view. Some of them include simple structures capable of cloning themselves, which reminds us of DNA in chemistry. \n",
    "\n",
    "Modify your work in order to be able to simulate other rules easily."
   ]
  },
  {
   "cell_type": "code",
   "execution_count": null,
   "metadata": {},
   "outputs": [],
   "source": []
  }
 ],
 "metadata": {
  "celltoolbar": "Edit Metadata",
  "kernelspec": {
   "display_name": "Python 3 (ipykernel)",
   "language": "python",
   "name": "python3"
  },
  "language_info": {
   "codemirror_mode": {
    "name": "ipython",
    "version": 3
   },
   "file_extension": ".py",
   "mimetype": "text/x-python",
   "name": "python",
   "nbconvert_exporter": "python",
   "pygments_lexer": "ipython3",
   "version": "3.9.15"
  }
 },
 "nbformat": 4,
 "nbformat_minor": 4
}
