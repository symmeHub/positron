{
 "cells": [
  {
   "cell_type": "markdown",
   "metadata": {
    "slideshow": {
     "slide_type": "slide"
    }
   },
   "source": [
    "# Game of Life and other cellular automatons\n"
   ]
  },
  {
   "cell_type": "code",
   "execution_count": null,
   "metadata": {
    "slideshow": {
     "slide_type": "-"
    }
   },
   "outputs": [],
   "source": [
    "# UNCOMMENT FOR INTERACTIVE PLOTTING\n",
    "# %matplotlib notebook\n",
    "import numpy as np\n",
    "import pandas as pd\n",
    "import matplotlib.pyplot as plt\n",
    "from matplotlib import animation, rc, cm\n",
    "import IPython, io, urllib\n",
    "import requests\n",
    "import warnings\n",
    "\n",
    "warnings.filterwarnings(\"ignore\")\n",
    "\n",
    "rc(\"animation\", html=\"html5\")"
   ]
  },
  {
   "cell_type": "markdown",
   "metadata": {
    "slideshow": {
     "slide_type": "slide"
    }
   },
   "source": [
    "## Introduction\n",
    "\n",
    "This notebook was inspired by the great video proposed by David Louapre available on his Youtube channel *\"Science Etonnante\"*:"
   ]
  },
  {
   "cell_type": "code",
   "execution_count": null,
   "metadata": {
    "slideshow": {
     "slide_type": "subslide"
    }
   },
   "outputs": [],
   "source": [
    "IPython.display.YouTubeVideo(\"S-W0NX97DB0\")"
   ]
  },
  {
   "cell_type": "markdown",
   "metadata": {
    "slideshow": {
     "slide_type": "subslide"
    }
   },
   "source": [
    "The **Game of Life (GoL)** is a good way to learn about the use of object oriented programming, numpy and matplotlib. It is also a very interresting scientific and mathematical problem. The GoL belongs to the wider group of problems called **Cellular Automatons**. A lot of alternative sets of interresting rules have been created/discovered over time since the invention of the GoL. In this tutorial, we introduce a simple class that can solve all those problems called **Life Like Cellular Automatons (LLCA)**. \n",
    "\n",
    "Further readings:\n",
    "\n",
    "* https://en.wikipedia.org/wiki/Life-like_cellular_automaton"
   ]
  },
  {
   "cell_type": "markdown",
   "metadata": {
    "slideshow": {
     "slide_type": "slide"
    }
   },
   "source": [
    "## A generic class to simulate LLCAs"
   ]
  },
  {
   "cell_type": "code",
   "execution_count": null,
   "metadata": {
    "slideshow": {
     "slide_type": "subslide"
    }
   },
   "outputs": [],
   "source": [
    "class LLCA:\n",
    "    \"\"\"\n",
    "    A Life Like Cellular Automaton (LLCA)\n",
    "\n",
    "    Inputs:\n",
    "    * C: a binary matrix representing the cells where 1 stands for alive and 0 for dead.\n",
    "    * rule: the rule of the in the format 'BXSY' where X and Y are the birth and survival conditions.\n",
    "            Example: GOL rule is \"B3S23\".\n",
    "    \"\"\"\n",
    "\n",
    "    def __init__(self, C=np.random.rand(50, 50), rule=\"B3S23\"):\n",
    "        self.C = np.array(C).astype(np.bool)\n",
    "        self.rule = rule\n",
    "\n",
    "    def parse_rule(self):\n",
    "        \"\"\"\n",
    "        Parses the rule string\n",
    "        \"\"\"\n",
    "        r = self.rule.upper().split(\"S\")\n",
    "        B = np.array([int(i) for i in r[0][1:]]).astype(np.int64)\n",
    "        S = np.array([int(i) for i in r[1]]).astype(np.int64)\n",
    "        return B, S\n",
    "\n",
    "    def neighbors(self):\n",
    "        \"\"\"\n",
    "        Returns the number of living neigbors of each cell.\n",
    "        \"\"\"\n",
    "        C = self.C\n",
    "        N = np.zeros(C.shape, dtype=np.int8)  # Neighbors matrix\n",
    "        N[:-1, :] += C[1:, :]  # Living cells south\n",
    "        N[:, :-1] += C[:, 1:]  # Living cells east\n",
    "        N[1:, :] += C[:-1, :]  # Living cells north\n",
    "        N[:, 1:] += C[:, :-1]  # Living cells west\n",
    "        N[:-1, :-1] += C[1:, 1:]  # Living cells south east\n",
    "        N[1:, :-1] += C[:-1, 1:]  # Living cells north east\n",
    "        N[1:, 1:] += C[:-1, :-1]  # Living cells north west\n",
    "        N[:-1, 1:] += C[1:, :-1]  # Living cells south west\n",
    "        return N\n",
    "\n",
    "    def iterate(self):\n",
    "        \"\"\"\n",
    "        Iterates one time.\n",
    "        \"\"\"\n",
    "        B, S = self.parse_rule()\n",
    "        N = self.neighbors()\n",
    "        C = self.C\n",
    "        C1 = np.zeros(C.shape, dtype=np.int8)\n",
    "        for b in B:\n",
    "            C1 += (C == False) & (N == b)\n",
    "        for s in S:\n",
    "            C1 += C & (N == s)\n",
    "        self.C[:] = C1 > 0"
   ]
  },
  {
   "cell_type": "markdown",
   "metadata": {
    "slideshow": {
     "slide_type": "slide"
    }
   },
   "source": [
    "## The orginal Game of Life  (rule B3S23)"
   ]
  },
  {
   "cell_type": "code",
   "execution_count": null,
   "metadata": {
    "slideshow": {
     "slide_type": "subslide"
    }
   },
   "outputs": [],
   "source": [
    "# INITIAL CONFIGURATION\n",
    "N = 100\n",
    "t = np.linspace(0.0, 1.0, N + 1)\n",
    "X, Y = np.meshgrid(t, t)\n",
    "f = 4\n",
    "C0 = np.sin(2.0 * np.pi * f * X) * np.sin(2.0 * np.pi * 2 * f * Y) > -0.1\n",
    "g = LLCA(C0, rule=\"B3S23\")\n",
    "\n",
    "\n",
    "# ANIMATION\n",
    "def updatefig(*args):\n",
    "    g.iterate()\n",
    "    im.set_array(g.C)\n",
    "    return (im,)\n",
    "\n",
    "\n",
    "fig, ax = plt.subplots(figsize=(8, 6))\n",
    "ax.axis(\"off\")\n",
    "im = plt.imshow(g.C, interpolation=\"nearest\", cmap=cm.binary, animated=True)\n",
    "anim = animation.FuncAnimation(fig, updatefig, frames=200, interval=50, blit=True)\n",
    "\n",
    "plt.close()\n",
    "anim\n",
    "# plt.show()"
   ]
  },
  {
   "cell_type": "markdown",
   "metadata": {
    "slideshow": {
     "slide_type": "slide"
    }
   },
   "source": [
    "## Alternative rule:  Day and Night (B3678S34678)"
   ]
  },
  {
   "cell_type": "code",
   "execution_count": null,
   "metadata": {
    "slideshow": {
     "slide_type": "subslide"
    }
   },
   "outputs": [],
   "source": [
    "N = 100\n",
    "t = np.linspace(0.0, 1.0, N + 1)\n",
    "X, Y = np.meshgrid(t, t)\n",
    "f = 10\n",
    "C0 = np.sin(2.0 * np.pi * f * X) * np.sin(2.0 * np.pi * 2 * f * Y) > 0.0\n",
    "\n",
    "g = LLCA(C0, rule=\"B3678S34678\")\n",
    "\n",
    "\n",
    "def updatefig(*args):\n",
    "    g.iterate()\n",
    "    im.set_array(g.C)\n",
    "    return (im,)\n",
    "\n",
    "\n",
    "fig, ax = plt.subplots(figsize=(8, 6))\n",
    "ax.axis(\"off\")\n",
    "im = plt.imshow(g.C, interpolation=\"nearest\", cmap=cm.binary, animated=True)\n",
    "anim = animation.FuncAnimation(fig, updatefig, frames=200, interval=50, blit=True)\n",
    "plt.close()\n",
    "anim\n",
    "# plt.show()"
   ]
  },
  {
   "cell_type": "markdown",
   "metadata": {
    "slideshow": {
     "slide_type": "slide"
    }
   },
   "source": [
    "## Alternative rule: fractal-like B1S123"
   ]
  },
  {
   "cell_type": "code",
   "execution_count": null,
   "metadata": {
    "slideshow": {
     "slide_type": "subslide"
    }
   },
   "outputs": [],
   "source": [
    "N = 200\n",
    "C0 = np.zeros((N, N))\n",
    "C0[1, 1] = 1\n",
    "\n",
    "g = LLCA(C0, rule=\"B1S123\")\n",
    "\n",
    "\n",
    "def updatefig(*args):\n",
    "    g.iterate()\n",
    "    im.set_array(g.C)\n",
    "    return (im,)\n",
    "\n",
    "\n",
    "fig, ax = plt.subplots(figsize=(8, 6))\n",
    "ax.axis(\"off\")\n",
    "im = plt.imshow(g.C, interpolation=\"nearest\", cmap=cm.binary, animated=True)\n",
    "anim = animation.FuncAnimation(fig, updatefig, frames=200, interval=40, blit=True)\n",
    "plt.close()\n",
    "anim\n",
    "# plt.show()"
   ]
  },
  {
   "cell_type": "markdown",
   "metadata": {
    "slideshow": {
     "slide_type": "slide"
    }
   },
   "source": [
    "## Existing structures in GoL \n",
    "\n",
    "Over time, many structures have been discovered in GoL. \n",
    "For example, some of them are translating leaving debris in their wake. \n",
    "They are called puffers. \n",
    "Here is an example:\n",
    "\n",
    "https://conwaylife.com/wiki/Hivenudger_2"
   ]
  },
  {
   "cell_type": "code",
   "execution_count": null,
   "metadata": {},
   "outputs": [],
   "source": [
    "def get_gol_structure_by_url(url):\n",
    "    \"\"\"\n",
    "    Gets a GoL structure using plain text format on an url.\n",
    "    \"\"\"\n",
    "    content = requests.get(url, stream=True).content.decode()\n",
    "    out = []\n",
    "    for line in content.split(\"\\n\"):\n",
    "        line = line.strip()\n",
    "        # print(line)\n",
    "        if not line.startswith(\"!\"):\n",
    "            line_data = []\n",
    "            for c in line:\n",
    "                if c == \".\":\n",
    "                    line_data.append(0)\n",
    "                if c == \"O\":\n",
    "                    line_data.append(1)\n",
    "            out.append(line_data)\n",
    "    max_length = 0\n",
    "    for line in out:\n",
    "        if len(line) > max_length:\n",
    "            max_length = len(line)\n",
    "    for line in out:\n",
    "        if len(line) < max_length:\n",
    "            for i in range(max_length - len(line)):\n",
    "                line.append(0)\n",
    "    out = np.array(out)\n",
    "    return out\n",
    "\n",
    "\n",
    "url = \"https://conwaylife.com/patterns/hivenudger2.cells\"\n",
    "inner_cells = get_gol_structure_by_url(url)\n",
    "inner_shape = inner_cells.shape\n",
    "hmargin = 5\n",
    "lmargin = 50\n",
    "rmargin = 5\n",
    "cells = np.zeros((inner_shape[0] + hmargin * 2, inner_shape[1] + lmargin + rmargin))\n",
    "cells[hmargin:-hmargin, lmargin:-rmargin] = inner_cells"
   ]
  },
  {
   "cell_type": "code",
   "execution_count": null,
   "metadata": {
    "slideshow": {
     "slide_type": "subslide"
    }
   },
   "outputs": [],
   "source": [
    "g = LLCA(\n",
    "    cells, rule=\"B3S23\"\n",
    ")  # B2S23 means Birth if 2 living neighbours and survival if 2 or 3 living neighbours\n",
    "\n",
    "\n",
    "def updatefig(*args):\n",
    "    g.iterate()\n",
    "    im.set_array(g.C)\n",
    "    return (im,)\n",
    "\n",
    "\n",
    "fig, ax = plt.subplots(figsize=(8, 6))\n",
    "im = plt.imshow(g.C, interpolation=\"nearest\", cmap=cm.binary, animated=True)\n",
    "anim = animation.FuncAnimation(fig, updatefig, frames=200, interval=50, blit=True)\n",
    "ax.axis(\"off\")\n",
    "plt.tight_layout()\n",
    "plt.close()\n",
    "anim"
   ]
  }
 ],
 "metadata": {
  "authors": [
   {
    "name": "Ludovic Charleux"
   }
  ],
  "celltoolbar": "Slideshow",
  "kernelspec": {
   "display_name": "Python 3 (ipykernel)",
   "language": "python",
   "name": "python3"
  },
  "language_info": {
   "codemirror_mode": {
    "name": "ipython",
    "version": 3
   },
   "file_extension": ".py",
   "mimetype": "text/x-python",
   "name": "python",
   "nbconvert_exporter": "python",
   "pygments_lexer": "ipython3",
   "version": "3.9.15"
  },
  "title": "It's a woodpecker from space"
 },
 "nbformat": 4,
 "nbformat_minor": 4
}
