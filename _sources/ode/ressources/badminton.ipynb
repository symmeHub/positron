{
 "cells": [
  {
   "cell_type": "markdown",
   "metadata": {},
   "source": [
    "(badminton_notebook)=\n",
    "# Modelling the trajectory of a badminton shuttlecock \n"
   ]
  },
  {
   "cell_type": "code",
   "execution_count": null,
   "metadata": {
    "tags": []
   },
   "outputs": [],
   "source": [
    "%matplotlib widget\n",
    "import numpy as np\n",
    "import pandas as pd\n",
    "import matplotlib.pyplot as plt\n",
    "import IPython\n",
    "from scipy import integrate"
   ]
  },
  {
   "cell_type": "markdown",
   "metadata": {},
   "source": [
    "## Data collection"
   ]
  },
  {
   "cell_type": "markdown",
   "metadata": {},
   "source": [
    "<center><iframe width=\"560\" height=\"315\" src=\"https://www.youtube.com/embed/wy5UraBy5co\" title=\"YouTube video player\" frameborder=\"0\" allow=\"accelerometer; autoplay; clipboard-write; encrypted-media; gyroscope; picture-in-picture\" allowfullscreen></iframe></center>"
   ]
  },
  {
   "cell_type": "markdown",
   "metadata": {},
   "source": [
    "Further reading:\n",
    "\n",
    "* Badminton physics: http://www.worldbadminton.com/reference/documents/5084354.pdf\n",
    "* Drag coefficient: https://en.wikipedia.org/wiki/Drag_coefficient\n",
    "\n",
    "Simulation inputs:"
   ]
  },
  {
   "cell_type": "code",
   "execution_count": null,
   "metadata": {
    "jupyter": {
     "outputs_hidden": true
    }
   },
   "outputs": [],
   "source": [
    "v0 = 493.0 / 3.6  # Initial velocity [m/s]\n",
    "A = 4.0e-3  # Shuttlecock cross area [m**2]\n",
    "cx = 0.62  # Drag coefficient []\n",
    "m = 4.0e-2  # Shuttlecock mass [kg]\n",
    "rho = 1.225  # Air density [kg/m**3]\n",
    "g = 9.81  # Gravity [m/s**2]"
   ]
  },
  {
   "cell_type": "markdown",
   "metadata": {},
   "source": [
    "## Can we simulate the trajectory ?\n",
    "\n",
    "### Newton's second law:\n",
    "\n",
    "$$\n",
    "m \\vec{A}(M/R) = -mg \\vec y -\\frac{1}{2} \\rho V^2 A c_x \\vec T\n",
    "$$\n",
    "\n"
   ]
  },
  {
   "cell_type": "code",
   "execution_count": null,
   "metadata": {},
   "outputs": [],
   "source": [
    "def derivative(X, t):\n",
    "    \"\"\"\n",
    "    Target ODE: Newton's second law\n",
    "    \"\"\"\n",
    "    x, y, vx, vy = X\n",
    "    v = (vx**2 + vy**2) ** 0.5\n",
    "    Tx, Ty = vx / v, vy / v\n",
    "    ax = -0.5 * rho * v**2 * A * cx * Tx / m\n",
    "    ay = -0.5 * rho * v**2 * A * cx * Ty / m - g\n",
    "    return np.array([vx, vy, ax, ay])\n",
    "\n",
    "\n",
    "x0, y0 = 0.0, 0.0\n",
    "theta0 = 45.0\n",
    "X0 = [x0, y0, v0 * np.cos(np.radians(theta0)), v0 * np.sin(np.radians(theta0))]\n",
    "t = np.linspace(0.0, 10.0, 200)\n",
    "sol = integrate.odeint(derivative, X0, t)\n",
    "out = pd.DataFrame(sol, columns=[\"x\", \"y\", \"vx\", \"vy\"])\n",
    "out.head()"
   ]
  },
  {
   "cell_type": "code",
   "execution_count": null,
   "metadata": {},
   "outputs": [],
   "source": [
    "plt.figure()\n",
    "plt.plot(out.x, out.y)\n",
    "plt.grid()\n",
    "plt.ylim(0.0, 50.0)\n",
    "plt.xlabel(\"Position, $x$\")\n",
    "plt.ylabel(\"Position, $y$\")\n",
    "plt.show()"
   ]
  },
  {
   "cell_type": "code",
   "execution_count": null,
   "metadata": {},
   "outputs": [],
   "source": [
    "thetas = [0.0, 10.0, 15.0, 20.0, 30.0, 45.0, 60.0, 80.0, 85.0]\n",
    "plt.figure()\n",
    "\n",
    "for theta0 in thetas:\n",
    "    x0, y0 = 0.0, 3.0\n",
    "    X0 = [x0, y0, v0 * np.cos(np.radians(theta0)), v0 * np.sin(np.radians(theta0))]\n",
    "    t = np.linspace(0.0, 10.0, 1000)\n",
    "    sol = integrate.odeint(derivative, X0, t)\n",
    "    out = pd.DataFrame(sol, columns=[\"x\", \"y\", \"vx\", \"vy\"])\n",
    "    out[\"t\"] = t\n",
    "    plt.plot(out.x, out.y, label=r\"$\\theta_0 = $\" + \"{0}\".format(theta0))\n",
    "plt.legend()\n",
    "plt.grid()\n",
    "plt.ylim(0.0, 50.0)\n",
    "plt.xlabel(\"Position, $x$\")\n",
    "plt.ylabel(\"Position, $y$\")\n",
    "plt.show()"
   ]
  },
  {
   "cell_type": "markdown",
   "metadata": {},
   "source": [
    "## Range as a function of $\\theta$"
   ]
  },
  {
   "cell_type": "code",
   "execution_count": null,
   "metadata": {},
   "outputs": [],
   "source": [
    "%%time\n",
    "thetas = np.linspace(-180.0, 180.0, 300)\n",
    "xmax = np.zeros_like(thetas)\n",
    "\n",
    "\n",
    "for i in range(len(thetas)):\n",
    "    theta0 = thetas[i]\n",
    "    x0, y0 = 0.0, 3.0\n",
    "    X0 = [x0, y0, v0 * np.sin(np.radians(theta0)), -v0 * np.cos(np.radians(theta0))]\n",
    "    t = np.linspace(0.0, 10.0, 10000)\n",
    "    sol = integrate.odeint(derivative, X0, t)\n",
    "    out = pd.DataFrame(sol, columns=[\"x\", \"y\", \"vx\", \"vy\"])\n",
    "    xmax[i] = out[out.y < 0.0].iloc[0].x"
   ]
  },
  {
   "cell_type": "code",
   "execution_count": null,
   "metadata": {},
   "outputs": [],
   "source": [
    "plt.figure()\n",
    "plt.plot(thetas, xmax)\n",
    "plt.grid()\n",
    "plt.xlabel(r\"Start angle $\\theta_0$\")\n",
    "plt.ylabel(r\"Range $x_m$\")\n",
    "plt.show()"
   ]
  },
  {
   "cell_type": "code",
   "execution_count": null,
   "metadata": {
    "jupyter": {
     "outputs_hidden": true
    }
   },
   "outputs": [],
   "source": []
  },
  {
   "cell_type": "code",
   "execution_count": null,
   "metadata": {
    "jupyter": {
     "outputs_hidden": true
    }
   },
   "outputs": [],
   "source": []
  }
 ],
 "metadata": {
  "kernelspec": {
   "display_name": "Python 3",
   "language": "python",
   "name": "python3"
  },
  "language_info": {
   "codemirror_mode": {
    "name": "ipython",
    "version": 3
   },
   "file_extension": ".py",
   "mimetype": "text/x-python",
   "name": "python",
   "nbconvert_exporter": "python",
   "pygments_lexer": "ipython3",
   "version": "3.8.3"
  }
 },
 "nbformat": 4,
 "nbformat_minor": 4
}
