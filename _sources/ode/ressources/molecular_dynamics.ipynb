{
 "cells": [
  {
   "cell_type": "code",
   "execution_count": null,
   "metadata": {
    "tags": []
   },
   "outputs": [],
   "source": [
    "%matplotlib widget\n",
    "from IPython.display import Image\n",
    "import numpy as np\n",
    "import matplotlib.pyplot as plt\n",
    "import matplotlib as mpl\n",
    "from matplotlib import animation, rc\n",
    "import sympy as sp\n",
    "import pandas as pd\n",
    "from PMD import PMD, distances\n",
    "\n",
    "sp.init_printing(use_latex=\"mathjax\")\n",
    "rc(\"animation\", html=\"html5\")"
   ]
  },
  {
   "attachments": {},
   "cell_type": "markdown",
   "metadata": {
    "tags": []
   },
   "source": [
    "(MD_notebook)=\n",
    "# Molecular Dynamics : simulation of a crystal formation in 2D\n",
    "\n",
    "Atomic simulation using the Morse potential\n",
    "\n",
    "https://en.wikipedia.org/wiki/Morse_potential\n",
    "\n",
    "\n",
    "This notebook uses the (Point Mass Dynamics) PMD class to simulate gravitational interaction between massive objects.\n",
    "\n",
    ":::{admonition} Required files\n",
    ":class: important\n",
    "Before using this notebook, download the module {download}`PMD.py <PMD.py>` and put it in your working directory.\n",
    ":::"
   ]
  },
  {
   "cell_type": "code",
   "execution_count": null,
   "metadata": {},
   "outputs": [],
   "source": [
    "Image(\n",
    "    url=\"https://upload.wikimedia.org/wikipedia/commons/7/7a/Morse-potential.png\",\n",
    "    width=500,\n",
    "    height=500,\n",
    ")"
   ]
  },
  {
   "cell_type": "markdown",
   "metadata": {},
   "source": [
    "## PMD module\n",
    "\n",
    "PMD module available here: [PMD.py](./PMD.py)\n"
   ]
  },
  {
   "cell_type": "markdown",
   "metadata": {},
   "source": [
    "## Potential"
   ]
  },
  {
   "cell_type": "code",
   "execution_count": null,
   "metadata": {},
   "outputs": [],
   "source": [
    "De, a, re, r = sp.symbols(\"D_e a r_e r\")\n",
    "V = De * (1 - sp.exp(-a * (r - re))) ** 2\n",
    "V"
   ]
  },
  {
   "cell_type": "markdown",
   "metadata": {},
   "source": [
    "## Force"
   ]
  },
  {
   "cell_type": "code",
   "execution_count": null,
   "metadata": {},
   "outputs": [],
   "source": [
    "F = -V.diff(r)\n",
    "F"
   ]
  },
  {
   "cell_type": "markdown",
   "metadata": {},
   "source": [
    "## Plotting\n"
   ]
  },
  {
   "cell_type": "code",
   "execution_count": null,
   "metadata": {
    "tags": [
     "hide-input"
    ]
   },
   "outputs": [],
   "source": [
    "values = {De: 1.0, a: 2.0, re: 1}\n",
    "Vf = sp.lambdify(r, V.subs(values), \"numpy\")\n",
    "Ff = sp.lambdify(r, F.subs(values), \"numpy\")\n",
    "vr = np.linspace(0.3 * values[re], 5 * values[re], 100)\n",
    "fig = plt.figure()\n",
    "ax = fig.add_subplot(2, 1, 1)\n",
    "plt.ylim(0, 5)\n",
    "plt.plot(vr, Vf(vr))\n",
    "plt.grid()\n",
    "plt.ylabel(\"Potential Value, $V$\")\n",
    "ax = fig.add_subplot(2, 1, 2)\n",
    "plt.ylim(-2.5, 5)\n",
    "plt.plot(vr, Ff(vr))\n",
    "plt.grid()\n",
    "plt.xlabel(\"Interatomic Distance, $r$\")\n",
    "plt.ylabel(\"Force Value, $F$\")\n",
    "plt.show()"
   ]
  },
  {
   "cell_type": "code",
   "execution_count": null,
   "metadata": {},
   "outputs": [],
   "source": [
    "class MD(PMD):\n",
    "    \"\"\"\n",
    "    Molecular dynamics w. Morse potential.\n",
    "    \"\"\"\n",
    "\n",
    "    def __init__(self, De=1.0, a=1.0, re=1.0, mu=0.0, **kwargs):\n",
    "        self.De = De\n",
    "        self.a = a\n",
    "        self.re = re\n",
    "        self.mu = mu\n",
    "        super().__init__(**kwargs)\n",
    "\n",
    "    def derivative(self, X, t, cutoff_radius=1.0e-2):\n",
    "        De, a, re, mu = self.De, self.a, self.re, self.mu\n",
    "        n = len(m)\n",
    "        P = X[: 2 * n].reshape(n, 2)\n",
    "        V = X[2 * n :].reshape(n, 2)\n",
    "        M = m * m[:, np.newaxis]\n",
    "        D, R, U = distances(P)\n",
    "        np.fill_diagonal(R, np.inf)\n",
    "        if cutoff_radius > 0.0:\n",
    "            R = np.where(R > cutoff_radius, R, cutoff_radius)\n",
    "        # F =((G * M * R**-2)[:,:,np.newaxis] * U).sum(axis = 0)\n",
    "        F = (\n",
    "            (2.0 * De * a * (1.0 - np.exp(-a * (R - re))) * np.exp(-a * (R - re)))[\n",
    "                :, :, np.newaxis\n",
    "            ]\n",
    "            * U\n",
    "        ).sum(axis=0) - mu * (V**2).sum(axis=0) ** 1.5 * V\n",
    "        A = (F.T / m).T\n",
    "        X2 = X.copy()\n",
    "        X2[: 2 * n] = V.flatten()\n",
    "        X2[2 * n :] = A.flatten()\n",
    "        return X2\n",
    "\n",
    "    def potential(self, P):\n",
    "        De, a, re, mu = self.De, self.a, self.re, self.mu\n",
    "        D, R, U = distances(P)\n",
    "        return (\n",
    "            np.where(R != 0.0, De * a * (1 - np.exp(-a * (R - re))) ** 2, 0.0).sum()\n",
    "            / 2.0\n",
    "        )"
   ]
  },
  {
   "cell_type": "code",
   "execution_count": null,
   "metadata": {},
   "outputs": [],
   "source": [
    "np.random.seed(666)\n",
    "re = 0.9\n",
    "nmx = 6\n",
    "nmy = 6\n",
    "nm = nmx * nmy\n",
    "x0 = np.arange(nmx) * re * 1.2\n",
    "y0 = np.arange(nmy) * re * 1.2\n",
    "X0, Y0 = np.meshgrid(x0, y0)\n",
    "P0 = np.array([X0.flatten(), Y0.flatten()]).T\n",
    "P0 *= 1.0 + np.random.rand(*P0.shape) * 0.1\n",
    "P0 -= P0.mean(axis=0)\n",
    "V0 = np.zeros_like(P0)\n",
    "pcolors = \"r\"\n",
    "tcolors = \"b\"\n",
    "m = np.ones(nm) * 1.0e0\n",
    "s = MD(m=m, P=P0, V=V0, mu=0.05, re=re, a=10, De=0.5, nk=1000)\n",
    "dt = 1.0e-1\n",
    "nt = 100\n",
    "\n",
    "\n",
    "fig = plt.figure()\n",
    "ax = fig.add_subplot(1, 1, 1)\n",
    "ax.set_aspect(\"equal\")\n",
    "ax.axis(\"off\")\n",
    "margin = 1.0\n",
    "plt.xlim(P0[:, 0].min() - margin, P0[:, 0].max() + margin)\n",
    "plt.ylim(P0[:, 1].min() - margin, P0[:, 1].max() + margin)\n",
    "# plt.grid()\n",
    "# ax.axis(\"off\")\n",
    "points = []\n",
    "\n",
    "msize = 10.0 * (s.m / s.m.max()) ** (1.0 / 6.0)\n",
    "for i in range(nm):\n",
    "    plc = len(pcolors)\n",
    "    pc = pcolors[i % plc]\n",
    "    tlc = len(tcolors)\n",
    "    tc = tcolors[i % tlc]\n",
    "    (trail,) = ax.plot([], [], \"-\" + tc)\n",
    "    (point,) = ax.plot([], [], \"o\" + pc, markersize=msize[i])\n",
    "    points.append(point)\n",
    "    points.append(trail)\n",
    "\n",
    "\n",
    "def init():\n",
    "    for i in range(2 * nm):\n",
    "        points[i].set_data([], [])\n",
    "    return points\n",
    "\n",
    "\n",
    "def animate(i):\n",
    "    s.solve(dt, nt)  # , rtol = 1.e-8, atol = 1.e-8)\n",
    "    x, y = s.xy()\n",
    "    for i in range(nm):\n",
    "        points[2 * i].set_data(x[i : i + 1], y[i : i + 1])\n",
    "        xt, yt = s.trail(i)\n",
    "        points[2 * i + 1].set_data(xt, yt)\n",
    "    return points\n",
    "\n",
    "\n",
    "anim = animation.FuncAnimation(\n",
    "    fig, animate, init_func=init, frames=400, interval=20, blit=True\n",
    ")\n",
    "\n",
    "\n",
    "# plt.show()\n",
    "plt.close()\n",
    "anim"
   ]
  },
  {
   "cell_type": "code",
   "execution_count": null,
   "metadata": {},
   "outputs": [],
   "source": []
  }
 ],
 "metadata": {
  "anaconda-cloud": {},
  "kernelspec": {
   "display_name": "Python 3 (ipykernel)",
   "language": "python",
   "name": "python3"
  },
  "language_info": {
   "codemirror_mode": {
    "name": "ipython",
    "version": 3
   },
   "file_extension": ".py",
   "mimetype": "text/x-python",
   "name": "python",
   "nbconvert_exporter": "python",
   "pygments_lexer": "ipython3",
   "version": "3.9.15"
  }
 },
 "nbformat": 4,
 "nbformat_minor": 4
}
