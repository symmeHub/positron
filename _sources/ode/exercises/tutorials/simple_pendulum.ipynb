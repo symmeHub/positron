{
 "cells": [
  {
   "cell_type": "code",
   "execution_count": null,
   "metadata": {
    "tags": [
     "hide-input"
    ]
   },
   "outputs": [],
   "source": [
    "# IF USING JUPYTER NOTEBOOK:\n",
    "# %matplotlib notebook\n",
    "# IF USING JUPYTER LAB:\n",
    "%matplotlib widget\n",
    "import numpy as np\n",
    "import pandas as pd\n",
    "import matplotlib.pyplot as plt"
   ]
  },
  {
   "cell_type": "code",
   "execution_count": null,
   "metadata": {
    "tags": []
   },
   "outputs": [],
   "source": [
    "from scipy.integrate import odeint"
   ]
  },
  {
   "cell_type": "markdown",
   "metadata": {},
   "source": [
    "(ode:tutorial:simple_pendulum)=\n",
    "# Simple pendulum\n",
    "\n",
    "**Author**: Ludovic Charleux (ludovic.charleux@univ-smb.fr)\n",
    "\n",
    "## Background\n",
    "\n",
    "This tutorial aims to model and simulate the oscillations of a simple pendulum. A representation is given below (source: [Wikipedia](https://en.wikipedia.org/wiki/Pendulum)).\n",
    "\n",
    "![](https://upload.wikimedia.org/wikipedia/commons/f/fa/PenduloTmg.gif \"Simple pendulum\")\n",
    "\n",
    "The pendulum consists of a point mass $m$ located at the point $M$ attached to a rigid arm considered without mass. The length of the arm is noted $L$. This arm is articulated with respect to a frame considered as an inertial reference frame. The angle between the arm and the vertical direction is noted $\\theta$. A simple modeling using dynamics leads to :\n",
    "\n",
    "\n",
    "$$\n",
    "m\\vec A(M/0) = \\vec P + \\vec T\n",
    "$$\n",
    "\n",
    "Where:\n",
    "\n",
    "* $\\vec A(M/0)$ is the acceleration of the mass,\n",
    "* $\\vec P$ if the weight of the mass, \n",
    "* $\\vec T$ if the reaction force of the arm.\n",
    "\n",
    "A projection of this equation along the direction perpendicular to the arm gives a more simple equation:\n",
    "\n",
    "$$\n",
    "\\ddot \\theta = -\\dfrac{g}{L} \\sin \\theta\n",
    "$$\n",
    "\n",
    "This equation is a non linear ODE of the second order whose exact solution is not known.  It is however possible to assume that $\\theta$ is small enough to write that $\\sin \\theta \\approx \\theta$. In this case, the equation comes down to the one of a free and undamped harmonic oscillator treated in the theoretical part. The object of this tutorial is to solve this problem by a numerical approach in a general way without simplifying assumptions.\n"
   ]
  },
  {
   "cell_type": "code",
   "execution_count": null,
   "metadata": {
    "tags": []
   },
   "outputs": [],
   "source": [
    "L = 1.0  # m\n",
    "g = 9.81  # m/s**2"
   ]
  },
  {
   "cell_type": "markdown",
   "metadata": {},
   "source": [
    "## Part 1: ODE reformulation\n",
    "\n",
    "* This problem can be reformulated to match the standard formulation $\\dot X = f(X, t)$:\n",
    "\n",
    "$$\n",
    "X = \\begin{bmatrix} \\theta \\\\ \\dot \\theta \\end{bmatrix}\n",
    "= \\begin{bmatrix} x_0 \\\\ x_1 \\end{bmatrix}\n",
    "$$\n",
    "\n",
    "$$\n",
    "\\dot X = \\begin{bmatrix} x_1 \\\\ -\\dfrac{g}{L} \\sin x_0 \\end{bmatrix} = f(X, t) \n",
    "$$ \n",
    "\n",
    "* Write the function $f$ in Python:"
   ]
  },
  {
   "cell_type": "code",
   "execution_count": null,
   "metadata": {
    "tags": []
   },
   "outputs": [],
   "source": [
    "def f(X, t):\n",
    "    \"\"\"\n",
    "    The simple pendulum's ODE\n",
    "    \"\"\"\n",
    "    # CODE HERE !\n",
    "    return"
   ]
  },
  {
   "cell_type": "markdown",
   "metadata": {},
   "source": [
    "## Part 2: solver validation at small angles\n",
    "\n",
    "In this first part, we want to validate the operation of the numerical solvers by comparing their results to a known exact solution. To do so, we will focus on the case of the simple pendulum oscillating at small angles. In this case, the sine can be approximated by $\\sin \\theta \\approx \\theta$ and the equation of the pendulum can be reduced to that of a harmonic oscillator. The exact solution is then:\n",
    "\n",
    "$$\n",
    "x(t) = \\theta_0 \\cos(\\omega_0 t)\n",
    "$$\n",
    "\n",
    "With:\n",
    "* $X_0 = [\\theta_0, 0]^T$\n",
    "* $\\omega_0 = \\sqrt{g/L}$\n",
    "\n",
    "\n",
    "Solve the problem with Euler, RK4 and ODEint integrators and compare the results with the closed form solution. First assume that the pendulum is released with no speed ($\\dot \\theta = 0 ^o/s$) at $\\theta = 1 ^o$. The time discretization will be as follows:\n",
    "\n",
    "* duration: from $t_a = 0$ s to $t_b = 10$ s.\n",
    "* time step: $dt = 1. \\times 10^{-2}$ s.\n"
   ]
  },
  {
   "cell_type": "code",
   "execution_count": null,
   "metadata": {
    "tags": []
   },
   "outputs": [],
   "source": [
    "def Euler(func, X0, t):\n",
    "    \"\"\"\n",
    "    Euler integrator.\n",
    "    \"\"\"\n",
    "    dt = t[1] - t[0]\n",
    "    nt = len(t)\n",
    "    X = np.zeros([nt, len(X0)])\n",
    "    X[0] = X0\n",
    "    for i in range(nt - 1):\n",
    "        X[i + 1] = X[i] + func(X[i], t[i]) * dt\n",
    "    return X\n",
    "\n",
    "\n",
    "def RK4(func, X0, t):\n",
    "    \"\"\"\n",
    "    Runge and Kutta 4 integrator.\n",
    "    \"\"\"\n",
    "    dt = t[1] - t[0]\n",
    "    nt = len(t)\n",
    "    X = np.zeros([nt, len(X0)])\n",
    "    X[0] = X0\n",
    "    for i in range(nt - 1):\n",
    "        k1 = func(X[i], t[i])\n",
    "        k2 = func(X[i] + dt / 2.0 * k1, t[i] + dt / 2.0)\n",
    "        k3 = func(X[i] + dt / 2.0 * k2, t[i] + dt / 2.0)\n",
    "        k4 = func(X[i] + dt * k3, t[i] + dt)\n",
    "        X[i + 1] = X[i] + dt / 6.0 * (k1 + 2.0 * k2 + 2.0 * k3 + k4)\n",
    "    return X\n",
    "\n",
    "\n",
    "# ODEint is preloaded."
   ]
  },
  {
   "cell_type": "code",
   "execution_count": null,
   "metadata": {
    "tags": []
   },
   "outputs": [],
   "source": [
    "# Define the time vector t and the initial conditions X0\n",
    "ta = 0.0\n",
    "tb = 10.0\n",
    "# CODE HERE\n",
    "t = []  # REPLACE"
   ]
  },
  {
   "cell_type": "code",
   "execution_count": null,
   "metadata": {},
   "outputs": [],
   "source": [
    "theta = []  # REPLACE WITH YOUR SOLUTION\n",
    "\n",
    "plt.figure()\n",
    "plt.plot(t, np.degrees(theta))\n",
    "plt.xlabel(\"Time, $t$\")\n",
    "plt.ylabel(r\"Angular position, $\\theta$ [$^o$]\")\n",
    "plt.grid()"
   ]
  },
  {
   "cell_type": "markdown",
   "metadata": {},
   "source": [
    "## Part 3: Anharmonic oscillations at larger energies\n",
    "\n",
    "In what follows, we work only with one of the solvers that has been sufficiently accurate in the previous section. We are interested in the operation of the pendulum at higher energy. First, increase the initial angle $\\theta_0$ to $179^o$ and add an initial velocity. What do you observe about the shape of the curves (time, position) ? \n"
   ]
  },
  {
   "cell_type": "code",
   "execution_count": null,
   "metadata": {
    "tags": []
   },
   "outputs": [],
   "source": [
    "# CODE HERE"
   ]
  },
  {
   "cell_type": "code",
   "execution_count": null,
   "metadata": {},
   "outputs": [],
   "source": [
    "theta = []  # REPLACE WITH YOUR SOLUTION\n",
    "\n",
    "plt.figure(\"High energy\")\n",
    "plt.plot(t, np.degrees(theta))\n",
    "plt.xlabel(\"Time, $t$\")\n",
    "plt.ylabel(r\"Angular position, $\\theta$ [$^o$]\")\n",
    "plt.grid()"
   ]
  },
  {
   "attachments": {},
   "cell_type": "markdown",
   "metadata": {},
   "source": [
    "## Part 4 : Phase space\n",
    "\n",
    "For several initial conditions treated previously, draw the trajectory (integral curve) in the $(\\theta, \\dot \\theta)$ phase plane. What remarkable points do you observe ?"
   ]
  },
  {
   "cell_type": "code",
   "execution_count": null,
   "metadata": {
    "tags": []
   },
   "outputs": [],
   "source": [
    "theta = []  # REPLACE\n",
    "dottheta = []  # REPLACE\n",
    "\n",
    "plt.figure(\"Phase space\")\n",
    "plt.plot(np.degrees(theta), np.degrees(dottheta))\n",
    "plt.xlabel(r\"Angular position, $\\theta$ [$^o$]\")\n",
    "plt.xlabel(r\"Angular speed, $\\dot\\theta$ [$^o$]\")\n",
    "plt.grid()"
   ]
  },
  {
   "cell_type": "markdown",
   "metadata": {
    "tags": []
   },
   "source": [
    "## Part 5: Conclusions\n",
    "\n",
    "Conclude on your observations on the following points: quality of the numerical solutions, shape of the integral curves, interest of the various representations used."
   ]
  },
  {
   "cell_type": "code",
   "execution_count": null,
   "metadata": {},
   "outputs": [],
   "source": [
    "# ..."
   ]
  },
  {
   "cell_type": "code",
   "execution_count": null,
   "metadata": {},
   "outputs": [],
   "source": []
  }
 ],
 "metadata": {
  "anaconda-cloud": {},
  "celltoolbar": "Slideshow",
  "kernelspec": {
   "display_name": "Python 3 (ipykernel)",
   "language": "python",
   "name": "python3"
  },
  "language_info": {
   "codemirror_mode": {
    "name": "ipython",
    "version": 3
   },
   "file_extension": ".py",
   "mimetype": "text/x-python",
   "name": "python",
   "nbconvert_exporter": "python",
   "pygments_lexer": "ipython3",
   "version": "3.10.1"
  }
 },
 "nbformat": 4,
 "nbformat_minor": 4
}
