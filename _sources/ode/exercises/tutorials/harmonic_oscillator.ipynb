{
 "cells": [
  {
   "cell_type": "code",
   "execution_count": null,
   "metadata": {
    "tags": [
     "hide-input"
    ]
   },
   "outputs": [],
   "source": [
    "# IF USING JUPYTER NOTEBOOK:\n",
    "#%matplotlib notebook\n",
    "# IF USING JUPYTER LAB:\n",
    "%matplotlib widget\n",
    "import numpy as np\n",
    "import pandas as pd\n",
    "import matplotlib.pyplot as plt"
   ]
  },
  {
   "cell_type": "code",
   "execution_count": null,
   "metadata": {},
   "outputs": [],
   "source": [
    "from scipy.integrate import odeint"
   ]
  },
  {
   "cell_type": "markdown",
   "metadata": {},
   "source": [
    "(ode:tutorial:driven_harmonic_oscillator)=\n",
    "# Driven Harmonic Oscillator\n",
    "\n",
    "**Author**: Ludovic Charleux (ludovic.charleux@univ-smb.fr)\n",
    "\n",
    "In this example, you will simulate an harmonic oscillator and compare the numerical solution to the closed form one. \n",
    "\n",
    "## Theory\n",
    "\n",
    "Read about the theory of harmonic oscillators on [Wikipedia](https://en.wikipedia.org/wiki/Harmonic_oscillator)\n",
    "\n",
    "### Mechanical oscillator\n",
    "\n",
    "The case of the one dimensional mechanical oscillator leads to the following equation:\n",
    "\n",
    "$$\n",
    "m \\ddot x + \\mu \\dot x + k x = m \\ddot x_d\n",
    "$$\n",
    "\n",
    "Where:\n",
    "\n",
    "* $x$ is the position,\n",
    "* $\\dot x$ and $\\ddot x$ are respectively the speed and acceleration,\n",
    "* $m$ is the mass,\n",
    "* $\\mu$ the \n",
    "* $k$ the stiffness,\n",
    "* and $\\ddot x_d$ the driving acceleration which is null if the oscillator is free.\n",
    "\n",
    "### Canonical equation\n",
    "\n",
    "Most 1D oscilators follow the same canonical equation:\n",
    "\n",
    "$$\n",
    "\\ddot x + 2 \\zeta \\omega_0 \\dot x + \\omega_0^2 x = \\ddot x_d\n",
    "$$\n",
    "\n",
    "Where:\n",
    "\n",
    "* $\\omega_0$ is the undamped pulsation,\n",
    "* $\\zeta$ is damping ratio,\n",
    "* $\\ddot x_d = a_d\\sin(\\omega_d t)$ is the imposed acceleration.\n",
    "\n",
    "In the case of the mechanical oscillator:\n",
    "\n",
    "$$\n",
    "\\omega_0 = \\sqrt{\\dfrac{k}{m}}\n",
    "$$\n",
    "\n",
    "$$\n",
    "\\zeta = \\dfrac{\\mu}{2\\sqrt{mk}} \n",
    "$$\n"
   ]
  },
  {
   "cell_type": "code",
   "execution_count": null,
   "metadata": {
    "tags": []
   },
   "outputs": [],
   "source": [
    "omega0 = 2.0 * np.pi * 1.0\n",
    "zeta = 0.1\n",
    "ad = 1.0\n",
    "omegad = 2.0 * np.pi * 1.2"
   ]
  },
  {
   "cell_type": "markdown",
   "metadata": {},
   "source": [
    "## Part 1: Coding\n",
    "\n",
    "First, you need to code: the harmonic oscillator oscillator using the standarde ODE formulation:\n",
    "\n",
    "$$\n",
    "\\dot X = f(X, t) \n",
    "$$\n"
   ]
  },
  {
   "cell_type": "code",
   "execution_count": null,
   "metadata": {
    "tags": []
   },
   "outputs": [],
   "source": [
    "def f(X, t):\n",
    "    \"\"\"\n",
    "    Driven Harmonic oscillator.\n",
    "    \"\"\"\n",
    "    return"
   ]
  },
  {
   "cell_type": "markdown",
   "metadata": {},
   "source": [
    "## Part 2: Solving\n",
    "\n",
    "Solve the ODE using `odeint` and plot it. "
   ]
  },
  {
   "cell_type": "code",
   "execution_count": null,
   "metadata": {
    "tags": []
   },
   "outputs": [],
   "source": []
  },
  {
   "cell_type": "markdown",
   "metadata": {},
   "source": [
    "## Part 3: Steady state amplitude\n",
    "\n",
    "Determine the steady state amplitude $a(\\omega_d)$ of the oscillator.\n"
   ]
  },
  {
   "cell_type": "code",
   "execution_count": null,
   "metadata": {
    "tags": []
   },
   "outputs": [],
   "source": []
  },
  {
   "cell_type": "markdown",
   "metadata": {},
   "source": [
    "## Part 4: Amplitude vs. drive pulsation\n",
    "\n",
    "Plot the evolution of the amplitude of the driven oscillator and compare it with the theory.\n"
   ]
  },
  {
   "cell_type": "code",
   "execution_count": null,
   "metadata": {
    "tags": []
   },
   "outputs": [],
   "source": []
  }
 ],
 "metadata": {
  "anaconda-cloud": {},
  "celltoolbar": "Slideshow",
  "kernelspec": {
   "display_name": "Python 3 (ipykernel)",
   "language": "python",
   "name": "python3"
  },
  "language_info": {
   "codemirror_mode": {
    "name": "ipython",
    "version": 3
   },
   "file_extension": ".py",
   "mimetype": "text/x-python",
   "name": "python",
   "nbconvert_exporter": "python",
   "pygments_lexer": "ipython3",
   "version": "3.10.1"
  }
 },
 "nbformat": 4,
 "nbformat_minor": 4
}
