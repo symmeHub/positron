{
 "cells": [
  {
   "cell_type": "code",
   "execution_count": null,
   "metadata": {
    "tags": [
     "hide-input"
    ]
   },
   "outputs": [],
   "source": [
    "%matplotlib widget\n",
    "import numpy as np\n",
    "import matplotlib.pyplot as plt\n",
    "from scipy.integrate import odeint\n",
    "import pandas as pd\n",
    "from math import pi, sin, cos"
   ]
  },
  {
   "cell_type": "markdown",
   "metadata": {},
   "source": [
    "(ode:practical_work:duffing_oscillator)=\n",
    "# Vibrational energy harvesting using a Duffing oscillator\n",
    "\n",
    "**Author**: Ludovic Charleux (ludovic.charleux@univ-smb.fr)"
   ]
  },
  {
   "cell_type": "markdown",
   "metadata": {},
   "source": [
    ":::{admonition} Required files\n",
    ":class: important\n",
    "In order to display figures properly, please download these images from {cite:ps}`huguet2019`:\n",
    "\n",
    "* {download}`huguet_experimental_setup.png <huguet_experimental_setup.png>`\n",
    "* {download}`huguet_model_design.png <huguet_model_design.png>`  \n",
    "\n",
    "And put it in your working directory along with this notebook. This tutorial is inspired by the PhD work of Thomas Huguet, in particular the article {cite:ps}`huguet2019` available [here](https://hal.archives-ouvertes.fr/hal-02092544/document). Download it and read it to better understand the context of this exercise.\n",
    "\n",
    "\n",
    ":::"
   ]
  },
  {
   "cell_type": "markdown",
   "metadata": {},
   "source": [
    "## Introduction\n",
    "The [Duffing oscillator](https://en.wikipedia.org/wiki/Duffing_equation)  is a one-degree-of-freedom oscillator which, unlike a harmonic oscillator, has a non-linearity in its stiffness function. In its most general form, its differential equation can be written as:\n",
    "\n",
    "$$\n",
    "\\ddot x + \\delta \\dot x + \\alpha x  +  \\beta x^3 = A \\sin (\\omega_d t)\n",
    "$$\n",
    "\n",
    "The non-linearity comes from the $\\beta x^3$ term. In this tutorial, we are going to work on a Duffing oscillator used in a practical purpose to recover vibratory energy in order to power autonomous communicating sensors. We are going to use the [PhD thesis of Thomas Huguet](https://tel.archives-ouvertes.fr/tel-02061864) from the INSA Lyon and the University of Savoie Mont Blanc (defended in 2018).\n",
    "In the context of his article {cite:t}`huguet2019`, the choice of a Duffing oscillator is justified by its ability to efficiently recover energy over a broader frequency band than an equivalent harmonic oscillator. \n",
    "We will discuss some very interesting aspects of the Duffing oscillator, including: \n",
    "* Its ability to have several different solutions for the same excitation.\n",
    "* Its ability to respond chaotically in some cases.\n",
    "\n",
    "The Duffing oscillator that we will model is mechanically bistable, it is realized using the principle described on the diagram below (from  {cite:ps}`huguet2019`):\n",
    "\n",
    "![](huguet_model_design.png)\n",
    "\n",
    "A beam with a mass in its center is compressed to buckling. \n",
    "It is then excited by means of a shaker which represents the vibrations present in the environment. \n",
    "An electrical extraction circuit is present but will not be modeled in this tutorial to simplify your task. \n",
    "The system has been manufactured and tested in the laboratory and is shown in the figure below (from  {cite:ps}`huguet2019`):\n",
    "\n",
    "![](huguet_experimental_setup.png)\n",
    "\n",
    "The differential equation associated with this system is as follows:\n",
    "\n",
    "$$\n",
    "\\ddot x + \\dfrac{\\omega_0^2}{2}\\left(\\dfrac{x^2}{x_{w}^2} - 1\\right)x + \\dfrac{\\omega_0}{Q} \\dot x = A_d \\sin \\left( \\omega_d t \\right)\n",
    "$$\n",
    "\n",
    "Where:\n",
    "* The position of the mass, its speed and acceleration are respectively noted $x$, $\\dot x$ and $\\ddot x$.\n",
    "* The stable equilibrium position, or **well** position,  is noted $\\pm x_{w}$ (noted $x_0$ on the figure above).\n",
    "* The resonance frequency at the bottom of the well is noted $\\omega_0$.\n",
    "* The quality factor is noted $Q$.\n",
    "* The excitation is defined by its amplitude $A_d$ and its pulsation $\\omega_d = 2 \\pi f_d$ where $f_d$ is its frequency.\n",
    "\n",
    "**Note**: In the configuration studied in the paper, an additional equation describes the behavior of the electrical energy extraction circuit. To simplify our task, it is not modeled in this example. You can add it if you wish, based on the article and by integrating the voltage $v$ to your vector $X$.\n",
    "\n",
    "The numerical values of these parameters are defined here:"
   ]
  },
  {
   "cell_type": "code",
   "execution_count": null,
   "metadata": {},
   "outputs": [],
   "source": [
    "xw = 0.5e-3  # meters\n",
    "w0 = 121.0  # radians per second\n",
    "Q = 87.0  # dimensionless\n",
    "fd = 50.0  # Hertz\n",
    "wd = 2.0 * pi * fd\n",
    "Ad = 2.5  # meters per second squared"
   ]
  },
  {
   "cell_type": "markdown",
   "metadata": {},
   "source": [
    "## Part 1: ODE reformulation\n",
    "\n",
    "First, you are asked to reformulate the ODE to first order using the standard form seen in the course:\n",
    "    \n",
    "$$\n",
    "\\dot X = f(X, t)\n",
    "$$\n",
    "\n",
    "With:\n",
    "\n",
    "$$\n",
    "X = \\begin{bmatrix}\n",
    "x \\\\\n",
    "\\dot x\n",
    "\\end{bmatrix}\n",
    "$$\n",
    "\n",
    "And, as a consequence:\n",
    "\n",
    "$$\n",
    "\\dot X = \\begin{bmatrix}\n",
    "\\dot x \\\\\n",
    "\\ddot x\n",
    "\\end{bmatrix}\n",
    "$$\n"
   ]
  },
  {
   "cell_type": "code",
   "execution_count": null,
   "metadata": {},
   "outputs": [],
   "source": [
    "# COMPLETE THIS CELL\n",
    "\n",
    "\n",
    "def f(X, t):\n",
    "    \"\"\"\n",
    "    Duffing equation.\n",
    "    \"\"\"\n",
    "    x, dotx = X\n",
    "    dotX = np.zeros(2)\n",
    "    # COMPLETE\n",
    "    # dotX[0] =\n",
    "    # dotX[1] =\n",
    "    return dotX"
   ]
  },
  {
   "cell_type": "markdown",
   "metadata": {},
   "source": [
    "## Part 2: Time integration\n",
    "\n",
    "### Integration\n",
    "\n",
    "Integrate the equation with respect to time from a point $X_0$ of your choice during $N_T=1000$ periods with $N_F=60$ time steps per period:"
   ]
  },
  {
   "cell_type": "code",
   "execution_count": null,
   "metadata": {
    "tags": []
   },
   "outputs": [],
   "source": [
    "# COMPLETE THIS CELL\n",
    "\n",
    "# SETUP\n",
    "NT = 1000  # NUMBER OF EXCITATION PERIODS\n",
    "NF = 180  # FRAMES PER EXCITATION PERIODS\n",
    "Td = fd**-1  # EXCITATION FREQUENCY\n",
    "dt = Td / NF  # TIME STEP\n",
    "# t =\n",
    "X0 = np.array([0.0, 0.0])  # CHANGE THE VALUES TO YOUR LIKING\n",
    "# sol = # SOLVE THE ODE\n",
    "# x =\n",
    "# dotx ="
   ]
  },
  {
   "cell_type": "markdown",
   "metadata": {},
   "source": [
    "### Amplitude *vs.* time\n",
    "\n",
    "Plot the resulting position vs time $(t, x)$:"
   ]
  },
  {
   "cell_type": "code",
   "execution_count": null,
   "metadata": {
    "tags": []
   },
   "outputs": [],
   "source": [
    "# xmax = x.max() / xw\n",
    "# xmin = x.min() / xw\n",
    "# xspan = xmax - xmin\n",
    "# xlim = xmin - .1 * xspan, xmax +.1 * xspan\n",
    "\n",
    "fig = plt.figure(figsize=(10, 6))\n",
    "ax1 = fig.add_subplot(1, 2, 1)\n",
    "plt.title(\"Whole solution\")\n",
    "# plt.plot(t/Td, x/xw, \"r-\", label = \"Whole solution\")\n",
    "# plt.plot(t[-5*NF:]/Td, x[-5*NF:]/xw, \"b-\", label = \"Last 5 periods\")\n",
    "plt.grid()\n",
    "plt.legend()\n",
    "plt.xlabel(\"Time, $t/T_d$\")\n",
    "plt.ylabel(\"Position $x/x_{w}$\")\n",
    "# plt.ylim(*xlim)\n",
    "ax2 = fig.add_subplot(1, 2, 2)\n",
    "plt.title(\"Steady state\")\n",
    "# plt.plot(t[-5*NF:]/Td, x[-5*NF:]/xw, \"b-\", label = \"Last 5 periods\")\n",
    "plt.grid()\n",
    "plt.legend()\n",
    "# plt.ylim(*xlim)\n",
    "plt.xlabel(\"Time, $t/T_d$\")\n",
    "plt.show()"
   ]
  },
  {
   "cell_type": "markdown",
   "metadata": {},
   "source": [
    "### Phase plane\n",
    "\n",
    "Plot the resulting trajectory in the phase plane $(x, \\dot x)$:"
   ]
  },
  {
   "cell_type": "code",
   "execution_count": null,
   "metadata": {
    "tags": []
   },
   "outputs": [],
   "source": [
    "plt.figure()\n",
    "# plt.plot(x/xw, dotx/(xw*w0), \"r-\", label = \"Transient regime\")\n",
    "# plt.plot(x[-5*NF:]/xw, dotx[-5*NF:]/(xw*w0), \"b-\", label = \"Steady state\")\n",
    "plt.grid()\n",
    "plt.xlabel(\"Position $x/x_{w}$\")\n",
    "plt.ylabel(\"Speed, $\\dot x / {\\omega_d x_{w}}$\")\n",
    "plt.show()"
   ]
  },
  {
   "cell_type": "markdown",
   "metadata": {},
   "source": [
    "Depending on your starting point, the trajectory may lead to a different steady state regime.\n",
    "\n",
    "**Questions**:\n",
    "* Interpret the graphs obtained. In particular, emphasize the differences between transient and steady-state conditions. Does the latter depend on the same frequency as the acceleration imposed on the system? Is there more than one steady state? If so, how can you identify them all?\n",
    "* Propose ways to extract information on the dynamic behavior of this system."
   ]
  },
  {
   "cell_type": "markdown",
   "metadata": {},
   "source": [
    "## Part 3: Poincaré sections and attractors \n",
    "\n",
    "The [Poincaré section](https://en.wikipedia.org/wiki/Poincar%C3%A9_map) is a tool developed by Henri Poincaré to observe and analyze the behavior of an integral curve. \n",
    "In the present case, we propose to look at a particular form of Poincaré section by plotting only the positions of the system in the phase space that correspond to whole excitation periods, *i.e.* $t = 0. \\mbox{ mod } Td$.\n",
    "Think of a way to plot these points and put it in place.\n",
    "\n",
    "**Remark**: have a look at the [Numpy slicing tutorial](https://numpy.org/doc/stable/user/basics.indexing.html#slicing-and-striding) \n",
    "\n"
   ]
  },
  {
   "cell_type": "code",
   "execution_count": null,
   "metadata": {},
   "outputs": [],
   "source": [
    "# POINCARE SECTION\n",
    "# xp = # COMPLETE\n",
    "# dotx =  # COMPLETE\n",
    "\n",
    "plt.figure()\n",
    "# plt.scatter(xp/xw, dotxp/(xw*w0), marker=\"o\", s = 5, color = \"r\", label = \"Poincaré Section\")\n",
    "# plt.scatter(xp[-5:]/xw, dotxp[-5:]/(xw*w0), marker=\"o\", s = 30, color = \"b\", label = \"Attractors\")\n",
    "plt.grid()\n",
    "# plt.legend()\n",
    "plt.xlabel(\"Position $x/x_{w}$\")\n",
    "plt.ylabel(\"Speed, $\\dot x / {\\omega_d x_{w}}$\")\n",
    "plt.show()\n",
    "# plt.close(\"all\")"
   ]
  },
  {
   "cell_type": "markdown",
   "metadata": {
    "tags": []
   },
   "source": [
    "At this point, you may have noticed that the Poincaré section indicates that the trajectory of the system in the phase plane is a convergence to one (or more) particular points called attractors. Change the values of $X_0$ and try to find different attractors. \n",
    "\n",
    "**Hint**: try these start points"
   ]
  },
  {
   "cell_type": "code",
   "execution_count": null,
   "metadata": {},
   "outputs": [],
   "source": [
    "X0 = np.array([-4.0 * xw, 3.0 * xw * w0])\n",
    "X0 = np.array([-4.0 * xw, 5.0 * xw * w0])\n",
    "X0 = np.array([-3.0 * xw, 4.0 * xw * w0])\n",
    "X0 = np.array([-3.0 * xw, 5.0 * xw * w0])\n",
    "X0 = np.array([-7.0 * xw, 20.0 * xw * w0])"
   ]
  },
  {
   "cell_type": "markdown",
   "metadata": {},
   "source": [
    "**Note**: write down a list of the attractors that you have found, you will used them in the next part."
   ]
  },
  {
   "cell_type": "code",
   "execution_count": null,
   "metadata": {},
   "outputs": [],
   "source": [
    "attractors = []  # A LIST OF ATTRACTORS"
   ]
  },
  {
   "cell_type": "markdown",
   "metadata": {},
   "source": [
    "**Questions**\n",
    "* How do you explain that the Poincaré section seems to converge to several points in some cases? Feel free to consult [Thomas Huguet's article](https://hal.archives-ouvertes.fr/hal-02092544/document).\n",
    "* How can we classify the attractors?"
   ]
  },
  {
   "cell_type": "markdown",
   "metadata": {},
   "source": [
    "## Part 4: Orbits\n",
    "\n",
    "In the previous section, you observed that the Poincaré sections in the phase plane converge to particular points called attractors. The trajectory of an attractor in the phase plane is called an orbit.Draw these trajectories for all the attractors you found. "
   ]
  },
  {
   "cell_type": "code",
   "execution_count": null,
   "metadata": {},
   "outputs": [],
   "source": []
  },
  {
   "cell_type": "markdown",
   "metadata": {},
   "source": [
    "**Questions**: \n",
    "* Interpret how these orbits are assembled in layers."
   ]
  },
  {
   "cell_type": "markdown",
   "metadata": {},
   "source": [
    "## Part 3: Chaos and strange attractor\n",
    "\n",
    "We now propose to work with a different excitation frequency. In this case, you will observe that the Poincaré section does not always converge to a point, it can also converge to a surface called a [strange attractor](https://en.wikipedia.org/wiki/Attractor#Strange_attractor). Make this strange attractor obvious by drawing the Poincaré sections. What do you observe ? \n"
   ]
  },
  {
   "cell_type": "code",
   "execution_count": null,
   "metadata": {
    "tags": []
   },
   "outputs": [],
   "source": [
    "NT = 10000  # NUMBER OF EXCITATION PERIODS\n",
    "NF = 8  # FRAMES PER EXCITATION PERIODS\n",
    "fd = 25.0  # Hertz\n",
    "omegad = 2.0 * pi * fd\n",
    "Td = fd**-1  # EXCITATION FREQUENCY\n",
    "dt = Td / NF  # TIME STEP\n",
    "\n",
    "\n",
    "# CODE HERE"
   ]
  },
  {
   "cell_type": "code",
   "execution_count": null,
   "metadata": {},
   "outputs": [],
   "source": [
    "plt.figure()\n",
    "# plt.scatter(xp/xw, dotxp/(xw*w0), marker=\"o\", s = 5, color = \"r\")\n",
    "plt.grid()\n",
    "plt.xlabel(\"Position $x/x_{w}$\")\n",
    "plt.ylabel(\"Speed, $\\dot x / {\\omega_d x_{w}}$\")\n",
    "plt.show()"
   ]
  },
  {
   "cell_type": "markdown",
   "metadata": {},
   "source": [
    "```{bibliography}\n",
    ":filter: docname in docnames\n",
    "```"
   ]
  },
  {
   "cell_type": "code",
   "execution_count": null,
   "metadata": {},
   "outputs": [],
   "source": []
  }
 ],
 "metadata": {
  "kernelspec": {
   "display_name": "Python 3 (ipykernel)",
   "language": "python",
   "name": "python3"
  },
  "language_info": {
   "codemirror_mode": {
    "name": "ipython",
    "version": 3
   },
   "file_extension": ".py",
   "mimetype": "text/x-python",
   "name": "python",
   "nbconvert_exporter": "python",
   "pygments_lexer": "ipython3",
   "version": "3.10.13"
  }
 },
 "nbformat": 4,
 "nbformat_minor": 4
}
