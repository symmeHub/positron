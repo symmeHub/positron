{
 "cells": [
  {
   "attachments": {},
   "cell_type": "markdown",
   "metadata": {},
   "source": [
    "# Tutorial: Counting objects using labeling\n",
    "\n",
    "## Introduction\n",
    "\n",
    "The goal of this tutorial is to learn basic image processing skills using a simple picture of coins on a table. Your task is to identify and count the coins.\n",
    "You can use the following image or take a picture of your own and work with it.\n",
    "\n",
    "<cimg><img src=\"coins.jpg\" width=\"300px\" class=\"rotateimg rot-135\" /></cimg>\n",
    "\n",
    "## Setup"
   ]
  },
  {
   "cell_type": "code",
   "execution_count": null,
   "metadata": {},
   "outputs": [],
   "source": [
    "%matplotlib notebook\n",
    "from skimage import io\n",
    "import numpy as np\n",
    "from matplotlib import pyplot as plt\n",
    "from matplotlib import cm\n",
    "from scipy import ndimage\n",
    "import os\n",
    "\n"
   ]
  },
  {
   "cell_type": "markdown",
   "metadata": {},
   "source": [
    "##  Open the file"
   ]
  },
  {
   "cell_type": "code",
   "execution_count": null,
   "metadata": {},
   "outputs": [],
   "source": [
    "path = \"coins.jpg\"\n",
    "files = os.listdir(\"./\")\n",
    "if path in files:\n",
    "    print(\"Ok, the file is in {0}\".format(files))\n",
    "else:\n",
    "    print(\"The file is not in {0} , retry !\".format(files))"
   ]
  },
  {
   "cell_type": "code",
   "execution_count": null,
   "metadata": {},
   "outputs": [],
   "source": [
    "im = io.imread(path)\n",
    "plt.figure()\n",
    "plt.imshow(im)\n",
    "plt.show()"
   ]
  },
  {
   "cell_type": "code",
   "execution_count": null,
   "metadata": {},
   "outputs": [],
   "source": [
    "print(f\"The image is a {type(im)}\")\n",
    "print(f\"The shape of this numpy array is {im.shape} and the data type is {im.dtype}\")\n",
    "print(f\"This image has {im.size} pixels\")\n",
    "print(f\"The height is {im.shape[0]} and the width is {im.shape[1]}\")\n",
    "print(f\"The image has {im.shape[2]} channels\")"
   ]
  },
  {
   "cell_type": "markdown",
   "metadata": {},
   "source": [
    "## Plot the histogram\n",
    "\n",
    "Plot the histogram of the image."
   ]
  },
  {
   "cell_type": "code",
   "execution_count": null,
   "metadata": {},
   "outputs": [],
   "source": [
    "# CODE HERE"
   ]
  },
  {
   "cell_type": "markdown",
   "metadata": {},
   "source": [
    "##  Thresholding\n",
    "\n",
    "Use thresholding to convert the image to a binary format."
   ]
  },
  {
   "cell_type": "code",
   "execution_count": null,
   "metadata": {},
   "outputs": [],
   "source": [
    "# CODE HERE"
   ]
  },
  {
   "cell_type": "markdown",
   "metadata": {},
   "source": [
    "## Erosion / Dilation \n",
    "\n",
    "Use **erosion** and **dilation** to clean the image if needed to isolate each coin."
   ]
  },
  {
   "cell_type": "code",
   "execution_count": null,
   "metadata": {},
   "outputs": [],
   "source": [
    "# CODE HERE"
   ]
  },
  {
   "cell_type": "markdown",
   "metadata": {},
   "source": [
    "## Labeling\n",
    "\n",
    "Use the labeling (`scipy.ndimage.measurements.label`) algorithm to isolate each coin."
   ]
  },
  {
   "cell_type": "code",
   "execution_count": null,
   "metadata": {},
   "outputs": [],
   "source": [
    "# CODE HERE"
   ]
  }
 ],
 "metadata": {
  "kernelspec": {
   "display_name": "myenv",
   "language": "python",
   "name": "python3"
  },
  "language_info": {
   "codemirror_mode": {
    "name": "ipython",
    "version": 3
   },
   "file_extension": ".py",
   "mimetype": "text/x-python",
   "name": "python",
   "nbconvert_exporter": "python",
   "pygments_lexer": "ipython3",
   "version": "3.7.7"
  },
  "vscode": {
   "interpreter": {
    "hash": "e236f0c29ea6efb4d79ddc00bd91f1d1642b65f355728415d6cc1154b712ce99"
   }
  }
 },
 "nbformat": 4,
 "nbformat_minor": 2
}
