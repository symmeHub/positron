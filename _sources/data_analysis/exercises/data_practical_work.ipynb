{
 "cells": [
  {
   "cell_type": "markdown",
   "metadata": {
    "toc": true
   },
   "source": [
    "<h1>Table of Contents<span class=\"tocSkip\"></span></h1>\n",
    "<div class=\"toc\"><ul class=\"toc-item\"><li><span><a href=\"#General-scope\" data-toc-modified-id=\"General-scope-1\"><span class=\"toc-item-num\">1&nbsp;&nbsp;</span>General scope</a></span></li><li><span><a href=\"#Session-objective\" data-toc-modified-id=\"Session-objective-2\"><span class=\"toc-item-num\">2&nbsp;&nbsp;</span>Session objective</a></span></li><li><span><a href=\"#The-dataset-:\" data-toc-modified-id=\"The-dataset-:-3\"><span class=\"toc-item-num\">3&nbsp;&nbsp;</span>The dataset :</a></span></li><li><span><a href=\"#This-class-must-be-able-to-:\" data-toc-modified-id=\"This-class-must-be-able-to-:-4\"><span class=\"toc-item-num\">4&nbsp;&nbsp;</span>This class must be able to :</a></span><ul class=\"toc-item\"><li><span><a href=\"#Level-0\" data-toc-modified-id=\"Level-0-4.1\"><span class=\"toc-item-num\">4.1&nbsp;&nbsp;</span>Level 0</a></span></li><li><span><a href=\"#Level-1\" data-toc-modified-id=\"Level-1-4.2\"><span class=\"toc-item-num\">4.2&nbsp;&nbsp;</span>Level 1</a></span></li><li><span><a href=\"#Level-2\" data-toc-modified-id=\"Level-2-4.3\"><span class=\"toc-item-num\">4.3&nbsp;&nbsp;</span>Level 2</a></span></li><li><span><a href=\"#Level-3\" data-toc-modified-id=\"Level-3-4.4\"><span class=\"toc-item-num\">4.4&nbsp;&nbsp;</span>Level 3</a></span></li></ul></li><li><span><a href=\"#Steps-to-structure-your-work\" data-toc-modified-id=\"Steps-to-structure-your-work-5\"><span class=\"toc-item-num\">5&nbsp;&nbsp;</span>Steps to structure your work</a></span></li><li><span><a href=\"#Some-help:\" data-toc-modified-id=\"Some-help:-6\"><span class=\"toc-item-num\">6&nbsp;&nbsp;</span>Some help:</a></span><ul class=\"toc-item\"><li><span><a href=\"#Useful-function\" data-toc-modified-id=\"Useful-function-6.1\"><span class=\"toc-item-num\">6.1&nbsp;&nbsp;</span>Useful function</a></span></li><li><span><a href=\"#Here-is-a-simple-template-of-the-class-that-you-should-build\" data-toc-modified-id=\"Here-is-a-simple-template-of-the-class-that-you-should-build-6.2\"><span class=\"toc-item-num\">6.2&nbsp;&nbsp;</span>Here is a simple template of the class that you should build</a></span></li></ul></li></ul></div>"
   ]
  },
  {
   "cell_type": "markdown",
   "metadata": {},
   "source": [
    "# Practical work (TP) : Tensile test analysis\n",
    "\n",
    "## General scope\n",
    "\n",
    "From global point of view, test machines, sensors provide time-stamped data. \n",
    "Most of the time this a data are stored in a tabular shape, i.e. one line for each record with its time-stamp.\n",
    "\n",
    "A common way to store this data is to use '*.csv' file. A '*.cvs' file looks like:\n",
    "\n",
    "```csv\n",
    "time;data1;data2;data3\n",
    "0.0;12.;.001;'blue'\n",
    "0.1;11.5;.002;'red'\n",
    "0.2;14.2;.004;'blue'\n",
    "0.3;14.2;-.004;'green'\n",
    "...\n",
    "...\n",
    "...\n",
    "```\n",
    "\n",
    "The `Pandas` module is a convenient way to manage this file (read and write).\n",
    "\n",
    "In addition, metadata can be stored in this file, at the beginning of the file. \n",
    "In this metadata global info can be stored, as the date of the test, the name of the operator, the material, the sample type, commentary...\n",
    "\n",
    "A total file can look like:\n",
    "\n",
    "```csv\n",
    "date : 01-02-1900\n",
    "user : bob\n",
    "material : Steel \n",
    "length : .5\n",
    "remarks : This test is awsome\n",
    "\n",
    "time;data1;data2;data3\n",
    "0.0;12.;.001;'blue'\n",
    "0.1;11.5;.002;'red'\n",
    "0.2;14.2;.004;'blue'\n",
    "0.3;14.2;-.004;'green'\n",
    "...\n",
    "...\n",
    "...\n",
    "```\n",
    "## Session objective\n",
    "\n",
    "In this session you are asked to analyse data coming from the tensile test.\n",
    "This analysis aims at extracting mechanical properties of the material, such as the Young modulus, mechanical strength and yield strength from the load/displacement curve.\n",
    "\n",
    "At the end of this session, you should have a class that is able to deal with the data coming from a tensile test. \n",
    "\n",
    "## The dataset :\n",
    "\n",
    ":::{admonition} Required files\n",
    ":class: important\n",
    "It can be dowloaded at this link [TensileData](https://drive.google.com/drive/u/1/folders/1Kp-Omga2JykownLw2rureS9A-PhsSJMx).\n",
    ":::\n",
    "\n",
    "It contains 4 files, the ***unit are s/N/mm*** :\n",
    "\n",
    "- Test_1.csv\n",
    "- Test_2.csv\n",
    "- Test_3.csv \n",
    "- Test_4.csv\n",
    "\n",
    "\n",
    "\n",
    "## This class must be able to :\n",
    "\n",
    "### Level 0\n",
    "- read the data in a csv file\n",
    "- compute the nominal stress and nominal strain\n",
    "- compute the true stress and true strain\n",
    "- plot the relevant curves\n",
    "\n",
    "### Level 1\n",
    "- read automatically the header metadata of csv file\n",
    "- determine the Young modulus $E$\n",
    "- determine the Yield stress and the Yield stress a 0.02% of strain\n",
    "- determine the mechanical strength\n",
    "\n",
    "### Level 2\n",
    "- compute the plastique strain ($\\varepsilon_p = \\varepsilon - \\dfrac{\\sigma}{E} $)\n",
    "- fit the stress / plastic strain curve with a power plastic law ($\\sigma = \\sigma_0 + K {\\varepsilon_p}^n $) \n",
    "\n",
    "### Level 3\n",
    "- Run the procedure over all the batch.\n"
   ]
  },
  {
   "cell_type": "code",
   "execution_count": null,
   "metadata": {},
   "outputs": [],
   "source": [
    "# Setup\n",
    "%matplotlib widget\n",
    "import numpy as np\n",
    "import pandas as pd\n",
    "import matplotlib.pyplot as plt\n",
    "import matplotlib as mpl"
   ]
  },
  {
   "cell_type": "markdown",
   "metadata": {},
   "source": [
    "## Steps to structure your work\n",
    "\n",
    "1- Find the way to extract the relevant data from one dataset (E, Re, Rm, ...)\n",
    "\n",
    "2- Structure your work using the class structure of python\n",
    "\n",
    "3- Perform analysis on several loads/displacement curves  \n",
    "\n",
    "\n"
   ]
  },
  {
   "cell_type": "markdown",
   "metadata": {},
   "source": [
    "\n",
    "\n",
    "\n"
   ]
  },
  {
   "cell_type": "markdown",
   "metadata": {},
   "source": [
    "## Some help:\n",
    "### Useful function \n",
    "\n",
    ":::{admonition} Tip: split a string into 2 parts\n",
    ":class: tip\n",
    "```python\n",
    "line = \"z = 143.2\"\n",
    "word1, word2 = line.split(\"=\")\n",
    "```"
   ]
  },
  {
   "cell_type": "markdown",
   "metadata": {},
   "source": [
    "### Here is a simple template of the class that you should build"
   ]
  },
  {
   "cell_type": "code",
   "execution_count": null,
   "metadata": {},
   "outputs": [],
   "source": [
    "class TensileTest:\n",
    "    \"\"\"\n",
    "    this class is able to ....\n",
    "    \"\"\"\n",
    "\n",
    "    def __init__(self, csv_file=\"xxx\"):\n",
    "        self.csv_file = csv_file\n",
    "        # CODDE HERE\n",
    "\n",
    "    def __repr__(self):\n",
    "        return \"<tensileTest: (file: {0}, E = {1:.2} MPa)>\".format(\n",
    "            self.csv_file, self.get_YoungModulus()\n",
    "        )\n",
    "\n",
    "    def get_YoungModulus(self):\n",
    "        # CODDE HERE\n",
    "        return 1.0"
   ]
  },
  {
   "cell_type": "code",
   "execution_count": null,
   "metadata": {},
   "outputs": [],
   "source": [
    "test1 = TensileTest()  # call the __init__ function"
   ]
  },
  {
   "cell_type": "code",
   "execution_count": null,
   "metadata": {},
   "outputs": [],
   "source": [
    "test1  # call the __repr__ function"
   ]
  },
  {
   "cell_type": "code",
   "execution_count": null,
   "metadata": {},
   "outputs": [],
   "source": [
    "# CODDE HERE"
   ]
  }
 ],
 "metadata": {
  "kernelspec": {
   "display_name": "Python 3",
   "language": "python",
   "name": "python3"
  },
  "language_info": {
   "codemirror_mode": {
    "name": "ipython",
    "version": 3
   },
   "file_extension": ".py",
   "mimetype": "text/x-python",
   "name": "python",
   "nbconvert_exporter": "python",
   "pygments_lexer": "ipython3",
   "version": "3.8.3"
  },
  "toc": {
   "base_numbering": 1,
   "nav_menu": {},
   "number_sections": true,
   "sideBar": true,
   "skip_h1_title": true,
   "title_cell": "Table of Contents",
   "title_sidebar": "Contents",
   "toc_cell": true,
   "toc_position": {},
   "toc_section_display": true,
   "toc_window_display": false
  },
  "vscode": {
   "interpreter": {
    "hash": "ad2bdc8ecc057115af97d19610ffacc2b4e99fae6737bb82f5d7fb13d2f2c186"
   }
  }
 },
 "nbformat": 4,
 "nbformat_minor": 2
}
