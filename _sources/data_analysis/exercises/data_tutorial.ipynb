{
 "cells": [
  {
   "cell_type": "markdown",
   "metadata": {},
   "source": [
    "(dataM:tutorial:tempdata)=\n",
    "# Analysis of data from a weather station\n",
    "\n",
    "The purpose of this session is to highlight temperature data evolution using the panda module.\n",
    "\n",
    "The data are measured at the station \"Col du grand saint Bernad\" in Switzerland. The data can be downloaded [here](https://www.ncdc.noaa.gov/cdo-web/datasets/GHCND/stations/GHCND:SZ000006717/detail).\n",
    "\n"
   ]
  },
  {
   "cell_type": "code",
   "execution_count": null,
   "metadata": {},
   "outputs": [],
   "source": [
    "# Setup\n",
    "%matplotlib notebook\n",
    "import numpy as np\n",
    "import pandas as pd\n",
    "import matplotlib.pyplot as plt\n",
    "import matplotlib as mpl\n",
    "from matplotlib import animation, rc, cm\n",
    "\n",
    "rc(\"animation\", html=\"html5\")"
   ]
  },
  {
   "cell_type": "markdown",
   "metadata": {},
   "source": [
    "## Questions"
   ]
  },
  {
   "cell_type": "markdown",
   "metadata": {},
   "source": [
    "**Question 1**: Load the data base and observe the different fields."
   ]
  },
  {
   "cell_type": "code",
   "execution_count": null,
   "metadata": {},
   "outputs": [],
   "source": []
  },
  {
   "cell_type": "markdown",
   "metadata": {},
   "source": [
    "**Question 2**: What is the type of the DATE data ? Use the pandas function `to_datetime()` to convert it to date type data."
   ]
  },
  {
   "cell_type": "code",
   "execution_count": null,
   "metadata": {},
   "outputs": [],
   "source": []
  },
  {
   "cell_type": "markdown",
   "metadata": {},
   "source": [
    "**Question 3**: Plot the temperature vs. time. Is thier missing data ? "
   ]
  },
  {
   "cell_type": "code",
   "execution_count": null,
   "metadata": {},
   "outputs": [],
   "source": []
  },
  {
   "cell_type": "markdown",
   "metadata": {},
   "source": [
    "**Question 4**: Compute the annual average of each temperature (TMIN, TAVG, TMAX)? And plot it.\n",
    "\n",
    "The date object allows to acces date informations.\n",
    "If D is a DATE object :\n",
    "* `D.dt.year` gives the year of the date\n",
    "* `D.dt.month` gives the month of the date "
   ]
  },
  {
   "cell_type": "code",
   "execution_count": null,
   "metadata": {},
   "outputs": [],
   "source": []
  },
  {
   "cell_type": "markdown",
   "metadata": {},
   "source": [
    "**Question 6**: What is the average temperature profile of a year month by month? Do this average calculation on the data from 1860 to 1900. Make a plot of it."
   ]
  },
  {
   "cell_type": "code",
   "execution_count": null,
   "metadata": {},
   "outputs": [],
   "source": []
  },
  {
   "cell_type": "markdown",
   "metadata": {},
   "source": [
    "**Question 7**: Calculates the gap between this base year and the following years (1960 to 2020).\n"
   ]
  },
  {
   "cell_type": "code",
   "execution_count": null,
   "metadata": {},
   "outputs": [],
   "source": []
  },
  {
   "cell_type": "markdown",
   "metadata": {},
   "source": [
    "**Question 8**: Make a plot looking like a known gif:\n",
    "\n",
    "<img src=\"http://www.climate-lab-book.ac.uk/files/2016/05/spiral_optimized.gif\" width=\"400\">"
   ]
  },
  {
   "cell_type": "code",
   "execution_count": null,
   "metadata": {},
   "outputs": [],
   "source": [
    "# an exemple to do an annimation\n",
    "\"\"\"\n",
    "T = np.linspace(0,10,100)\n",
    "mrad = np.linspace(0,6*np.pi,100)\n",
    "def updatefig(i):\n",
    "    line.set_data(mrad[:i], T[:i])\n",
    "    #time_text.set_text('Year = {:}'.format(dfby.index.get_level_values(0)[i]))\n",
    "    return line,time_text\n",
    "\n",
    "\n",
    "fig, ax = plt.subplots()\n",
    "ax.axis('off')\n",
    "line, = plt.polar([], [],'-.', animated=True)\n",
    "time_text = ax.text(0.02, 0.95, '', transform=ax.transAxes)\n",
    "plt.ylim([-1, 10])\n",
    "\n",
    "\n",
    "anim = animation.FuncAnimation(fig, updatefig, frames=100, interval=10, blit=True)\n",
    "anim\n",
    "\"\"\""
   ]
  },
  {
   "cell_type": "code",
   "execution_count": null,
   "metadata": {},
   "outputs": [],
   "source": []
  }
 ],
 "metadata": {
  "kernelspec": {
   "display_name": "Python 3",
   "language": "python",
   "name": "python3"
  },
  "language_info": {
   "codemirror_mode": {
    "name": "ipython",
    "version": 3
   },
   "file_extension": ".py",
   "mimetype": "text/x-python",
   "name": "python",
   "nbconvert_exporter": "python",
   "pygments_lexer": "ipython3",
   "version": "3.8.3"
  },
  "toc": {
   "base_numbering": 1,
   "nav_menu": {},
   "number_sections": true,
   "sideBar": true,
   "skip_h1_title": true,
   "title_cell": "Table of Contents",
   "title_sidebar": "Contents",
   "toc_cell": true,
   "toc_position": {},
   "toc_section_display": true,
   "toc_window_display": false
  },
  "vscode": {
   "interpreter": {
    "hash": "ad2bdc8ecc057115af97d19610ffacc2b4e99fae6737bb82f5d7fb13d2f2c186"
   }
  }
 },
 "nbformat": 4,
 "nbformat_minor": 2
}
