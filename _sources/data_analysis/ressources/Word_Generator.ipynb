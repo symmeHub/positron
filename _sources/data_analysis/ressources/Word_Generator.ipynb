{
 "cells": [
  {
   "cell_type": "markdown",
   "metadata": {
    "slideshow": {
     "slide_type": "slide"
    }
   },
   "source": [
    "(dataM:ressources:WordGen)=\n",
    "# Word Generator "
   ]
  },
  {
   "cell_type": "markdown",
   "metadata": {
    "slideshow": {
     "slide_type": "subslide"
    }
   },
   "source": [
    "## Scope\n",
    "\n",
    "This notebook was inspired by the great video proposed by David Louapre available on his Youtube channel *\"Science Etonnante\"*.\n",
    "\n",
    "https://sciencetonnante.wordpress.com/2015/11/06/la-machine-a-inventer-des-mots-version-ikea/\n",
    "\n",
    "Here the word generator is embedded in a class."
   ]
  },
  {
   "cell_type": "code",
   "execution_count": null,
   "metadata": {
    "slideshow": {
     "slide_type": "slide"
    },
    "tags": [
     "hide-input"
    ]
   },
   "outputs": [],
   "source": [
    "# Setup\n",
    "%load_ext autoreload\n",
    "%matplotlib ipympl\n",
    "%autoreload 2\n",
    "import numpy as np\n",
    "import pandas as pd\n",
    "import matplotlib.pyplot as plt\n",
    "import matplotlib as mpl\n",
    "import IPython, io, urllib\n",
    "import codecs\n",
    "import re\n",
    "from numpy.random import choice, seed\n",
    "\n",
    "seed(1)"
   ]
  },
  {
   "cell_type": "markdown",
   "metadata": {
    "slideshow": {
     "slide_type": "slide"
    }
   },
   "source": [
    "## The video "
   ]
  },
  {
   "cell_type": "code",
   "execution_count": null,
   "metadata": {
    "slideshow": {
     "slide_type": "-"
    },
    "tags": []
   },
   "outputs": [],
   "source": [
    "IPython.display.YouTubeVideo(\"YsR7r2378j0\")"
   ]
  },
  {
   "cell_type": "markdown",
   "metadata": {
    "slideshow": {
     "slide_type": "slide"
    }
   },
   "source": [
    "## The Class that manage the word generator"
   ]
  },
  {
   "cell_type": "code",
   "execution_count": null,
   "metadata": {
    "slideshow": {
     "slide_type": "-"
    },
    "tags": []
   },
   "outputs": [],
   "source": [
    "class word_generator:\n",
    "    def __init__(self, dic_file):\n",
    "        # Input file containing one word per line, and its encoding\n",
    "        # Assumes one word per line but if the the words are followed by\n",
    "        # a space, a tab, a slash, a comma, etc....the end of the line will be trimmed\n",
    "        self.dic_file = dic_file\n",
    "        self.encoding = \"ISO-8859-1\"\n",
    "\n",
    "        # Name of the output binary matrix, matrix image file and output txt file\n",
    "        count_file = r\"count_FR.bin\"\n",
    "        proba_matrix = r\"matrix_FR.png\"\n",
    "        self.outfile = r\"output.txt\"\n",
    "\n",
    "        self.read_dic()\n",
    "\n",
    "    def read_dic(self):\n",
    "        self.dico = []  # to store the words of the dictionnary\n",
    "\n",
    "        self.count = np.zeros((256, 256, 256), dtype=\"int32\")\n",
    "        with codecs.open(self.dic_file, \"r\", self.encoding) as lines:\n",
    "            for l in lines:\n",
    "                # Trimming of the line :\n",
    "                # Split on white space, tab, slash backslah or open parenthesis\n",
    "                # and keep the first string, add EOL character\n",
    "                l2 = re.split(\"[ /\\\\\\t,\\(]\", l)[0] + \"\\n\"\n",
    "                self.dico.append(l2[:-1])\n",
    "                i, j = 0, 0\n",
    "                for k in [ord(c) for c in list(l2)]:\n",
    "                    self.count[i, j, k] += 1\n",
    "                    i = j\n",
    "                    j = k\n",
    "\n",
    "    def plot(self):\n",
    "        count2D = self.count.sum(axis=0)\n",
    "        p2D = count2D.astype(\"float\") / np.tile(sum(count2D.T), (256, 1)).T\n",
    "        p2D[np.isnan(p2D)] = 0\n",
    "\n",
    "        # For better contrast, we plot p^alpha instead of p\n",
    "        alpha = 0.33\n",
    "        p2Da = p2D**alpha\n",
    "        self.p2Da = p2Da[97:123, 97:123]\n",
    "\n",
    "        # We display only letters a to z, ie ASCII from 97 to 123.\n",
    "        plt.figure(figsize=(8, 8))\n",
    "        gr = plt.imshow(self.p2Da, interpolation=\"nearest\", cmap=mpl.cm.OrRd)\n",
    "        plt.axis(\"off\")\n",
    "        cbar = plt.colorbar(gr, orientation=\"vertical\")\n",
    "\n",
    "        for i in range(97, 123):\n",
    "            plt.text(\n",
    "                -1,\n",
    "                i - 97,\n",
    "                chr(i),\n",
    "                horizontalalignment=\"center\",\n",
    "                verticalalignment=\"center\",\n",
    "            )\n",
    "            plt.text(\n",
    "                i - 97,\n",
    "                -1,\n",
    "                chr(i),\n",
    "                horizontalalignment=\"center\",\n",
    "                verticalalignment=\"center\",\n",
    "            )\n",
    "\n",
    "    def __call__(self):\n",
    "        # For the random generator : what is the minimum and maximum number of letters\n",
    "        # in the words that we want to generate, and how many words for each length\n",
    "        smin, smax = 4, 12\n",
    "        K = 5\n",
    "\n",
    "        # Compute the probabilities by normalizing the counts\n",
    "        s = self.count.sum(axis=2)\n",
    "        st = np.tile(s.T, (256, 1, 1)).T\n",
    "        p = self.count.astype(\"float\") / st\n",
    "        p[np.isnan(p)] = 0\n",
    "\n",
    "        f = codecs.open(self.outfile, \"w\", self.encoding)\n",
    "        # Generate words\n",
    "        for size in range(smin, smax + 1):\n",
    "            total = 0\n",
    "            while total < K:\n",
    "                i, j = 0, 0\n",
    "                res = \"\"\n",
    "                while not j == 10:\n",
    "                    k = choice(range(256), 1, p=p[i, j, :])[0]\n",
    "                    res = res + chr(k)\n",
    "                    i, j = j, k\n",
    "                if len(res) == 1 + size:\n",
    "                    x = res[:-1]\n",
    "                    if res[:-1] in self.dico:\n",
    "                        x = res[:-1] + \"*\"\n",
    "                    total += 1\n",
    "                    print(x)\n",
    "                    f.write(x + \"\\n\")\n",
    "        f.close()"
   ]
  },
  {
   "cell_type": "markdown",
   "metadata": {
    "slideshow": {
     "slide_type": "slide"
    }
   },
   "source": [
    "## French "
   ]
  },
  {
   "cell_type": "code",
   "execution_count": null,
   "metadata": {
    "slideshow": {
     "slide_type": "fragment"
    },
    "tags": []
   },
   "outputs": [],
   "source": [
    "gen_FR = word_generator(r\"_DATA/dic/FR_aisi.txt\")\n",
    "gen_FR.plot()\n",
    "plt.show()"
   ]
  },
  {
   "cell_type": "code",
   "execution_count": null,
   "metadata": {
    "slideshow": {
     "slide_type": "subslide"
    },
    "tags": []
   },
   "outputs": [],
   "source": [
    "gen_FR()"
   ]
  },
  {
   "cell_type": "markdown",
   "metadata": {
    "slideshow": {
     "slide_type": "slide"
    }
   },
   "source": [
    "## Swedish  "
   ]
  },
  {
   "cell_type": "code",
   "execution_count": null,
   "metadata": {
    "slideshow": {
     "slide_type": "fragment"
    },
    "tags": []
   },
   "outputs": [],
   "source": [
    "gen_SE = word_generator(r\"_DATA/dic/SE_aisi.txt\")\n",
    "gen_SE.plot()"
   ]
  },
  {
   "cell_type": "code",
   "execution_count": null,
   "metadata": {
    "slideshow": {
     "slide_type": "subslide"
    },
    "tags": []
   },
   "outputs": [],
   "source": [
    "gen_SE()"
   ]
  },
  {
   "cell_type": "markdown",
   "metadata": {
    "slideshow": {
     "slide_type": "slide"
    }
   },
   "source": [
    "## Compare french and swedisch"
   ]
  },
  {
   "cell_type": "code",
   "execution_count": null,
   "metadata": {
    "tags": []
   },
   "outputs": [],
   "source": [
    "fig = plt.figure()\n",
    "ax = fig.add_subplot(1, 2, 1)\n",
    "ax.imshow(gen_FR.p2Da, interpolation=\"nearest\", cmap=mpl.cm.OrRd)\n",
    "ax.axis(\"off\")\n",
    "for i in range(97, 123):\n",
    "    plt.text(\n",
    "        -1, i - 97, chr(i), horizontalalignment=\"center\", verticalalignment=\"center\"\n",
    "    )\n",
    "    plt.text(\n",
    "        i - 97, -1, chr(i), horizontalalignment=\"center\", verticalalignment=\"center\"\n",
    "    )\n",
    "plt.title(\"French\")\n",
    "\n",
    "ax = fig.add_subplot(1, 2, 2)\n",
    "ax.imshow(gen_SE.p2Da, interpolation=\"nearest\", cmap=mpl.cm.OrRd)\n",
    "ax.axis(\"off\")\n",
    "for i in range(97, 123):\n",
    "    plt.text(\n",
    "        -1, i - 97, chr(i), horizontalalignment=\"center\", verticalalignment=\"center\"\n",
    "    )\n",
    "    plt.text(\n",
    "        i - 97, -1, chr(i), horizontalalignment=\"center\", verticalalignment=\"center\"\n",
    "    )\n",
    "plt.title(\"Swedisch\")\n",
    "plt.show()"
   ]
  },
  {
   "cell_type": "code",
   "execution_count": null,
   "metadata": {},
   "outputs": [],
   "source": []
  }
 ],
 "metadata": {
  "celltoolbar": "Slideshow",
  "kernelspec": {
   "display_name": "science",
   "language": "python",
   "name": "python3"
  },
  "language_info": {
   "codemirror_mode": {
    "name": "ipython",
    "version": 3
   },
   "file_extension": ".py",
   "mimetype": "text/x-python",
   "name": "python",
   "nbconvert_exporter": "python",
   "pygments_lexer": "ipython3",
   "version": "3.10.14"
  },
  "livereveal": {
   "footer": "<h3>Polytech Annecy / Chambery</h3>",
   "scroll": true,
   "theme": "sky",
   "transition": "zoom"
  },
  "toc": {
   "base_numbering": 1,
   "nav_menu": {},
   "number_sections": true,
   "sideBar": true,
   "skip_h1_title": true,
   "title_cell": "Table of Contents",
   "title_sidebar": "Contents",
   "toc_cell": true,
   "toc_position": {},
   "toc_section_display": true,
   "toc_window_display": false
  }
 },
 "nbformat": 4,
 "nbformat_minor": 4
}
