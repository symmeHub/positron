{
 "cells": [
  {
   "cell_type": "markdown",
   "metadata": {
    "toc": true
   },
   "source": [
    "<h1>Table of Contents<span class=\"tocSkip\"></span></h1>\n",
    "<div class=\"toc\"><ul class=\"toc-item\"><li><span><a href=\"#General-Scope\" data-toc-modified-id=\"General-Scope-1\"><span class=\"toc-item-num\">1&nbsp;&nbsp;</span>General Scope</a></span><ul class=\"toc-item\"><li><span><a href=\"#Optimization-probleme-formulation\" data-toc-modified-id=\"Optimization-probleme-formulation-1.1\"><span class=\"toc-item-num\">1.1&nbsp;&nbsp;</span>Optimization probleme formulation</a></span></li><li><span><a href=\"#Exemple-of-the-design-process\" data-toc-modified-id=\"Exemple-of-the-design-process-1.2\"><span class=\"toc-item-num\">1.2&nbsp;&nbsp;</span>Exemple of the design process</a></span></li></ul></li><li><span><a href=\"#Mathematical-formulation\" data-toc-modified-id=\"Mathematical-formulation-2\"><span class=\"toc-item-num\">2&nbsp;&nbsp;</span>Mathematical formulation</a></span><ul class=\"toc-item\"><li><span><a href=\"#Scope\" data-toc-modified-id=\"Scope-2.1\"><span class=\"toc-item-num\">2.1&nbsp;&nbsp;</span>Scope</a></span></li><li><span><a href=\"#Solving\" data-toc-modified-id=\"Solving-2.2\"><span class=\"toc-item-num\">2.2&nbsp;&nbsp;</span>Solving</a></span></li><li><span><a href=\"#General-purpose-approach\" data-toc-modified-id=\"General-purpose-approach-2.3\"><span class=\"toc-item-num\">2.3&nbsp;&nbsp;</span>General purpose approach</a></span></li><li><span><a href=\"#Curve-fitting-using-least-squares\" data-toc-modified-id=\"Curve-fitting-using-least-squares-2.4\"><span class=\"toc-item-num\">2.4&nbsp;&nbsp;</span>Curve fitting using least squares</a></span></li></ul></li></ul></div>"
   ]
  },
  {
   "cell_type": "markdown",
   "metadata": {
    "slideshow": {
     "slide_type": "slide"
    }
   },
   "source": [
    "# Support material\n",
    "\n",
    "**Author**: Emile Roux (emile.roux@univ-smb.fr), Ludovic Charleux \n",
    "\n",
    "..This notebook is ready for  [RISE](https://damianavila.github.io/RISE/) Slideshow"
   ]
  },
  {
   "cell_type": "code",
   "execution_count": null,
   "metadata": {
    "slideshow": {
     "slide_type": "notes"
    },
    "tags": [
     "hide-input"
    ]
   },
   "outputs": [],
   "source": [
    "# Setup\n",
    "%matplotlib inline\n",
    "import numpy as np\n",
    "import matplotlib.pyplot as plt\n",
    "import matplotlib\n",
    "\n",
    "params = {\n",
    "    \"font.size\": 14,\n",
    "    \"figure.figsize\": (10.0, 6.0),\n",
    "    \"lines.linewidth\": 2.0,\n",
    "    \"lines.markersize\": 8,\n",
    "}\n",
    "matplotlib.rcParams.update(params)"
   ]
  },
  {
   "cell_type": "markdown",
   "metadata": {
    "slideshow": {
     "slide_type": "slide"
    }
   },
   "source": [
    "## General Scope \n",
    "Optimization is the process of finding the best solution to a problem under a set of constraints. It is a fundamental concept in many fields, including mathematics, engineering, economics, and computer science. Optimization plays a critical role in various applications, including product design, scheduling, logistics, finance, and data analysis.\n",
    "\n",
    "The goal of optimization is to find the optimal value of a function, which is a measure of the objective of the problem. The objective function can be either to maximize or minimize a certain quantity, depending on the nature of the problem. The optimal solution is the set of values of the decision variables that maximizes or minimizes the objective function while satisfying the constraints."
   ]
  },
  {
   "cell_type": "markdown",
   "metadata": {},
   "source": [
    "### Optimization probleme formulation\n",
    "The formulation of an optimization problem (minimization or maximization) goes through the following steps:\n",
    "\n",
    "* Objective: The goal to be achieved by optimization.\n",
    "* Variables: The elements that can be adjusted to achieve the objective.\n",
    "* Constraints: The limits or rules that must be respected during optimization.\n",
    "* Objective function: The mathematical function that must be optimized to achieve the objective.\n",
    "* Resolution method: The technique used to find the best possible solution taking into account the objective, variables, constraints, and the objective function.\n"
   ]
  },
  {
   "cell_type": "markdown",
   "metadata": {},
   "source": [
    "::::{admonition} Example \n",
    ":class: tip \n",
    "The Traveling Salesman Optimization Problem:\n",
    "\n",
    "* Objective: Minimize the total distance traveled by a salesman visiting a set of cities and returning to the starting point.\n",
    "* Variables: Binary variables representing whether a path between two cities is taken or not.\n",
    "* Constraints: Each city must be visited exactly once (except the starting and ending city).\n",
    "\n",
    "*  Objective function: A function that calculates the total distance traveled based on the binary variables representing the chosen paths.\n",
    "* Resolution method: Combinatoir optimization methode\n",
    "::::"
   ]
  },
  {
   "cell_type": "markdown",
   "metadata": {},
   "source": [
    "::::{admonition} Example \n",
    ":class: tip \n",
    "The mechanical design optimization problem of a structural part:\n",
    "\n",
    "* Objective: Maximize the strength of the structural part while minimizing its weight.\n",
    "* Variables:Section, dimensions of the part.\n",
    "* Constraints:\n",
    "    * Stress constraints to ensure that the part can withstand the applied loads without failure. \n",
    "    * Manufacturing constraints such as minimum feature sizes and wall thicknesses.\n",
    "* Objective function: A function that calculates the strength of the part based on the chosen design variables and the applied loads, while taking into account the weight of the part.\n",
    "* Resolution method: Gradient base optimisation methode that include constraint if necessary.\n",
    "::::"
   ]
  },
  {
   "cell_type": "markdown",
   "metadata": {
    "slideshow": {
     "slide_type": "slide"
    }
   },
   "source": [
    "### Exemple of the design process\n",
    "\n",
    "* The conventional approach, described below, consists of a series of trial and error steps until a design that meets the specifications is obtained.\n",
    "\n",
    "This approach, if it involves prototyping, can be very time consuming and resource intensive. "
   ]
  },
  {
   "cell_type": "markdown",
   "metadata": {},
   "source": [
    "![](./figs/fig_manual_design.png)\n"
   ]
  },
  {
   "cell_type": "markdown",
   "metadata": {},
   "source": [
    "* Automatique optimization can help to improve a design process. \n",
    "\n",
    "The trial and error phase is replaced by an automatic phase: performance evaluation (cost function) combine with design modification.\n",
    "\n"
   ]
  },
  {
   "cell_type": "markdown",
   "metadata": {
    "slideshow": {
     "slide_type": "subslide"
    }
   },
   "source": [
    "![](./figs/fig_optim_design.png)\n",
    "\n",
    "\n"
   ]
  },
  {
   "cell_type": "markdown",
   "metadata": {},
   "source": [
    "\n",
    "This automation allows to save time in the development process. \n",
    "\n",
    "But it has a counterpart, it is necessary upstream to formulate the optimization problem and to be able to evaluate automatically a possible disgne. "
   ]
  },
  {
   "cell_type": "markdown",
   "metadata": {
    "slideshow": {
     "slide_type": "subslide"
    }
   },
   "source": [
    "{citep:ps}'mdobook2022'"
   ]
  },
  {
   "cell_type": "markdown",
   "metadata": {},
   "source": [
    "## Mathematical formulation"
   ]
  },
  {
   "cell_type": "markdown",
   "metadata": {
    "slideshow": {
     "slide_type": "slide"
    }
   },
   "source": [
    "### Scope\n",
    "\n",
    "Mathematical optimization aims at solving various kinds of problems by minimizing a function of the form:\n",
    "\n",
    "$$\n",
    "f(X) = e\n",
    "$$\n",
    "\n",
    "Where $f$ if the **cost function**, $X$ is a $N$ dimensional vector of parameters and $e \\in \\mathscr R$. \n",
    "\n",
    "More informations about the underlying theory, the nature of the solution(s) and practical considerations can be found:\n",
    "\n",
    "* On [Wikipedia](https://en.wikipedia.org/wiki/Mathematical_optimization),\n",
    "* On (excellent) [Scipy lectures](http://www.scipy-lectures.org/advanced/mathematical_optimization/).\n",
    "\n",
    "### Solving\n",
    "\n",
    "*Scipy* offers multiple approaches in order to solve optimization problems in its sub package *optimize*\n",
    "\n",
    "### General purpose approach\n",
    "\n",
    "[scipy.optimize.minimize](http://docs.scipy.org/doc/scipy/reference/tutorial/optimize.html#unconstrained-minimization-of-multivariate-scalar-functions-minimize) allows one to use multiple general purpose optimization algorithms.\n",
    "\n",
    "Below a basic exemple is presented : \n",
    "\n",
    "* Objective: Finde the mimimun au a finction $f$.\n",
    "* Variables: $X$.\n",
    "* Constraints: Nonz.\n",
    "* Objective function: $f(X) = \\sum_{i}^{} X_i$.\n",
    "* Resolution method: Neder-mead methode (local minmum finding, an initial guess is mandatory)."
   ]
  },
  {
   "cell_type": "code",
   "execution_count": null,
   "metadata": {},
   "outputs": [],
   "source": [
    "from scipy import optimize\n",
    "\n",
    "\n",
    "def f(X):\n",
    "    \"\"\"\n",
    "    Cost function.\n",
    "    \"\"\"\n",
    "    return ((X - 1) ** 2).sum()\n",
    "\n",
    "\n",
    "X0 = [0.0, 0.0]  # Initial guess\n",
    "sol = optimize.minimize(f, X0, method=\"nelder-mead\")\n",
    "X = sol.x\n",
    "print(\"Solution: \", X)"
   ]
  },
  {
   "cell_type": "markdown",
   "metadata": {},
   "source": [
    "## Specif case of curve fitting using least squares\n",
    "\n",
    "In order to perform curve fitting in a more convenient way, [scipy.optimize.curve_fit](http://docs.scipy.org/doc/scipy/reference/generated/scipy.optimize.curve_fit.html#scipy.optimize.curve_fit) can be used.\n",
    "\n"
   ]
  },
  {
   "cell_type": "code",
   "execution_count": null,
   "metadata": {},
   "outputs": [],
   "source": [
    "def func(x, omega, tau):\n",
    "    return np.exp(-x / tau) * np.sin(omega * x)\n",
    "\n",
    "\n",
    "xdata = np.linspace(0, 3.0, 100)\n",
    "y = func(xdata, omega=2.0 * np.pi, tau=10.0)\n",
    "ydata = y + 0.5 * np.random.normal(size=len(xdata))\n",
    "\n",
    "params, cov = optimize.curve_fit(func, xdata, ydata)\n",
    "omega, tau = params\n",
    "ysol = func(xdata, omega, tau)\n",
    "\n",
    "\n",
    "fig = plt.figure(0)\n",
    "plt.clf()\n",
    "plt.plot(xdata, y, label=\"Target\")\n",
    "plt.plot(xdata, ydata, \"o\", label=\"Target + noise\")\n",
    "plt.plot(xdata, ysol, label=\"Solution\")\n",
    "plt.grid()\n",
    "plt.xlabel(\"$x$\")\n",
    "plt.ylabel(\"$y$\")\n",
    "plt.legend()\n",
    "plt.show()"
   ]
  },
  {
   "cell_type": "markdown",
   "metadata": {},
   "source": [
    "```{bibliography}\n",
    ":filter: docname in docnames\n",
    "```"
   ]
  },
  {
   "cell_type": "code",
   "execution_count": null,
   "metadata": {},
   "outputs": [],
   "source": []
  }
 ],
 "metadata": {
  "anaconda-cloud": {},
  "author": "Emile Roux",
  "celltoolbar": "Diaporama",
  "kernelspec": {
   "display_name": "Python 3 (ipykernel)",
   "language": "python",
   "name": "python3"
  },
  "language_info": {
   "codemirror_mode": {
    "name": "ipython",
    "version": 3
   },
   "file_extension": ".py",
   "mimetype": "text/x-python",
   "name": "python",
   "nbconvert_exporter": "python",
   "pygments_lexer": "ipython3",
   "version": "3.8.16"
  },
  "toc": {
   "base_numbering": 1,
   "nav_menu": {},
   "number_sections": true,
   "sideBar": true,
   "skip_h1_title": true,
   "title_cell": "Table of Contents",
   "title_sidebar": "Contents",
   "toc_cell": true,
   "toc_position": {},
   "toc_section_display": true,
   "toc_window_display": false
  }
 },
 "nbformat": 4,
 "nbformat_minor": 4
}
