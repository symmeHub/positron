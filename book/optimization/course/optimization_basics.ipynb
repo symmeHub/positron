{
 "cells": [
  {
   "cell_type": "markdown",
   "metadata": {
    "toc": true
   },
   "source": [
    "<h1>Table of Contents<span class=\"tocSkip\"></span></h1>\n",
    "<div class=\"toc\"><ul class=\"toc-item\"><li><span><a href=\"#General-Scope\" data-toc-modified-id=\"General-Scope-1\"><span class=\"toc-item-num\">1&nbsp;&nbsp;</span>General Scope</a></span><ul class=\"toc-item\"><li><span><a href=\"#The-design-process\" data-toc-modified-id=\"The-design-process-1.1\"><span class=\"toc-item-num\">1.1&nbsp;&nbsp;</span>The design process</a></span></li><li><span><a href=\"#Optimization-probleme-formulation\" data-toc-modified-id=\"Optimization-probleme-formulation-1.2\"><span class=\"toc-item-num\">1.2&nbsp;&nbsp;</span>Optimization probleme formulation</a></span></li><li><span><a href=\"#Mathematical-formulation\" data-toc-modified-id=\"Mathematical-formulation-1.3\"><span class=\"toc-item-num\">1.3&nbsp;&nbsp;</span>Mathematical formulation</a></span></li></ul></li><li><span><a href=\"#Scope\" data-toc-modified-id=\"Scope-2\"><span class=\"toc-item-num\">2&nbsp;&nbsp;</span>Scope</a></span></li><li><span><a href=\"#Solving\" data-toc-modified-id=\"Solving-3\"><span class=\"toc-item-num\">3&nbsp;&nbsp;</span>Solving</a></span><ul class=\"toc-item\"><li><span><a href=\"#General-purpose-approach\" data-toc-modified-id=\"General-purpose-approach-3.1\"><span class=\"toc-item-num\">3.1&nbsp;&nbsp;</span>General purpose approach</a></span></li><li><span><a href=\"#Curve-fitting-using-least-squares\" data-toc-modified-id=\"Curve-fitting-using-least-squares-3.2\"><span class=\"toc-item-num\">3.2&nbsp;&nbsp;</span>Curve fitting using least squares</a></span></li></ul></li></ul></div>"
   ]
  },
  {
   "cell_type": "markdown",
   "metadata": {
    "slideshow": {
     "slide_type": "slide"
    }
   },
   "source": [
    "# Optimization\n",
    ".. codeauthor:: Emile Roux (emile.roux@univ-smb.fr), Ludovic Charleux \n",
    "\n",
    ".. This notebook is ready for  [RISE](https://damianavila.github.io/RISE/) Slideshow"
   ]
  },
  {
   "cell_type": "code",
   "execution_count": null,
   "metadata": {
    "slideshow": {
     "slide_type": "notes"
    }
   },
   "outputs": [],
   "source": [
    "# Setup\n",
    "%matplotlib inline\n",
    "import numpy as np\n",
    "import matplotlib.pyplot as plt\n",
    "import matplotlib\n",
    "\n",
    "params = {\n",
    "    \"font.size\": 14,\n",
    "    \"figure.figsize\": (10.0, 6.0),\n",
    "    \"lines.linewidth\": 2.0,\n",
    "    \"lines.markersize\": 8,\n",
    "}\n",
    "matplotlib.rcParams.update(params)"
   ]
  },
  {
   "cell_type": "markdown",
   "metadata": {
    "slideshow": {
     "slide_type": "slide"
    }
   },
   "source": [
    "## General Scope \n",
    "Optimization is a field of mathematics that is widely used in the engineering sciences. \n",
    "In this notebook we will present the relevance of optimization in the design process. Then we will see how to formulate and solve an optimization problem."
   ]
  },
  {
   "cell_type": "markdown",
   "metadata": {},
   "source": [
    "### The design process\n",
    "Optimization can help to improve a design process. \n",
    "The conventional approach, described below, consists of a series of trial and error steps until a design that meets the specifications is obtained. This approach, if it involves prototyping, can be very time consuming and resource intensive. "
   ]
  },
  {
   "cell_type": "markdown",
   "metadata": {},
   "source": [
    "![](./figs/fig_manual_design.png)\n"
   ]
  },
  {
   "cell_type": "markdown",
   "metadata": {
    "slideshow": {
     "slide_type": "subslide"
    }
   },
   "source": [
    "![](./figs/fig_optim_design.png)\n",
    "\n",
    "\n"
   ]
  },
  {
   "cell_type": "markdown",
   "metadata": {
    "slideshow": {
     "slide_type": "subslide"
    }
   },
   "source": [
    "{citep:ps}'mdobook2022'"
   ]
  },
  {
   "cell_type": "markdown",
   "metadata": {},
   "source": [
    "### Optimization probleme formulation"
   ]
  },
  {
   "cell_type": "markdown",
   "metadata": {},
   "source": [
    "### Mathematical formulation"
   ]
  },
  {
   "cell_type": "markdown",
   "metadata": {
    "slideshow": {
     "slide_type": "slide"
    }
   },
   "source": [
    "## Scope\n",
    "\n",
    "Mathematical optimization aims at solving various kinds of problems by minimizing a function of the form:\n",
    "\n",
    "$$\n",
    "f(X) = e\n",
    "$$\n",
    "\n",
    "Where $f$ if the **cost function**, $X$ is a $N$ dimensional vector of parameters and $e \\in \\mathscr R$. More informations about the underlying theory, the nature of the solution(s) and practical considerations can be found:\n",
    "\n",
    "* On [Wikipedia](https://en.wikipedia.org/wiki/Mathematical_optimization),\n",
    "* On (excellent) [Scipy lectures](http://www.scipy-lectures.org/advanced/mathematical_optimization/).\n",
    "\n",
    "## Solving\n",
    "\n",
    "*Scipy* offers multiple approaches in order to solve optimization problems in its sub package *optimize*\n",
    "\n",
    "### General purpose approach\n",
    "\n",
    "[scipy.optimize.minimize](http://docs.scipy.org/doc/scipy/reference/tutorial/optimize.html#unconstrained-minimization-of-multivariate-scalar-functions-minimize) allows one to use multiple general purpose optimization algorithms."
   ]
  },
  {
   "cell_type": "code",
   "execution_count": null,
   "metadata": {},
   "outputs": [],
   "source": [
    "from scipy import optimize\n",
    "\n",
    "def f(X):\n",
    "  \"\"\"\n",
    "  Cost function.\n",
    "  \"\"\"  \n",
    "  return (X**2).sum()\n",
    "\n",
    "X0 = [1.,1.] # Initial guess\n",
    "sol = optimize.minimize(f, X0, method = \"nelder-mead\")\n",
    "X = sol.x\n",
    "print \"Solution: \", X\n"
   ]
  },
  {
   "cell_type": "markdown",
   "metadata": {},
   "source": [
    "### Curve fitting using least squares\n",
    "\n",
    "In order to perform curve fitting in a more convenient way, [scipy.optimize.curve_fit](http://docs.scipy.org/doc/scipy/reference/generated/scipy.optimize.curve_fit.html#scipy.optimize.curve_fit) can be used.\n",
    "\n"
   ]
  },
  {
   "cell_type": "code",
   "execution_count": null,
   "metadata": {},
   "outputs": [],
   "source": [
    "def func(x, omega, tau):\n",
    "    return np.exp(-x / tau) * np.sin(omega * x)\n",
    "\n",
    "\n",
    "xdata = np.linspace(0, 3.0, 100)\n",
    "y = func(xdata, omega=2.0 * np.pi, tau=10.0)\n",
    "ydata = y + 0.5 * np.random.normal(size=len(xdata))\n",
    "\n",
    "params, cov = optimize.curve_fit(func, xdata, ydata)\n",
    "omega, tau = params\n",
    "ysol = func(xdata, omega, tau)\n",
    "\n",
    "\n",
    "fig = plt.figure(0)\n",
    "plt.clf()\n",
    "plt.plot(xdata, y, label=\"Target\")\n",
    "plt.plot(xdata, ydata, \"o\", label=\"Target + noise\")\n",
    "plt.plot(xdata, ysol, label=\"Solution\")\n",
    "plt.grid()\n",
    "plt.xlabel(\"$x$\")\n",
    "plt.ylabel(\"$y$\")\n",
    "plt.legend()\n",
    "plt.show()"
   ]
  }
 ],
 "metadata": {
  "anaconda-cloud": {},
  "celltoolbar": "Diaporama",
  "kernelspec": {
   "display_name": "Python 3",
   "language": "python",
   "name": "python3"
  },
  "language_info": {
   "codemirror_mode": {
    "name": "ipython",
    "version": 3
   },
   "file_extension": ".py",
   "mimetype": "text/x-python",
   "name": "python",
   "nbconvert_exporter": "python",
   "pygments_lexer": "ipython3",
   "version": "3.8.3"
  },
  "toc": {
   "base_numbering": 1,
   "nav_menu": {},
   "number_sections": true,
   "sideBar": true,
   "skip_h1_title": true,
   "title_cell": "Table of Contents",
   "title_sidebar": "Contents",
   "toc_cell": true,
   "toc_position": {},
   "toc_section_display": true,
   "toc_window_display": false
  }
 },
 "nbformat": 4,
 "nbformat_minor": 1
}
