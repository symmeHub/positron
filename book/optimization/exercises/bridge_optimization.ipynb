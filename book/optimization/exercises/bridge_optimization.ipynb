{
 "cells": [
  {
   "cell_type": "markdown",
   "metadata": {},
   "source": [
    "(optim:tutorial:bridge)=\n",
    "# Optimizing a bridge structure \n",
    "\n",
    "\n",
    "## Installation of the *truss* package\n",
    "\n",
    "For this session, you will need the Python [truss](https://github.com/lcharleux/truss) package. The following cell will install it automatically."
   ]
  },
  {
   "cell_type": "code",
   "execution_count": null,
   "metadata": {
    "jupyter": {
     "outputs_hidden": false
    },
    "tags": []
   },
   "outputs": [],
   "source": [
    "# FOR JUPYTER LAB\n",
    "%matplotlib notebook\n",
    "# FOR JUPYTER NOTEBOOK AND HUB\n",
    "# % matplotlib notebook\n",
    "import numpy as np\n",
    "import matplotlib.pyplot as plt\n",
    "import sys\n",
    "import os\n",
    "import zipfile\n",
    "import urllib.request\n",
    "import shutil\n",
    "from scipy import optimize\n",
    "\n",
    "\n",
    "url = \"https://github.com/lcharleux/truss/archive/master.zip\"\n",
    "file_name = \"truss-master.zip\"\n",
    "\n",
    "with urllib.request.urlopen(url) as response, open(file_name, \"wb\") as out_file:\n",
    "    shutil.copyfileobj(response, out_file)\n",
    "    with zipfile.ZipFile(file_name) as zf:\n",
    "        zf.extractall()\n",
    "\n",
    "os.remove(file_name)\n",
    "\n",
    "sys.path.append(\"truss-master\")\n",
    "try:\n",
    "    import truss\n",
    "\n",
    "    print(\"Truss is correctly installed\")\n",
    "except:\n",
    "    print(\"Truss is NOT correctly installed !\")"
   ]
  },
  {
   "cell_type": "markdown",
   "metadata": {},
   "source": [
    "A short truss tutorial is available here:\n",
    "\n",
    "http://truss.readthedocs.io/en/latest/tutorial.html"
   ]
  },
  {
   "cell_type": "markdown",
   "metadata": {},
   "source": [
    "## Building the bridge structure\n",
    "\n",
    "In this session, we will modelled a bridge structure using truss and optimize it using various criteria. The basic structure is introduced below. It is made of steel bars and loaded with one vertical force on $G$. The bridge is symmetrical so only the left half is modelled."
   ]
  },
  {
   "cell_type": "code",
   "execution_count": null,
   "metadata": {
    "jupyter": {
     "outputs_hidden": false
    },
    "tags": [
     "execute-off"
    ]
   },
   "outputs": [],
   "source": [
    "E = 210.0e9  # Young Modulus [Pa]\n",
    "rho = 7800.0  # Density       [kg/m**3]\n",
    "A = 5.0e-2  # Cross section [m**2]\n",
    "sigmay = 400.0e6  # Yield Stress  [Pa]\n",
    "\n",
    "# Model definition\n",
    "model = truss.core.Model()  # Model definition\n",
    "\n",
    "# NODES\n",
    "nA = model.add_node((0.0, 0.0), label=\"A\")\n",
    "nC = model.add_node((3.0, 0.0), label=\"C\")\n",
    "nD = model.add_node((3.0, 3.0), label=\"D\")\n",
    "nE = model.add_node((6.0, 0.0), label=\"E\")\n",
    "nF = model.add_node((6.0, 3.0), label=\"F\")\n",
    "nG = model.add_node((9.0, 0.0), label=\"G\")\n",
    "nH = model.add_node((9.0, 3.0), label=\"H\")\n",
    "\n",
    "# BOUNDARY CONDITIONS\n",
    "nA.block[1] = True\n",
    "nG.block[0] = True\n",
    "nH.block[0] = True\n",
    "\n",
    "# BARS\n",
    "AC = model.add_bar(nA, nC, modulus=E, density=rho, section=A, yield_stress=sigmay)\n",
    "CD = model.add_bar(nC, nD, modulus=E, density=rho, section=A, yield_stress=sigmay)\n",
    "AD = model.add_bar(nA, nD, modulus=E, density=rho, section=A, yield_stress=sigmay)\n",
    "CE = model.add_bar(nC, nE, modulus=E, density=rho, section=A, yield_stress=sigmay)\n",
    "DF = model.add_bar(nD, nF, modulus=E, density=rho, section=A, yield_stress=sigmay)\n",
    "DE = model.add_bar(nD, nE, modulus=E, density=rho, section=A, yield_stress=sigmay)\n",
    "EF = model.add_bar(nE, nF, modulus=E, density=rho, section=A, yield_stress=sigmay)\n",
    "EG = model.add_bar(nE, nG, modulus=E, density=rho, section=A, yield_stress=sigmay)\n",
    "FH = model.add_bar(nF, nH, modulus=E, density=rho, section=A, yield_stress=sigmay)\n",
    "FG = model.add_bar(nF, nG, modulus=E, density=rho, section=A, yield_stress=sigmay)\n",
    "GH = model.add_bar(nG, nH, modulus=E, density=rho, section=A, yield_stress=sigmay)\n",
    "\n",
    "# STRUCTURAL LOADING\n",
    "nG.force = np.array([0.0, -1.0e6])\n",
    "\n",
    "\n",
    "model.solve()\n",
    "\n",
    "\n",
    "xlim, ylim = model.bbox(deformed=False)\n",
    "fig = plt.figure()\n",
    "ax = fig.add_subplot(1, 1, 1)\n",
    "ax.set_aspect(\"equal\")\n",
    "# ax.axis(\"off\")\n",
    "model.draw(\n",
    "    ax, deformed=False, field=\"stress\", label=True, force_scale=1.0e-6, forces=True\n",
    ")\n",
    "plt.xlim(xlim)\n",
    "plt.ylim(ylim)\n",
    "plt.grid()\n",
    "plt.xlabel(\"Axe $x$\")\n",
    "plt.ylabel(\"Axe $y$\")"
   ]
  },
  {
   "cell_type": "markdown",
   "metadata": {},
   "source": [
    "### Read Data\n",
    "\n",
    "#### Detailed results at the nodes"
   ]
  },
  {
   "cell_type": "code",
   "execution_count": null,
   "metadata": {
    "jupyter": {
     "outputs_hidden": false
    },
    "tags": []
   },
   "outputs": [],
   "source": [
    "model.data(at=\"nodes\")"
   ]
  },
  {
   "cell_type": "markdown",
   "metadata": {},
   "source": [
    "#### Detailed results on the bars"
   ]
  },
  {
   "cell_type": "code",
   "execution_count": null,
   "metadata": {
    "jupyter": {
     "outputs_hidden": false
    },
    "tags": []
   },
   "outputs": [],
   "source": [
    "model.data(at=\"bars\")"
   ]
  },
  {
   "cell_type": "markdown",
   "metadata": {},
   "source": [
    "#### Dead (or structural) mass\n"
   ]
  },
  {
   "cell_type": "code",
   "execution_count": null,
   "metadata": {
    "jupyter": {
     "outputs_hidden": false
    },
    "tags": []
   },
   "outputs": [],
   "source": [
    "m0 = model.mass()\n",
    "m0 * 1.0e-3  # Mass in tons !"
   ]
  },
  {
   "cell_type": "markdown",
   "metadata": {},
   "source": [
    " ### Model modification\n",
    " #### Modifing section"
   ]
  },
  {
   "cell_type": "code",
   "execution_count": null,
   "metadata": {},
   "outputs": [],
   "source": [
    "# change section of one bar\n",
    "FG.section = 0.0333\n",
    "\n",
    "# solve with updated sections\n",
    "model.solve()\n",
    "\n",
    "model.data(at=\"bars\")"
   ]
  },
  {
   "cell_type": "markdown",
   "metadata": {},
   "source": [
    "#### Changing all section (or other parameters)"
   ]
  },
  {
   "cell_type": "code",
   "execution_count": null,
   "metadata": {},
   "outputs": [],
   "source": [
    "# loop over bars\n",
    "for bar in model.bars:\n",
    "    # get the normal force of the bar\n",
    "    N = bar.tension\n",
    "\n",
    "    # change the section\n",
    "    bar.section = 0.2\n",
    "\n",
    "\n",
    "# solve with updated parameters\n",
    "model.solve()"
   ]
  },
  {
   "cell_type": "markdown",
   "metadata": {},
   "source": [
    "## Questions"
   ]
  },
  {
   "cell_type": "markdown",
   "metadata": {},
   "source": [
    "**Question 1**: Verify that the yield stress is not exceeded anywhere, do you think this structure has an optimimum weight ? You can use the *state/failure* data available on the whole model."
   ]
  },
  {
   "cell_type": "code",
   "execution_count": null,
   "metadata": {
    "jupyter": {
     "outputs_hidden": false
    },
    "tags": []
   },
   "outputs": [],
   "source": [
    "# Example:\n",
    "model.data(at=\"bars\").state.failure.values\n",
    "\n",
    "# ..."
   ]
  },
  {
   "cell_type": "markdown",
   "metadata": {},
   "source": [
    "**Question 2**: Modify all the cross sections at the same time in order to minimize weight while keeping acceptable stress level."
   ]
  },
  {
   "cell_type": "code",
   "execution_count": null,
   "metadata": {
    "jupyter": {
     "outputs_hidden": false
    }
   },
   "outputs": [],
   "source": []
  },
  {
   "cell_type": "markdown",
   "metadata": {},
   "source": [
    "**Question 3**: We want to modify the position along the $\\vec y$ axis of the points $D$, $F$ and $H$ in order to minimize the vertical displacement of the node $G$ times the mass of the structure $\\alpha$: \n",
    "\n",
    "$$\n",
    "\\alpha = |u_y(G)| m\n",
    "$$\n",
    "\n",
    "Where $u_y(G)$ is the displacement of the node $G$ along the $\\vec y$ axis and $m$ the mass of the whole structure.\n",
    "\n",
    "Do not further modify the sections determined in question 4. Comment the solution."
   ]
  },
  {
   "cell_type": "code",
   "execution_count": null,
   "metadata": {},
   "outputs": [],
   "source": []
  },
  {
   "cell_type": "code",
   "execution_count": null,
   "metadata": {
    "jupyter": {
     "outputs_hidden": false
    }
   },
   "outputs": [],
   "source": []
  },
  {
   "cell_type": "code",
   "execution_count": null,
   "metadata": {},
   "outputs": [],
   "source": []
  },
  {
   "cell_type": "code",
   "execution_count": null,
   "metadata": {},
   "outputs": [],
   "source": []
  },
  {
   "cell_type": "markdown",
   "metadata": {},
   "source": [
    "**Question 4**: Same question with displacements also along $\\vec x$ of $C$, $D$, $E$ and $F$. Is it better ?"
   ]
  },
  {
   "cell_type": "code",
   "execution_count": null,
   "metadata": {},
   "outputs": [],
   "source": []
  },
  {
   "cell_type": "code",
   "execution_count": null,
   "metadata": {
    "jupyter": {
     "outputs_hidden": false
    }
   },
   "outputs": [],
   "source": []
  },
  {
   "cell_type": "markdown",
   "metadata": {},
   "source": [
    "**Question 5**:  You can now try to perform topological optimization by removing/merging well chosen beams and nodes. In order to make the structure even more efficient."
   ]
  },
  {
   "cell_type": "code",
   "execution_count": null,
   "metadata": {
    "jupyter": {
     "outputs_hidden": false
    }
   },
   "outputs": [],
   "source": []
  },
  {
   "cell_type": "markdown",
   "metadata": {},
   "source": [
    "**Question 6**: You are now asked to optimize the cross section along with the position of $C$, $D$, $E$ and $F$ in order to reach the yield stress in each individual beam."
   ]
  },
  {
   "cell_type": "code",
   "execution_count": null,
   "metadata": {
    "jupyter": {
     "outputs_hidden": false
    }
   },
   "outputs": [],
   "source": []
  }
 ],
 "metadata": {
  "anaconda-cloud": {},
  "kernelspec": {
   "display_name": "Python 3",
   "language": "python",
   "name": "python3"
  },
  "language_info": {
   "codemirror_mode": {
    "name": "ipython",
    "version": 3
   },
   "file_extension": ".py",
   "mimetype": "text/x-python",
   "name": "python",
   "nbconvert_exporter": "python",
   "pygments_lexer": "ipython3",
   "version": "3.8.10"
  }
 },
 "nbformat": 4,
 "nbformat_minor": 4
}
