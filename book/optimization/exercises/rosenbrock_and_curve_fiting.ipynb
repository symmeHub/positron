{
 "cells": [
  {
   "cell_type": "markdown",
   "metadata": {},
   "source": [
    "(optim:tutorial:rosen)=\n",
    "#  Rosenbrock function and Curve fiting\n",
    "\n",
    "## The Rosenbrock function\n",
    "\n",
    "The [Rosenbrock function](https://fr.wikipedia.org/wiki/Fonction_de_Rosenbrock) is a classical benchmark for optimization algorithms. It is defined by the following equation:\n",
    "\n",
    "\n",
    "$$\n",
    "f(x, y) = (1-x)^2 + 100 (y-x^2)^2\n",
    "$$\n",
    "\n"
   ]
  },
  {
   "cell_type": "code",
   "execution_count": null,
   "metadata": {
    "jupyter": {
     "outputs_hidden": false
    }
   },
   "outputs": [],
   "source": [
    "%matplotlib inline\n",
    "import numpy as np\n",
    "import matplotlib.pyplot as plt\n",
    "\n",
    "\n",
    "def Rosen(X):\n",
    "    \"\"\"\n",
    "    Rosenbrock function\n",
    "    \"\"\"\n",
    "    x, y = X\n",
    "    return (1 - x) ** 2 + 100.0 * (y - x**2) ** 2\n",
    "\n",
    "\n",
    "x = np.linspace(-2.0, 2.0, 100)\n",
    "y = np.linspace(-1.0, 3.0, 100)\n",
    "X, Y = np.meshgrid(x, y)\n",
    "Z = Rosen((X, Y))\n",
    "\n",
    "fig = plt.figure(0)\n",
    "plt.clf()\n",
    "plt.contourf(X, Y, Z, 20)\n",
    "plt.colorbar()\n",
    "plt.contour(X, Y, Z, 20, colors=\"black\")\n",
    "plt.grid()\n",
    "plt.xlabel(\"x\")\n",
    "plt.ylabel(\"y\")\n",
    "plt.show()"
   ]
  },
  {
   "cell_type": "markdown",
   "metadata": {},
   "source": [
    "### Questions\n",
    "\n",
    "1. Find the minimum of the function using brute force. Comment the accuracy and number of function evaluations.\n",
    "2. Same question with the simplex (Nelder-Mead) algorithm.\n",
    "\n",
    "## Curve fitting\n",
    "\n",
    "### Questions\n",
    "1. Chose a mathematical function $y = f(x, a, b)$ and code it.\n",
    "2. Chose target values of $a$ and $b$ that you will try to find back using optimization.\n",
    "3. Evaluate it on a grid of $x$ values.\n",
    "4. Add some noise to the result.\n",
    "5. Find back $a$ and $b$ using *curve_fit*   \n",
    "    "
   ]
  },
  {
   "cell_type": "code",
   "execution_count": null,
   "metadata": {
    "jupyter": {
     "outputs_hidden": true
    }
   },
   "outputs": [],
   "source": []
  }
 ],
 "metadata": {
  "kernelspec": {
   "display_name": "Python 3 (ipykernel)",
   "language": "python",
   "name": "python3"
  },
  "language_info": {
   "codemirror_mode": {
    "name": "ipython",
    "version": 3
   },
   "file_extension": ".py",
   "mimetype": "text/x-python",
   "name": "python",
   "nbconvert_exporter": "python",
   "pygments_lexer": "ipython3",
   "version": "3.8.16"
  }
 },
 "nbformat": 4,
 "nbformat_minor": 4
}
