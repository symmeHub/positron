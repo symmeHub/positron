{
 "cells": [
  {
   "cell_type": "markdown",
   "metadata": {
    "toc": true
   },
   "source": [
    "<h1>Table of Contents<span class=\"tocSkip\"></span></h1>\n",
    "<div class=\"toc\"><ul class=\"toc-item\"><li><span><a href=\"#Cost-functions\" data-toc-modified-id=\"Cost-functions-1\"><span class=\"toc-item-num\">1&nbsp;&nbsp;</span>Cost functions</a></span><ul class=\"toc-item\"><li><span><a href=\"#Himmelblau-cost-function\" data-toc-modified-id=\"Himmelblau-cost-function-1.1\"><span class=\"toc-item-num\">1.1&nbsp;&nbsp;</span>Himmelblau cost function</a></span></li></ul></li><li><span><a href=\"#Gradiant-based-methode\" data-toc-modified-id=\"Gradiant-based-methode-2\"><span class=\"toc-item-num\">2&nbsp;&nbsp;</span>Gradiant based methode</a></span><ul class=\"toc-item\"><li><span><a href=\"#Down-hill-methode\" data-toc-modified-id=\"Down-hill-methode-2.1\"><span class=\"toc-item-num\">2.1&nbsp;&nbsp;</span>Down hill methode</a></span></li><li><span><a href=\"#Down-hill-methode-with-linear-search\" data-toc-modified-id=\"Down-hill-methode-with-linear-search-2.2\"><span class=\"toc-item-num\">2.2&nbsp;&nbsp;</span>Down hill methode with linear search</a></span></li></ul></li></ul></div>"
   ]
  },
  {
   "cell_type": "code",
   "execution_count": null,
   "metadata": {},
   "outputs": [],
   "source": [
    "%matplotlib notebook\n",
    "import matplotlib.pyplot as plt\n",
    "import numpy as np\n",
    "from scipy import optimize\n",
    "import ipywidgets as ipw\n",
    "from matplotlib import cm\n",
    "import ipywidgets as widgets"
   ]
  },
  {
   "cell_type": "markdown",
   "metadata": {},
   "source": [
    "## Cost functions"
   ]
  },
  {
   "cell_type": "markdown",
   "metadata": {},
   "source": [
    "###  Himmelblau cost function"
   ]
  },
  {
   "cell_type": "code",
   "execution_count": null,
   "metadata": {},
   "outputs": [],
   "source": [
    "def cost(p):\n",
    "    global counterCostCall\n",
    "    \"\"\"\n",
    "    Himmelblau cost function.\n",
    "    https://en.wikipedia.org/wiki/Himmelblau%27s_function\n",
    "    \"\"\"\n",
    "\n",
    "    x, y = p\n",
    "    return (x**2 + y - 11) ** 2 + (x + y**2 - 7) ** 2\n",
    "\n",
    "\n",
    "counterCostCall = 0\n",
    "Nx, Ny = 100, 100\n",
    "x = np.linspace(-5.0, 5.0, Nx)\n",
    "y = np.linspace(-5.0, 5.0, Ny)\n",
    "X, Y = np.meshgrid(x, y)\n",
    "zf = np.array([X.flatten(), Y.flatten()])\n",
    "Z = cost(zf).reshape(Nx, Ny)\n",
    "Z = np.where(Z > 200.0, np.nan, Z)\n",
    "\n",
    "mask = np.ones_like(Z)"
   ]
  },
  {
   "cell_type": "code",
   "execution_count": null,
   "metadata": {},
   "outputs": [],
   "source": [
    "def cost(p):\n",
    "    global counterCostCall\n",
    "    \"\"\"\n",
    "    Goldstein–Price.\n",
    "    https://en.wikipedia.org/wiki/Test_functions_for_optimization    \"\"\"\n",
    "\n",
    "    x, y = p\n",
    "    f = (\n",
    "        1\n",
    "        + (\n",
    "            (x + y + 1) ** 2\n",
    "            * (19 - 14 * x + 3 * x**2 - 14 * y + 6 * x * y + 3 * y**2)\n",
    "        )\n",
    "    ) * (\n",
    "        30\n",
    "        + (2 * x - 3 * y) ** 2\n",
    "        * (18 - 32 * x + 12 * x**2 + 48 * y - 36 * x * y + 27 * y**2)\n",
    "    )\n",
    "    return f / 80000.0\n",
    "\n",
    "\n",
    "counterCostCall = 0\n",
    "Nx, Ny = 100, 100\n",
    "x = np.linspace(-1.5, 1.5, Nx)\n",
    "y = np.linspace(-1.5, 1.5, Ny)\n",
    "X, Y = np.meshgrid(x, y)\n",
    "zf = np.array([X.flatten(), Y.flatten()])\n",
    "Z = cost(zf).reshape(Nx, Ny)\n",
    "Z = np.where(Z > 0.3, np.nan, Z)\n",
    "mask = np.ones_like(Z)"
   ]
  },
  {
   "cell_type": "code",
   "execution_count": null,
   "metadata": {},
   "outputs": [],
   "source": [
    "def cost(p):\n",
    "    global counterCostCall\n",
    "    \"\"\"\n",
    "    Rosenbrock function.\n",
    "    https://en.wikipedia.org/wiki/Test_functions_for_optimization    \"\"\"\n",
    "   \n",
    "    x, y = p \n",
    "    f = \n",
    "    return f/80000.\n",
    "\n",
    "counterCostCall = 0\n",
    "Nx, Ny = 100, 100\n",
    "x = np.linspace(-1.5, 1.5, Nx)\n",
    "y = np.linspace(-1.5, 1.5, Ny)\n",
    "X, Y = np.meshgrid(x, y)\n",
    "zf = np.array([X.flatten(), Y.flatten()])\n",
    "Z = cost(zf).reshape(Nx, Ny)\n",
    "Z = np.where(Z > 0.3, np.nan, Z)\n",
    "mask = np.ones_like(Z)"
   ]
  },
  {
   "cell_type": "code",
   "execution_count": null,
   "metadata": {},
   "outputs": [],
   "source": [
    "P = np.zeros((1000, 2)) * np.nan\n",
    "V_down_hill_dir = np.zeros((1000, 2)) * np.nan\n",
    "\n",
    "\n",
    "P[0] = 0.0, -0.0\n",
    "\n",
    "\n",
    "def maj_mask_all(mask, Pis):\n",
    "    for Pi in Pis:\n",
    "        if ~np.isnan(Pi[0]):\n",
    "            mask = maj_mask(mask, Pi)\n",
    "    return mask\n",
    "\n",
    "\n",
    "def maj_mask(mask, Pi):\n",
    "    R = 0.5\n",
    "    mask[np.sqrt((X - Pi[0]) ** 2 + (Y - Pi[1]) ** 2) < R] = np.nan\n",
    "    return mask\n",
    "\n",
    "\n",
    "mask = maj_mask(mask, P[0])\n",
    "\n",
    "\n",
    "def init():\n",
    "    global mask, P, V_down_hill_dir\n",
    "    mask = np.ones_like(Z)\n",
    "    P = np.zeros((1000, 2)) * np.nan\n",
    "    V_down_hill_dir = np.zeros((1000, 2)) * np.nan\n",
    "    P[0] = 1.3, 1.30"
   ]
  },
  {
   "cell_type": "markdown",
   "metadata": {},
   "source": [
    "## Gradiant based methode"
   ]
  },
  {
   "cell_type": "markdown",
   "metadata": {},
   "source": [
    "### Down hill methode"
   ]
  },
  {
   "cell_type": "code",
   "execution_count": null,
   "metadata": {},
   "outputs": [],
   "source": [
    "def grad_P(Pi):\n",
    "    # Gradient computation using finite difference approach\n",
    "    eps = 0.001\n",
    "    Pdx = Pi.copy()\n",
    "    Pdx[0] = Pdx[0] + eps\n",
    "    gradx = (cost(Pdx) - cost(Pi)) / eps\n",
    "\n",
    "    Pdy = Pi.copy()\n",
    "    Pdy[1] = Pdy[1] + eps\n",
    "    grady = (cost(Pdy) - cost(Pi)) / eps\n",
    "    return np.array([gradx, grady])\n",
    "\n",
    "\n",
    "def optim_grad():\n",
    "    global counter, P, V_down_hill_dir\n",
    "    # compute gradient at curent point\n",
    "    g = grad_P(P[counter])\n",
    "    g_normalized = g / np.linalg.norm(g)\n",
    "    # compute down hill direction\n",
    "    down_hill_dir = -g_normalized\n",
    "    V_down_hill_dir[counter] = down_hill_dir\n",
    "    step = 0.1\n",
    "    # compute next point with a constante step in down hill dir\n",
    "    P[counter + 1] = P[counter] + step * down_hill_dir\n",
    "    counter += 1"
   ]
  },
  {
   "cell_type": "markdown",
   "metadata": {},
   "source": [
    "### Down hill methode with linear search"
   ]
  },
  {
   "cell_type": "code",
   "execution_count": null,
   "metadata": {},
   "outputs": [],
   "source": [
    "def optim_grad_lin_search():\n",
    "    global counter, P, V_down_hill_dir\n",
    "    # compute gradient at curent point\n",
    "    g = grad_P(P[counter])\n",
    "    g_normalized = g / np.linalg.norm(g)\n",
    "    # compute down hill direction\n",
    "    down_hill_dir = -g_normalized\n",
    "    V_down_hill_dir[counter] = down_hill_dir\n",
    "    step = 0.05\n",
    "    go = True\n",
    "    while go:\n",
    "        P_new = P[counter] + step * down_hill_dir\n",
    "        if cost(P_new) > cost(P[counter]):\n",
    "            go = False\n",
    "        else:\n",
    "            P[counter + 1] = P_new\n",
    "            counter += 1"
   ]
  },
  {
   "cell_type": "code",
   "execution_count": null,
   "metadata": {},
   "outputs": [],
   "source": [
    "V_down_hill_dir"
   ]
  },
  {
   "cell_type": "code",
   "execution_count": null,
   "metadata": {},
   "outputs": [],
   "source": [
    "init()\n",
    "mask = maj_mask_all(mask, P)\n",
    "\n",
    "plt.figure(figsize=(8, 6))\n",
    "title = plt.title(\"\")\n",
    "cost_map = plt.contourf(X, Y, np.log(Z), 50, cmap=cm.terrain)\n",
    "plt.colorbar(cost_map)\n",
    "plt.contour(X, Y, np.log(Z), 50, cmap=cm.gray, zorder=2.0)\n",
    "(line,) = plt.plot(P[:, 0], P[:, 1], \"og-\", label=\"Path\")\n",
    "(line0,) = plt.plot(P[:1, 0], P[:1, 1], \"r*\", label=\"Start\")\n",
    "\n",
    "\n",
    "v = plt.quiver(\n",
    "    P[:, 0],\n",
    "    P[:, 1],\n",
    "    V_down_hill_dir[:, 0],\n",
    "    V_down_hill_dir[:, 1],\n",
    "    scale=10,\n",
    "    zorder=2.4,\n",
    "    width=0.005,\n",
    "    label=\"DownHill Dir\",\n",
    "    angles=\"xy\",\n",
    ")\n",
    "p = [plt.contourf(X, Y, mask, 2, cmap=cm.gray, zorder=2.3, alpha=0.95)]\n",
    "\n",
    "plt.legend()\n",
    "\n",
    "counter = 0\n",
    "\n",
    "\n",
    "@ipw.interact_manual()\n",
    "def run_step():\n",
    "    global P, counter, mask, v, V_down_hill_dir\n",
    "\n",
    "    # optim_grad()\n",
    "    optim_grad_lin_search()\n",
    "\n",
    "    mask = maj_mask_all(mask, P)\n",
    "\n",
    "    for tp in p[0].collections:\n",
    "        tp.remove()\n",
    "    v.remove()\n",
    "\n",
    "    p[0] = plt.contourf(X, Y, mask, 2, cmap=cm.gray, zorder=2.3, alpha=0.05)\n",
    "    v = plt.quiver(\n",
    "        P[:, 0],\n",
    "        P[:, 1],\n",
    "        V_down_hill_dir[:, 0],\n",
    "        V_down_hill_dir[:, 1],\n",
    "        scale=10,\n",
    "        zorder=2.4,\n",
    "        width=0.005,\n",
    "        label=\"DownHill Dir\",\n",
    "        angles=\"xy\",\n",
    "    )\n",
    "    line.set_xdata(P[:, 0])\n",
    "    line.set_ydata(P[:, 1])\n",
    "\n",
    "    # CostOverIt.set_ydata(cost(P.T))"
   ]
  },
  {
   "cell_type": "code",
   "execution_count": null,
   "metadata": {},
   "outputs": [],
   "source": []
  },
  {
   "cell_type": "code",
   "execution_count": null,
   "metadata": {},
   "outputs": [],
   "source": []
  }
 ],
 "metadata": {
  "kernelspec": {
   "display_name": "Python 3",
   "language": "python",
   "name": "python3"
  },
  "language_info": {
   "codemirror_mode": {
    "name": "ipython",
    "version": 3
   },
   "file_extension": ".py",
   "mimetype": "text/x-python",
   "name": "python",
   "nbconvert_exporter": "python",
   "pygments_lexer": "ipython3",
   "version": "3.8.3"
  },
  "toc": {
   "base_numbering": 1,
   "nav_menu": {},
   "number_sections": true,
   "sideBar": true,
   "skip_h1_title": true,
   "title_cell": "Table of Contents",
   "title_sidebar": "Contents",
   "toc_cell": true,
   "toc_position": {},
   "toc_section_display": true,
   "toc_window_display": false
  }
 },
 "nbformat": 4,
 "nbformat_minor": 4
}
