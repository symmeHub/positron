{
 "cells": [
  {
   "cell_type": "markdown",
   "metadata": {
    "slideshow": {
     "slide_type": "slide"
    }
   },
   "source": [
    "(dataM:support:LinRegAdvanced)=\n",
    "# Linear regression - Advanced model\n",
    "\n",
    "::::{admonition} Note \n",
    ":class: tip \n",
    "this notebook folows the [](dataM:support:LinReg) notebook.\n",
    "\n",
    "::::\n",
    "\n"
   ]
  },
  {
   "cell_type": "markdown",
   "metadata": {
    "slideshow": {
     "slide_type": "subslide"
    }
   },
   "source": [
    "## Scope\n",
    "\n",
    "* A finite number $N$ of data points are available: find the best fit of a given parametrique function going trouth this $N$ points."
   ]
  },
  {
   "cell_type": "code",
   "execution_count": null,
   "metadata": {
    "slideshow": {
     "slide_type": "slide"
    },
    "tags": [
     "hide-input"
    ]
   },
   "outputs": [],
   "source": [
    "# setup\n",
    "%load_ext autoreload\n",
    "%matplotlib ipympl\n",
    "%autoreload 2\n",
    "import numpy as np\n",
    "import pandas as pd\n",
    "import matplotlib.pyplot as plt\n",
    "import matplotlib as mpl"
   ]
  },
  {
   "cell_type": "markdown",
   "metadata": {
    "slideshow": {
     "slide_type": "slide"
    }
   },
   "source": [
    "## The data set : a synthetique data set with some noise"
   ]
  },
  {
   "cell_type": "code",
   "execution_count": null,
   "metadata": {
    "tags": []
   },
   "outputs": [],
   "source": [
    "Nb_data_point = 200  # number of points\n",
    "xmin, xmax = -0.5, 5.5  # x range\n",
    "\n",
    "x = np.linspace(xmin, xmax, Nb_data_point)\n",
    "x = x + 0.2 * np.random.rand(Nb_data_point)  # add noise\n",
    "\n",
    "y = x**4 - 12 * x**3 + 47 * x**2 - 60 * x\n",
    "y = y + 1 * np.random.randn(Nb_data_point)  # add noise"
   ]
  },
  {
   "cell_type": "code",
   "execution_count": null,
   "metadata": {
    "slideshow": {
     "slide_type": "subslide"
    },
    "tags": []
   },
   "outputs": [],
   "source": [
    "fig = plt.figure()\n",
    "plt.plot(x, y, \".\", label=\"Data\")\n",
    "plt.legend()\n",
    "plt.grid()"
   ]
  },
  {
   "cell_type": "markdown",
   "metadata": {
    "slideshow": {
     "slide_type": "slide"
    }
   },
   "source": [
    "## We would like to fit this data with a linear piecewise function"
   ]
  },
  {
   "cell_type": "markdown",
   "metadata": {},
   "source": [
    "To do so we need first a base, let's use linear piecewise function function use in the FE methode"
   ]
  },
  {
   "cell_type": "code",
   "execution_count": null,
   "metadata": {
    "slideshow": {
     "slide_type": "subslide"
    },
    "tags": []
   },
   "outputs": [],
   "source": [
    "def hat(x, xc, support=1):\n",
    "    \"\"\"\n",
    "    Compute the hat function, which is a piecewise linear function that peaks at `xc` and\n",
    "    decreases linearly to zero within the given `support`.\n",
    "\n",
    "    Parameters:\n",
    "    x (array-like): Input array of values.\n",
    "    xc (float): Center of the peak.\n",
    "    support (float, optional): Width of the support region. Default is 1.\n",
    "\n",
    "    Returns:\n",
    "    numpy.ndarray: Array of the same shape as `x`, containing the computed hat function values.\n",
    "    \"\"\"\n",
    "\n",
    "    y = np.maximum(1 - np.abs((x - xc) / support), 0.0)\n",
    "    return y"
   ]
  },
  {
   "cell_type": "markdown",
   "metadata": {
    "slideshow": {
     "slide_type": "subslide"
    }
   },
   "source": [
    "### Bases function settings"
   ]
  },
  {
   "cell_type": "code",
   "execution_count": null,
   "metadata": {
    "tags": []
   },
   "outputs": [],
   "source": [
    "Nf = 9  # number of bases function\n",
    "\n",
    "xc_list = np.linspace(xmin, xmax, Nf)\n",
    "xc_list.shape\n",
    "support = (xmax - xmin) / (Nf - 1)"
   ]
  },
  {
   "cell_type": "markdown",
   "metadata": {
    "slideshow": {
     "slide_type": "subslide"
    }
   },
   "source": [
    "### Draw the hat functions"
   ]
  },
  {
   "cell_type": "code",
   "execution_count": null,
   "metadata": {
    "tags": []
   },
   "outputs": [],
   "source": [
    "N = 1000\n",
    "x_hat = np.linspace(xmin, xmax, N)"
   ]
  },
  {
   "cell_type": "code",
   "execution_count": null,
   "metadata": {
    "tags": []
   },
   "outputs": [],
   "source": [
    "fig = plt.figure()\n",
    "for i in range(0, len(xc_list)):\n",
    "    plt.plot(x_hat, hat(x_hat, xc_list[i], support))\n",
    "plt.grid()"
   ]
  },
  {
   "cell_type": "markdown",
   "metadata": {
    "slideshow": {
     "slide_type": "slide"
    }
   },
   "source": [
    "## Fit the data using this base of functions"
   ]
  },
  {
   "cell_type": "markdown",
   "metadata": {
    "slideshow": {
     "slide_type": "subslide"
    }
   },
   "source": [
    "### Determination of the coefficent by regression"
   ]
  },
  {
   "cell_type": "code",
   "execution_count": null,
   "metadata": {
    "tags": []
   },
   "outputs": [],
   "source": [
    "# Construcion of the X matrix\n",
    "X = np.zeros((Nf, len(x)))\n",
    "for i in range(0, len(xc_list)):\n",
    "    X[i, :] = hat(x, xc_list[i], support)\n",
    "    # X = np.append(X, [hat(x, xc_list[i], support)], axis=0)\n",
    "X = X.T\n",
    "\n",
    "# Construcion of the Y matrix\n",
    "Y = y.T\n",
    "\n",
    "# Computation of the least square estimator\n",
    "beta = np.dot(np.linalg.inv(np.dot(X.T, X)), np.dot(X.T, Y))\n",
    "\n",
    "print(\"The fitted coeff:\")\n",
    "print(beta)"
   ]
  },
  {
   "cell_type": "markdown",
   "metadata": {
    "slideshow": {
     "slide_type": "subslide"
    }
   },
   "source": [
    "### Draw the results"
   ]
  },
  {
   "cell_type": "code",
   "execution_count": null,
   "metadata": {
    "tags": []
   },
   "outputs": [],
   "source": [
    "N = 100\n",
    "xi = np.linspace(xmin, xmax, N)\n",
    "\n",
    "yi = np.zeros(xi.shape)\n",
    "for i in range(0, len(xc_list)):\n",
    "    yi = yi + beta[i] * hat(xi, xc_list[i], support)"
   ]
  },
  {
   "cell_type": "code",
   "execution_count": null,
   "metadata": {
    "tags": []
   },
   "outputs": [],
   "source": [
    "fig = plt.figure()\n",
    "plt.plot(x, y, \"o\", label=\"Data\")\n",
    "plt.plot(xi, yi, \"r\", label=\"Regression\")\n",
    "plt.legend()\n",
    "plt.grid()"
   ]
  },
  {
   "cell_type": "markdown",
   "metadata": {},
   "source": [
    "## Work with other bases\n",
    "The Radial basis function (RBF) is a good candidate to fit the data. \n",
    "It will creat a smooth curve that will fit the data, but due to the non finite support of the RBF function, the matrix to invert will be ill conditionned.\n",
    "\n",
    "The gaussian RBF is defined as follow:\n",
    "$$\n",
    "\\phi(x) = \\exp\\left(-\\left(\\frac{x-x_c}{lc}\\right)^2\\right)\n",
    "$$"
   ]
  },
  {
   "cell_type": "code",
   "execution_count": null,
   "metadata": {
    "tags": []
   },
   "outputs": [],
   "source": [
    "def hat(x, xc, support=1):\n",
    "    ### RBF\n",
    "    y = np.exp(-((np.abs(x - xc) / support) ** 2))\n",
    "    return y"
   ]
  },
  {
   "cell_type": "code",
   "execution_count": null,
   "metadata": {},
   "outputs": [],
   "source": [
    "fig = plt.figure()\n",
    "for i in range(0, len(xc_list)):\n",
    "    plt.plot(x_hat, hat(x_hat, xc_list[i], support))\n",
    "plt.grid()"
   ]
  },
  {
   "cell_type": "markdown",
   "metadata": {},
   "source": [
    "### Fit the data using this base of functions"
   ]
  },
  {
   "cell_type": "code",
   "execution_count": null,
   "metadata": {},
   "outputs": [],
   "source": [
    "# Construcion of the X matrix\n",
    "X = np.zeros((Nf, len(x)))\n",
    "for i in range(0, len(xc_list)):\n",
    "    X[i, :] = hat(x, xc_list[i], support)\n",
    "X = X.T\n",
    "\n",
    "# Construcion of the Y matrix\n",
    "Y = y.T\n",
    "\n",
    "# Computation of the least square estimator\n",
    "beta = np.dot(np.linalg.inv(np.dot(X.T, X)), np.dot(X.T, Y))\n",
    "\n",
    "print(\"The fitted coeff:\")\n",
    "print(beta)"
   ]
  },
  {
   "cell_type": "markdown",
   "metadata": {},
   "source": [
    "### Draw the results"
   ]
  },
  {
   "cell_type": "code",
   "execution_count": null,
   "metadata": {},
   "outputs": [],
   "source": [
    "N = 100\n",
    "xi = np.linspace(xmin, xmax, N)\n",
    "\n",
    "yi = np.zeros(xi.shape)\n",
    "for i in range(0, len(xc_list)):\n",
    "    yi = yi + beta[i] * hat(xi, xc_list[i], support)"
   ]
  },
  {
   "cell_type": "code",
   "execution_count": null,
   "metadata": {},
   "outputs": [],
   "source": [
    "fig = plt.figure()\n",
    "plt.plot(x, y, \"o\", label=\"Data\")\n",
    "plt.plot(xi, yi, \"r\", label=\"Regression\")\n",
    "plt.legend()\n",
    "plt.grid()"
   ]
  }
 ],
 "metadata": {
  "celltoolbar": "Slideshow",
  "kernelspec": {
   "display_name": "science",
   "language": "python",
   "name": "python3"
  },
  "language_info": {
   "codemirror_mode": {
    "name": "ipython",
    "version": 3
   },
   "file_extension": ".py",
   "mimetype": "text/x-python",
   "name": "python",
   "nbconvert_exporter": "python",
   "pygments_lexer": "ipython3",
   "version": "3.10.14"
  },
  "livereveal": {
   "footer": "<h3>Polytech Annecy / Chambery</h3>",
   "scroll": true,
   "theme": "sky",
   "transition": "zoom"
  },
  "toc": {
   "base_numbering": 1,
   "nav_menu": {},
   "number_sections": true,
   "sideBar": true,
   "skip_h1_title": true,
   "title_cell": "Table of Contents",
   "title_sidebar": "Contents",
   "toc_cell": true,
   "toc_position": {},
   "toc_section_display": true,
   "toc_window_display": false
  }
 },
 "nbformat": 4,
 "nbformat_minor": 4
}
