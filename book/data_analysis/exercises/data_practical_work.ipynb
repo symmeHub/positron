{
 "cells": [
  {
   "cell_type": "markdown",
   "metadata": {},
   "source": [
    "# Practical work (TP) : Tensile test analysis  \n",
    "\n",
    "In this session you are asked to analyze data coming from the tensile test.\n",
    "\n",
    "This analysis aims at extracting mechanical properties of the material, such as the Young modulus, mechanical strength and yield strength from the load/displacement curve.\n",
    "\n",
    "At the end of this session you should have a class that is able to deal with the data coming from a tensile test. \n",
    "\n",
    "## This class must be able to :\n",
    "\n",
    "### Level 0\n",
    "- read the data in a csv file\n",
    "- compute the nominal stress and nominal strain\n",
    "- compute the true stress and true strain\n",
    "- plot the relevant curves\n",
    "\n",
    "### Level 1\n",
    "- read automatically the header metadata of csv file\n",
    "- determine the Young modulus $E$\n",
    "- determine the Yield stress and the Yield stress a 0.02% of strain\n",
    "- determine the mechanical strength\n",
    "\n",
    "### Level 2\n",
    "- compute the plastique strain ($\\varepsilon_p = \\varepsilon - \\dfrac{\\sigma}{E} $)\n",
    "- fit the stress / plastic strain curve with a power plastic law ($\\sigma = \\sigma_0 + K {\\varepsilon_p}^n $) \n",
    "\n",
    "### Level 3\n",
    "- Run the procedure over all the batch.\n"
   ]
  },
  {
   "cell_type": "code",
   "execution_count": null,
   "metadata": {},
   "outputs": [],
   "source": [
    "# Setup\n",
    "%matplotlib notebook\n",
    "%load_ext autoreload\n",
    "%autoreload 2\n",
    "import numpy as np\n",
    "import pandas as pd\n",
    "import matplotlib.pyplot as plt\n",
    "import matplotlib as mpl"
   ]
  },
  {
   "cell_type": "markdown",
   "metadata": {},
   "source": [
    "## Steps to structure your work\n",
    "\n",
    "1- Find the way to extract the relevant data from one dataset (E, Re, Rm, ...)\n",
    "\n",
    "2- Structure your work using the class structure of python\n",
    "\n",
    "3- Perform analysis on several loads/displacement curves  \n",
    "\n",
    "\n"
   ]
  },
  {
   "cell_type": "markdown",
   "metadata": {},
   "source": [
    "## The dataset :\n",
    "It can be dowloaded at this link [TensileData](https://drive.google.com/drive/u/1/folders/1Kp-Omga2JykownLw2rureS9A-PhsSJMx).\n",
    "\n",
    "It contains 4 files, the ***unit are s/N/mm*** :\n",
    "\n",
    "- Test_1.csv\n",
    "- Test_2.csv\n",
    "- Test_3.csv \n",
    "- Test_4.csv\n",
    "\n",
    "\n"
   ]
  },
  {
   "cell_type": "markdown",
   "metadata": {},
   "source": [
    "## Useful function "
   ]
  },
  {
   "cell_type": "code",
   "execution_count": null,
   "metadata": {},
   "outputs": [],
   "source": [
    "line = \"z = 143.2\"\n",
    "a, b = line.split(\"=\")\n",
    "print(a, b)"
   ]
  },
  {
   "cell_type": "markdown",
   "metadata": {},
   "source": [
    "### Here is a simple template of the class that you should build"
   ]
  },
  {
   "cell_type": "code",
   "execution_count": null,
   "metadata": {},
   "outputs": [],
   "source": [
    "class TensileTest:\n",
    "    \"\"\"\n",
    "    this class is able to ....\n",
    "    \"\"\"\n",
    "\n",
    "    def __init__(self, csv_file=\"xxx\"):\n",
    "        self.csv_file = csv_file\n",
    "        # CODDE HERE\n",
    "\n",
    "    def __repr__(self):\n",
    "        return \"<tensileTest: (file: {0}, E = {1:.2} MPa)>\".format(\n",
    "            self.csv_file, self.get_YoungModulus()\n",
    "        )\n",
    "\n",
    "    def get_YoungModulus(self):\n",
    "        # CODDE HERE\n",
    "        return 1.0"
   ]
  },
  {
   "cell_type": "code",
   "execution_count": null,
   "metadata": {},
   "outputs": [],
   "source": [
    "test1 = TensileTest()  # call the __init__ function"
   ]
  },
  {
   "cell_type": "code",
   "execution_count": null,
   "metadata": {},
   "outputs": [],
   "source": [
    "test1  # call the __repr__ function"
   ]
  },
  {
   "cell_type": "code",
   "execution_count": null,
   "metadata": {},
   "outputs": [],
   "source": [
    "# CODDE HERE"
   ]
  }
 ],
 "metadata": {
  "kernelspec": {
   "display_name": "Python 3.8.3 ('base')",
   "language": "python",
   "name": "python3"
  },
  "language_info": {
   "codemirror_mode": {
    "name": "ipython",
    "version": 3
   },
   "file_extension": ".py",
   "mimetype": "text/x-python",
   "name": "python",
   "nbconvert_exporter": "python",
   "pygments_lexer": "ipython3",
   "version": "3.8.3"
  },
  "vscode": {
   "interpreter": {
    "hash": "ad2bdc8ecc057115af97d19610ffacc2b4e99fae6737bb82f5d7fb13d2f2c186"
   }
  }
 },
 "nbformat": 4,
 "nbformat_minor": 2
}
