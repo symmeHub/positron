{
 "cells": [
  {
   "cell_type": "markdown",
   "metadata": {},
   "source": [
    "(dataM:tutorial:tesilData)=\n",
    "# Tensile test analysis\n",
    "\n",
    "## General scope\n",
    "\n",
    "From global point of view, test machines, sensors provide time-stamped data. \n",
    "Most of the time this a data are stored in a tabular shape, i.e. one line for each record with its time-stamp.\n",
    "\n",
    "A common way to store this data is to use '*.csv' file. A '*.cvs' file looks like:\n",
    "\n",
    "```csv\n",
    "time;data1;data2;data3\n",
    "0.0;12.;.001;'blue'\n",
    "0.1;11.5;.002;'red'\n",
    "0.2;14.2;.004;'blue'\n",
    "0.3;14.2;-.004;'green'\n",
    "...\n",
    "...\n",
    "...\n",
    "```\n",
    "\n",
    "The `Pandas` module is a convenient way to manage this file (read and write).\n",
    "\n",
    "In addition, metadata can be stored in this file, at the beginning of the file. \n",
    "In this metadata global info can be stored, as the date of the test, the name of the operator, the material, the sample type, commentary...\n",
    "\n",
    "A total file can look like:\n",
    "\n",
    "```csv\n",
    "date : 01-02-1900\n",
    "user : bob\n",
    "material : Steel \n",
    "length : .5\n",
    "remarks : This test is awsome\n",
    "\n",
    "time;data1;data2;data3\n",
    "0.0;12.;.001;'blue'\n",
    "0.1;11.5;.002;'red'\n",
    "0.2;14.2;.004;'blue'\n",
    "0.3;14.2;-.004;'green'\n",
    "...\n",
    "...\n",
    "...\n",
    "```\n",
    "## Session objective\n",
    "\n",
    "In this session you are asked to analyze data coming from the tensile test.\n",
    "This analysis aims at extracting the mechanical properties of the material, such as the Young modulus, mechanical strength and yield strength from the load/displacement curve.\n",
    "\n",
    "At the end of this session, you should have a class that is able to deal with the data coming from a tensile test. \n",
    "\n",
    "## The dataset :\n",
    "\n",
    ":::{admonition} Required files\n",
    ":class: important\n",
    "It can be downloaded at this link [TensileData](https://drive.google.com/drive/u/1/folders/1Kp-Omga2JykownLw2rureS9A-PhsSJMx).\n",
    ":::\n",
    "\n",
    "It contains 4 files, the ***unit are s/N/mm*** :\n",
    "\n",
    "- Test_1.csv\n",
    "- Test_2.csv\n",
    "- Test_3.csv \n",
    "- Test_4.csv\n",
    "\n"
   ]
  },
  {
   "cell_type": "code",
   "execution_count": null,
   "metadata": {},
   "outputs": [],
   "source": [
    "# Setup\n",
    "%matplotlib widget\n",
    "import numpy as np\n",
    "import pandas as pd\n",
    "import matplotlib.pyplot as plt\n",
    "import matplotlib as mpl"
   ]
  },
  {
   "cell_type": "markdown",
   "metadata": {},
   "source": [
    "#### Q1 : Load the data and plot its\n",
    "* code one function that loads one test\n",
    "* call this function 4 times to load all data\n",
    "* plot all the tests on one figure\n"
   ]
  },
  {
   "cell_type": "code",
   "execution_count": null,
   "metadata": {},
   "outputs": [],
   "source": [
    "def read_data(path_to_csv=\"my_csv.csv\"):\n",
    "    # code here\n",
    "    df = 0\n",
    "    return df"
   ]
  },
  {
   "cell_type": "code",
   "execution_count": null,
   "metadata": {},
   "outputs": [],
   "source": []
  },
  {
   "cell_type": "markdown",
   "metadata": {},
   "source": [
    "#### Q2: Load them metadata\n",
    "Into the '.csv' file the first 2 line provides $S_0$ and $l_0$ of each sample.\n",
    "\n",
    "* code a function that read this data\n",
    "* call this function on each test\n",
    "\n",
    "##### Useful function \n",
    "\n",
    ":::{admonition} Tip: split a string into 2 parts\n",
    ":class: tip\n",
    "```python\n",
    "line = \"z = 143.2\"\n",
    "word1, word2 = line.split(\"=\")\n",
    "```"
   ]
  },
  {
   "cell_type": "code",
   "execution_count": null,
   "metadata": {},
   "outputs": [],
   "source": [
    "def read_metadata(path_to_csv=\"my_csv.csv\"):\n",
    "    # code here\n",
    "    S0 = 0.0\n",
    "    l0 = 0.0\n",
    "    return S0, l0"
   ]
  },
  {
   "cell_type": "markdown",
   "metadata": {},
   "source": [
    "#### Q3: Stress/Strain curve\n",
    "Knowing that:\n",
    "$\n",
    "\\sigma_n = \\frac{F}{S0}\n",
    "$\n",
    "and \n",
    "$\n",
    "\\epsilon_n = \\frac{\\Delta L}{L_0}\n",
    "$:\n",
    "\n",
    "* Code a function that computes the strain and stress data.\n",
    "* Apply the function to all tests.\n",
    "* Plot this data for all test on a graph.\n",
    "\n"
   ]
  },
  {
   "cell_type": "code",
   "execution_count": null,
   "metadata": {},
   "outputs": [],
   "source": []
  },
  {
   "cell_type": "markdown",
   "metadata": {},
   "source": [
    "#### Q4: Mechanilca strength\n",
    "* Code a function that computes the mechanical strength.\n",
    "* Apply the function to all tests.\n",
    "* Plot this data for all test on a graph."
   ]
  },
  {
   "cell_type": "code",
   "execution_count": null,
   "metadata": {},
   "outputs": [],
   "source": []
  },
  {
   "cell_type": "markdown",
   "metadata": {},
   "source": [
    "#### Q5: Young modulus measurements\n",
    "* Code a function that computes the young modulus on each test.\n",
    "* Apply the function to all tests.\n",
    "* Propose a plot to illustrate the young modulus measurements"
   ]
  },
  {
   "cell_type": "code",
   "execution_count": null,
   "metadata": {},
   "outputs": [],
   "source": [
    "def get_young_modulus(df):\n",
    "    E = 0.0\n",
    "    return E"
   ]
  },
  {
   "cell_type": "markdown",
   "metadata": {},
   "source": [
    "#### Q6: all together in a class\n",
    "Include all the function you have coded in a class.\n",
    "\n",
    "Below is a simple template of the class that you should build :"
   ]
  },
  {
   "cell_type": "code",
   "execution_count": null,
   "metadata": {},
   "outputs": [],
   "source": [
    "class TensileTest:\n",
    "    \"\"\"\n",
    "    this class is able to ....\n",
    "    \"\"\"\n",
    "\n",
    "    def __init__(self, csv_file=\"xxx\"):\n",
    "        self.csv_file = csv_file\n",
    "        # CODDE HERE\n",
    "\n",
    "    def __repr__(self):\n",
    "        return \"<tensileTest: (file: {0}, E = {1:.2} MPa)>\".format(\n",
    "            self.csv_file, self.get_YoungModulus()\n",
    "        )\n",
    "\n",
    "    def get_meca_strength(self):\n",
    "        return 0.0\n",
    "\n",
    "    def get_YoungModulus(self):\n",
    "        # CODDE HERE\n",
    "        return 1.0"
   ]
  },
  {
   "cell_type": "code",
   "execution_count": null,
   "metadata": {},
   "outputs": [],
   "source": [
    "test1 = TensileTest(\"my_csv.csv\")  # call the __init__ function"
   ]
  },
  {
   "cell_type": "code",
   "execution_count": null,
   "metadata": {},
   "outputs": [],
   "source": [
    "test1  # call the __repr__ function"
   ]
  },
  {
   "cell_type": "markdown",
   "metadata": {},
   "source": [
    "#### Q7: The plastic side of the force\n",
    "- compute the plastique strain ($\\varepsilon_p = \\varepsilon - \\dfrac{\\sigma}{E} $)\n",
    "- fit the stress / plastic strain curve with a power plastic law ($\\sigma = \\sigma_0 + K {\\varepsilon_p}^n $) "
   ]
  },
  {
   "cell_type": "code",
   "execution_count": null,
   "metadata": {},
   "outputs": [],
   "source": []
  },
  {
   "cell_type": "code",
   "execution_count": null,
   "metadata": {},
   "outputs": [],
   "source": []
  }
 ],
 "metadata": {
  "kernelspec": {
   "display_name": "Python 3",
   "language": "python",
   "name": "python3"
  },
  "language_info": {
   "codemirror_mode": {
    "name": "ipython",
    "version": 3
   },
   "file_extension": ".py",
   "mimetype": "text/x-python",
   "name": "python",
   "nbconvert_exporter": "python",
   "pygments_lexer": "ipython3",
   "version": "3.11.5"
  },
  "toc": {
   "base_numbering": 1,
   "nav_menu": {},
   "number_sections": true,
   "sideBar": true,
   "skip_h1_title": true,
   "title_cell": "Table of Contents",
   "title_sidebar": "Contents",
   "toc_cell": true,
   "toc_position": {},
   "toc_section_display": true,
   "toc_window_display": false
  },
  "vscode": {
   "interpreter": {
    "hash": "ad2bdc8ecc057115af97d19610ffacc2b4e99fae6737bb82f5d7fb13d2f2c186"
   }
  }
 },
 "nbformat": 4,
 "nbformat_minor": 2
}
