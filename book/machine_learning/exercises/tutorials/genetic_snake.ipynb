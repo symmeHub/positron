{
 "cells": [
  {
   "cell_type": "code",
   "execution_count": null,
   "id": "c4ddc077-1c7c-4448-ac9a-6cf9e0768f54",
   "metadata": {
    "tags": [
     "hide-input"
    ]
   },
   "outputs": [],
   "source": [
    "# UNCOMMENT FOR INTERACTIVE PLOTTING\n",
    "# %matplotlib notebook\n",
    "%matplotlib widget\n",
    "import numpy as np\n",
    "import pandas as pd\n",
    "import matplotlib.pyplot as plt\n",
    "from matplotlib import animation, rc, cm\n",
    "import IPython, io, urllib\n",
    "import curses\n",
    "import ipywidgets as widgets\n",
    "from matplotlib import animation, rc, cm\n",
    "import time\n",
    "from snakelib import FastSnake\n",
    "\n",
    "rc(\"animation\", html=\"html5\")"
   ]
  },
  {
   "cell_type": "markdown",
   "id": "2e008533-84a5-4304-bb4d-1b3265213e48",
   "metadata": {},
   "source": [
    "(ML:practical_work:genetic_snake)=\n",
    "# Reinforcement learning on snake with a genetic neural network\n",
    "\n",
    ":::{admonition} Required files\n",
    ":class: important\n",
    "In order to work properly, this notebook requires the following modules in its folder`:\n",
    "\n",
    "* {download}`snakelib.py <snakelib.py>`\n",
    "\n",
    "\n",
    "Put it in your working directory along with this notebook. \n",
    ":::\n",
    "\n",
    "\n",
    "This notebook is an example of supervised learning applied to video games. You will use the legendary game Snake rewritten in Python for the occasion and will try to develop an automatic game strategy. In a first step, by hand and in a second step using a genetic algorithm to evolve a neural network. Graphical examples will allow to see the evolution of the game performances.\n",
    "\n",
    "## Part 1: Try the game\n",
    "\n",
    "In this first part, you are asked to try the game and check that you understand the rules. Try to imagine what you need to know to win a game."
   ]
  },
  {
   "cell_type": "code",
   "execution_count": null,
   "id": "55da0d08-b4f1-4973-bdd4-502e158daa0e",
   "metadata": {
    "tags": [
     "hide-input"
    ]
   },
   "outputs": [],
   "source": [
    "left_widget = widgets.Button(\n",
    "    description=\"\",\n",
    "    disabled=False,\n",
    "    button_style=\"success\",\n",
    "    tooltip=\"Want to go left ?\",\n",
    "    icon=\"fa-arrow-left\",\n",
    ")\n",
    "\n",
    "right_widget = widgets.Button(\n",
    "    description=\"\",\n",
    "    disabled=False,\n",
    "    button_style=\"success\",\n",
    "    tooltip=\"Want to go right ?\",\n",
    "    icon=\"fa-arrow-right\",\n",
    ")\n",
    "\n",
    "up_widget = widgets.Button(\n",
    "    description=\"\",\n",
    "    disabled=False,\n",
    "    button_style=\"success\",\n",
    "    tooltip=\"Want to go up ?\",\n",
    "    icon=\"fa-arrow-up\",\n",
    ")\n",
    "\n",
    "\n",
    "down_widget = widgets.Button(\n",
    "    description=\"\",\n",
    "    disabled=False,\n",
    "    button_style=\"success\",\n",
    "    tooltip=\"Want to go down ?\",\n",
    "    icon=\"fa-arrow-down\",\n",
    ")\n",
    "\n",
    "reset_widget = widgets.Button(\n",
    "    description=\"Reset\",\n",
    "    disabled=False,\n",
    "    button_style=\"danger\",\n",
    "    tooltip=\"Want to reset ?\",\n",
    "    icon=\"fa-power-off\",\n",
    ")\n",
    "\n",
    "direction = 0\n",
    "\n",
    "\n",
    "def set_direction(direction):\n",
    "    snake.play(direction)\n",
    "    update_fig()\n",
    "\n",
    "\n",
    "def reset_game():\n",
    "    snake.reset()\n",
    "    update_fig()\n",
    "\n",
    "\n",
    "left_widget.on_click(lambda arg: set_direction(2))\n",
    "right_widget.on_click(lambda arg: set_direction(0))\n",
    "up_widget.on_click(lambda arg: set_direction(1))\n",
    "down_widget.on_click(lambda arg: set_direction(3))\n",
    "reset_widget.on_click(lambda arg: reset_game())\n",
    "\n",
    "\n",
    "def update_fig():\n",
    "    im.set_array(snake.grid)\n",
    "    status = snake.status\n",
    "    if status == 0:\n",
    "        mess = \"PLAY\"\n",
    "    elif status == -1:\n",
    "        mess = \"YOU DIED (YOURSELF)\"\n",
    "    elif status == -2:\n",
    "        mess = \"YOU DIED (LAVA)\"\n",
    "    title.set_text(f\"Score = {snake.score}, {mess}\")\n",
    "    plt.draw()\n",
    "    return (im,)\n",
    "\n",
    "\n",
    "snake = FastSnake(Nrow=10, Ncol=10)\n",
    "\n",
    "fig1, ax = plt.subplots()\n",
    "ax.axis(\"off\")\n",
    "title = plt.title(f\"Score = {snake.score}, PLAY \")\n",
    "im = plt.imshow(snake.grid, interpolation=\"nearest\", animated=True)\n",
    "# anim = animation.FuncAnimation(fig, updatefig, frames=400, interval=1, blit=True)\n",
    "plt.show()\n",
    "widgets.Box([left_widget, right_widget, up_widget, down_widget, reset_widget])"
   ]
  },
  {
   "cell_type": "code",
   "execution_count": null,
   "id": "3de8b723-1fb2-4bb0-aee3-6f092f6aefb3",
   "metadata": {
    "tags": [
     "hide-input"
    ]
   },
   "outputs": [],
   "source": [
    "plt.close()"
   ]
  },
  {
   "cell_type": "markdown",
   "id": "fd9d3043-b145-4ee7-8842-6a9c1ae8eaca",
   "metadata": {},
   "source": [
    "## Automatic playing\n",
    "\n",
    "At first, you are asked to build an agent that will play automatically. It will have to make decisions according to the snake's sensor values. These decisions are to choose the best direction to take."
   ]
  },
  {
   "cell_type": "code",
   "execution_count": null,
   "id": "7c32b749-2416-4f98-8855-3da96200131b",
   "metadata": {},
   "outputs": [],
   "source": [
    "def my_agent(sensors):\n",
    "    neighbors = sensors[:4]\n",
    "    dcol, drow = sensors[4:]\n",
    "    # FRUIT IS NEAR ?\n",
    "    for direction in np.arange(4):\n",
    "        if neighbors[direction] == 1:\n",
    "            return direction\n",
    "    # OK, NO, THEN GET CLOSER TO IT ?\n",
    "    if 0.0 in neighbors:\n",
    "        prefered_directions = np.zeros(4)\n",
    "        if dcol > 0.0:\n",
    "            prefered_directions[:] += 2, 1, 0, 1\n",
    "        else:\n",
    "            prefered_directions[:] += 0, 1, 2, 1\n",
    "        if drow > 0.0:\n",
    "            prefered_directions[:] += 1, 0, 1, 2\n",
    "        else:\n",
    "            prefered_directions[:] += 1, 2, 1, 0\n",
    "        p = prefered_directions * (neighbors > -1.0)\n",
    "        my_choice = np.random.choice(np.where(p == p.max())[0])\n",
    "        return my_choice\n",
    "    else:\n",
    "        # OK LET'S SUICIDE\n",
    "        return np.random.randint(4)\n",
    "\n",
    "\n",
    "my_choice = my_agent(snake.sensors())\n",
    "my_choice"
   ]
  },
  {
   "cell_type": "markdown",
   "id": "77b64b70-d4b0-405e-9205-ec21c78fec24",
   "metadata": {},
   "source": [
    "## Automatic play with graphic output\n"
   ]
  },
  {
   "cell_type": "code",
   "execution_count": null,
   "id": "559e69ae-be9c-4481-9ceb-cc974be91a53",
   "metadata": {
    "tags": [
     "hide-input"
    ]
   },
   "outputs": [],
   "source": [
    "snake2 = FastSnake(Nrow=15, Ncol=15)\n",
    "\n",
    "\n",
    "def updatefig(*args):\n",
    "    sensors = snake2.sensors()\n",
    "    my_choice = my_agent(sensors)\n",
    "    snake2.play(my_choice)\n",
    "    im2.set_array(snake2.grid)\n",
    "    if snake2.status != 0:\n",
    "        snake2.reset()\n",
    "    return (im,)\n",
    "\n",
    "\n",
    "fig2, ax2 = plt.subplots()\n",
    "ax2.axis(\"off\")\n",
    "im2 = plt.imshow(snake2.grid, interpolation=\"nearest\", animated=True)\n",
    "anim = animation.FuncAnimation(fig2, updatefig, frames=40, interval=50, blit=True)\n",
    "plt.show()"
   ]
  },
  {
   "cell_type": "code",
   "execution_count": null,
   "id": "4b936dcf-3ce6-4542-b3fb-b7990401190f",
   "metadata": {
    "tags": [
     "hide-input"
    ]
   },
   "outputs": [],
   "source": [
    "anim.pause()\n",
    "plt.close(fig2)"
   ]
  },
  {
   "cell_type": "markdown",
   "id": "aa883a8a-7d5f-497b-a10e-660ba8e1e7a9",
   "metadata": {},
   "source": [
    "## Benchmark"
   ]
  },
  {
   "cell_type": "code",
   "execution_count": null,
   "id": "25834cf6-8776-479a-bfb4-e406e24ae0a1",
   "metadata": {
    "tags": [
     "hide-input"
    ]
   },
   "outputs": [],
   "source": [
    "import tqdm\n",
    "\n",
    "Ntests = 200\n",
    "max_turns = 1000\n",
    "snake3 = FastSnake(Nrow=10, Ncol=10)\n",
    "scores = np.zeros(Ntests)\n",
    "turns = np.zeros(Ntests)\n",
    "# for test in tqdm.trange(Ntests):\n",
    "for test in range(Ntests):\n",
    "    snake3.reset()\n",
    "    turn = 0\n",
    "    while snake3.status == 0:\n",
    "        sensors = snake3.sensors()\n",
    "        my_choice = my_agent(sensors)\n",
    "        snake3.play(my_choice)\n",
    "        turn += 1\n",
    "        if turn >= max_turns:\n",
    "            break\n",
    "    scores[test] = snake3.score\n",
    "    turns[test] = turn"
   ]
  },
  {
   "cell_type": "code",
   "execution_count": null,
   "id": "db09fbfe-bb14-4376-8633-bb00eee5585e",
   "metadata": {
    "tags": [
     "hide-input"
    ]
   },
   "outputs": [],
   "source": [
    "data = pd.DataFrame({\"score\": scores, \"turns\": turns})\n",
    "data.describe().loc[[\"mean\", \"std\", \"max\", \"min\", \"count\"]].T"
   ]
  },
  {
   "cell_type": "markdown",
   "id": "37ce6eaa-8250-4894-a62b-9010f6911cae",
   "metadata": {},
   "source": [
    "## Genetic Neural Network agent "
   ]
  },
  {
   "cell_type": "code",
   "execution_count": null,
   "id": "c7248a2a-6ef9-43c2-b1ab-12ad6f9f2640",
   "metadata": {
    "tags": []
   },
   "outputs": [],
   "source": [
    "Npop = 2000\n",
    "Ngen = 4\n",
    "Ntries = 3\n",
    "Nin = 6\n",
    "Nout = 4\n",
    "keep_ratio = 0.2\n",
    "mutation_ratio = 0.2\n",
    "mutation_sigma = 0.001\n",
    "keep_individuals = int(keep_ratio * Npop)\n",
    "max_turns = 500\n",
    "\n",
    "\n",
    "# all_bias = np.random.rand(Npop, Nout)\n",
    "all_weights = (np.random.rand(Npop, Nout, Nin + 1) * 2 - 1.0) * 1.0\n",
    "\n",
    "\n",
    "def sigmoid(x):\n",
    "    return 1.0 / (1.0 + np.exp(-x))\n",
    "\n",
    "\n",
    "def genetic_algorithm(weigths, data):\n",
    "    data.sort_values(\"score\", ascending=False, inplace=True)\n",
    "    keep_individuals = int(keep_ratio * Npop)\n",
    "    kept_data = data.iloc[:keep_individuals]\n",
    "    new_all_weights = np.zeros_like(all_weights)\n",
    "    new_all_weights[:keep_individuals] = all_weights[kept_data.index]\n",
    "    keep_range = np.arange(keep_individuals)\n",
    "    for indiv in range(keep_individuals, Npop):\n",
    "        parents = np.random.choice(keep_range, 2)\n",
    "        pw = np.random.rand()\n",
    "        w = new_all_weights[parents[0]] * pw + (1.0 - pw) + new_all_weights[parents[1]]\n",
    "\n",
    "    weights = new_all_weights\n",
    "    return weights\n",
    "\n",
    "\n",
    "def neural_agent(weights, sensors):\n",
    "    out = sigmoid((weights[:, :-1] @ sensors + weights[:, -1]))\n",
    "    return np.where(out == out.max())[0][0]"
   ]
  },
  {
   "cell_type": "code",
   "execution_count": null,
   "id": "f694920f-fcb3-4101-8215-0123a2d510c1",
   "metadata": {
    "tags": []
   },
   "outputs": [],
   "source": [
    "import tqdm\n",
    "\n",
    "\n",
    "# def make_sensors2(sensors):\n",
    "#     sensors2 = np.zeros(6)\n",
    "#     sensors2[:4] = sensors[:8:2] * 2 - 1.0\n",
    "#     for i in range(2):\n",
    "#         s = sensors[8 + i]\n",
    "#         if s == 0.0:\n",
    "#             sensors2[4 + i] = 0.0\n",
    "#         else:\n",
    "#             sensors2[4 + i] = np.sign(s)\n",
    "#     sensors2[4:] = np.sign(sensors[8:])\n",
    "#     return sensors2\n",
    "\n",
    "\n",
    "snake4 = FastSnake(Nrow=10, Ncol=10)\n",
    "scores = np.zeros(Npop)\n",
    "turns = np.zeros(Npop)\n",
    "# for generation in tqdm.trange(Ngen):\n",
    "for generation in range(Ngen):\n",
    "    print(f\"Generation: {generation}, best score = {scores.max()}\")\n",
    "    scores *= 0.0\n",
    "    turns *= 0.0\n",
    "    for test in range(Npop):  # tqdm.trange(Npop):\n",
    "        tries_scores = np.zeros(Ntries)\n",
    "        tries_turns = np.zeros(Ntries)\n",
    "        for trial in range(Ntries):\n",
    "            snake4.reset()\n",
    "            Ncol = snake4.Ncol\n",
    "            Nrow = snake4.Nrow\n",
    "            snake4.fruit_position = (Nrow - 2) * Ncol + Ncol - 2\n",
    "            turn = 0\n",
    "            weights = all_weights[test]\n",
    "            while snake4.status == 0:\n",
    "                sensors = snake4.sensors()\n",
    "                # sensors2 = np.zeros(6)\n",
    "                # sensors2[:4] = sensors[:8:2] * 2 - 1.0\n",
    "                # for i in range(2):\n",
    "                #     s = sensors[8+i]\n",
    "                #     if s == 0.:\n",
    "                #         sensors2[4+i] = 0.\n",
    "                #     else:\n",
    "                #         sensors2[4+i] = np.sign(s)\n",
    "                # sensors2[4:] = np.sign(sensors[8:])\n",
    "                # sensors2 = make_sensors2(sensors)\n",
    "                my_choice = neural_agent(weights, sensors)\n",
    "                snake4.play(my_choice)\n",
    "                turn += 1\n",
    "                if turn >= max_turns:\n",
    "                    break\n",
    "            tries_scores[trial] = snake4.score\n",
    "            tries_turns[trial] = turn\n",
    "        scores[test] = tries_scores.mean()\n",
    "        turns[test] = tries_turns.mean()\n",
    "    perf = scores * turns\n",
    "    order = np.argsort(scores)[::-1]\n",
    "\n",
    "    # data = pd.DataFrame({\"score\": scores, \"turns\": turns})\n",
    "    # data[\"perf\"] = data.score * data.turns\n",
    "    # all_weights = genetic_algorithm(all_weights, data)\n",
    "    # data.sort_values(\"score\", ascending=False, inplace=True)\n",
    "    # kept_data = data.iloc[:keep_individuals]\n",
    "    new_all_weights = np.zeros_like(all_weights)\n",
    "    # SELECTION\n",
    "    new_all_weights[:keep_individuals] = all_weights[order][:keep_individuals]\n",
    "    # HYBRIDATION\n",
    "    keep_range = np.arange(keep_individuals)\n",
    "    for indiv in range(keep_individuals, Npop):\n",
    "        parents = np.random.choice(keep_range, 2)\n",
    "        pw = np.random.rand()\n",
    "        w = new_all_weights[parents[0]] * pw + (1.0 - pw) + new_all_weights[parents[1]]\n",
    "        # MUTATION:\n",
    "        if np.random.rand() <= mutation_ratio:\n",
    "            w *= np.random.normal(loc=1.0, scale=mutation_sigma, size=w.shape)\n",
    "        new_all_weights[indiv] = w\n",
    "\n",
    "    all_weights = new_all_weights\n",
    "\n",
    "data = pd.DataFrame({\"score\": scores, \"turns\": turns, \"perf\": perf}).sort_values(\n",
    "    \"score\", ascending=False\n",
    ")\n",
    "data.head(5)"
   ]
  },
  {
   "cell_type": "code",
   "execution_count": null,
   "id": "74a09602-697c-4acc-980c-21c85de39023",
   "metadata": {},
   "outputs": [],
   "source": [
    "snake2 = FastSnake(Nrow=10, Ncol=10)\n",
    "\n",
    "weights = all_weights[0]  # BEST AGENT\n",
    "\n",
    "\n",
    "def updatefig(*args):\n",
    "    sensors = snake2.sensors()\n",
    "    sensors2 = np.zeros(6)\n",
    "    # sensors2[:4] = sensors[:8:2] * 2 - 1.0\n",
    "    # for i in range(2):\n",
    "    #     s = sensors[8+i]\n",
    "    #     if s == 0.:\n",
    "    #         sensors2[4+i] = 0.\n",
    "    #     else:\n",
    "    #         sensors2[4+i] = np.sign(s)\n",
    "    # sensors2 = make_sensors2(sensors)\n",
    "    my_choice = neural_agent(weights, sensors)\n",
    "    snake2.play(my_choice)\n",
    "    im2.set_array(snake2.grid)\n",
    "    if snake2.status != 0:\n",
    "        snake2.reset()\n",
    "    return (im2,)\n",
    "\n",
    "\n",
    "fig2, ax2 = plt.subplots()\n",
    "ax2.axis(\"off\")\n",
    "im2 = plt.imshow(snake2.grid, interpolation=\"nearest\", animated=True)\n",
    "anim = animation.FuncAnimation(fig2, updatefig, frames=40, interval=50, blit=True)\n",
    "plt.show()"
   ]
  },
  {
   "cell_type": "code",
   "execution_count": null,
   "id": "34f35a11-8e24-41eb-8bd8-481430bd8029",
   "metadata": {},
   "outputs": [],
   "source": [
    "anim.pause()\n",
    "plt.close(\"all\")"
   ]
  },
  {
   "cell_type": "code",
   "execution_count": null,
   "id": "34a621b9-4d61-408f-90d6-0d41fce3ebb1",
   "metadata": {},
   "outputs": [],
   "source": [
    "neural_agent(weights, snake2.sensors())"
   ]
  },
  {
   "cell_type": "code",
   "execution_count": null,
   "id": "b3585f9e-f265-4690-bfd3-7373e378cd85",
   "metadata": {},
   "outputs": [],
   "source": [
    "data.sort_values(\"score\", ascending=False, inplace=True)\n",
    "\"\"\"kept_data = data.iloc[:keep_individuals]\n",
    "new_all_weights = np.zeros_like(all_weights)\n",
    "new_all_weights[:keep_individuals] = all_weights[kept_data.index]\n",
    "keep_range = np.arange(keep_individuals)\"\"\""
   ]
  },
  {
   "cell_type": "code",
   "execution_count": null,
   "id": "a6c8fccd",
   "metadata": {},
   "outputs": [],
   "source": [
    "sensors = np.array([0.0, 0.0, 0.5, 0.0, 0.0, 0.0, 0.0, 0.0, 1.0, 1.0])\n",
    "out = sigmoid((weights[:, :-1] @ sensors + weights[:, -1]))  # + weights[-1])\n",
    "out"
   ]
  },
  {
   "cell_type": "code",
   "execution_count": null,
   "id": "8cdeaa27",
   "metadata": {},
   "outputs": [],
   "source": [
    "all_weights.max()"
   ]
  },
  {
   "cell_type": "code",
   "execution_count": null,
   "id": "ad6ade96-7325-407e-adff-dcf639175107",
   "metadata": {},
   "outputs": [],
   "source": [
    "all_weights.min()"
   ]
  },
  {
   "cell_type": "code",
   "execution_count": null,
   "id": "0242d628-1f23-441b-960e-761a88ad7523",
   "metadata": {},
   "outputs": [],
   "source": []
  }
 ],
 "metadata": {
  "kernelspec": {
   "display_name": "Python 3 (ipykernel)",
   "language": "python",
   "name": "python3"
  },
  "language_info": {
   "codemirror_mode": {
    "name": "ipython",
    "version": 3
   },
   "file_extension": ".py",
   "mimetype": "text/x-python",
   "name": "python",
   "nbconvert_exporter": "python",
   "pygments_lexer": "ipython3",
   "version": "3.9.15"
  }
 },
 "nbformat": 4,
 "nbformat_minor": 5
}
