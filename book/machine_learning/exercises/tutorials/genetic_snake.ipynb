{
 "cells": [
  {
   "cell_type": "code",
   "execution_count": null,
   "id": "c4ddc077-1c7c-4448-ac9a-6cf9e0768f54",
   "metadata": {
    "tags": [
     "hide-input"
    ]
   },
   "outputs": [],
   "source": [
    "# UNCOMMENT FOR INTERACTIVE PLOTTING\n",
    "# %matplotlib notebook\n",
    "%matplotlib widget\n",
    "import numpy as np\n",
    "import pandas as pd\n",
    "import matplotlib.pyplot as plt\n",
    "from matplotlib import animation, rc, cm\n",
    "import time\n",
    "from snakelib import FastSnake, show_gui, NeuralAgent\n",
    "\n",
    "rc(\"animation\", html=\"html5\")"
   ]
  },
  {
   "cell_type": "markdown",
   "id": "2e008533-84a5-4304-bb4d-1b3265213e48",
   "metadata": {},
   "source": [
    "(ML:practical_work:genetic_snake)=\n",
    "# Reinforcement learning on snake with a genetic neural network\n",
    "\n",
    ":::{admonition} Required files\n",
    ":class: important\n",
    "In order to work properly, this notebook requires the following modules in its folder:\n",
    "\n",
    "* {download}`snakelib.py <snakelib.py>`\n",
    "\n",
    "Put it in your working directory along with this notebook. \n",
    "\n",
    ":::\n",
    "\n",
    "\n",
    "This notebook is an example of supervised learning applied to video games. You will use the legendary game Snake rewritten in Python for the occasion and will try to develop an automatic game strategy. In a first step, by hand and in a second step using a genetic algorithm to evolve a neural network. Graphical examples will allow to see the evolution of the game performances.\n",
    "\n",
    "## Part 1: Try the game\n",
    "\n",
    "In this first part, you are asked to try the game and check that you understand the rules. Try to imagine what you need to know to win a game."
   ]
  },
  {
   "cell_type": "code",
   "execution_count": null,
   "id": "fc3a7833-b07c-4b87-945e-4811ddbc69bf",
   "metadata": {},
   "outputs": [],
   "source": [
    "fig = plt.figure()\n",
    "ax = fig.add_subplot(1, 1, 1)\n",
    "snake = FastSnake(Nrow=10, Ncol=10)\n",
    "show_gui(snake, ax)"
   ]
  },
  {
   "cell_type": "markdown",
   "id": "fd9d3043-b145-4ee7-8842-6a9c1ae8eaca",
   "metadata": {},
   "source": [
    "## Automatic playing\n",
    "\n",
    "At first, you are asked to build an agent that will play automatically. It will have to make decisions according to the snake's sensor values. These decisions are to choose the best direction to take."
   ]
  },
  {
   "cell_type": "code",
   "execution_count": null,
   "id": "7c32b749-2416-4f98-8855-3da96200131b",
   "metadata": {},
   "outputs": [],
   "source": [
    "def my_agent(sensors):\n",
    "    \"\"\"\n",
    "    A simple agent demo.\n",
    "    \"\"\"\n",
    "    turn_neighbors = sensors[:3]\n",
    "    fcos, fsin = sensors[3:]\n",
    "    direction_ids = np.array([1, 0, -1])\n",
    "    # FRUIT IS NEAR ?\n",
    "    for direction in np.arange(3):\n",
    "        if turn_neighbors[direction] == 1:\n",
    "            return direction_ids[direction]\n",
    "    # OK, NO, THEN GET CLOSER TO IT ?\n",
    "    if 0.0 in turn_neighbors:\n",
    "        prefered_directions = np.zeros(3)\n",
    "        if fcos > 0.0:\n",
    "            prefered_directions[:] += 0, 3, 0\n",
    "        elif fcos < 0.0:\n",
    "            prefered_directions[:] += 1, 0, 1\n",
    "        if fsin < 0.0:\n",
    "            prefered_directions[:] += 0, 1, 1\n",
    "        elif fsin > 0.0:\n",
    "            prefered_directions[:] += 1, 1, 0\n",
    "        p = prefered_directions * (turn_neighbors >= 0.0)\n",
    "        my_choice = np.where(p == p.max())[0][0]\n",
    "        return direction_ids[my_choice]\n",
    "    else:\n",
    "        # OK LET'S SUICIDE\n",
    "        return np.random.randint(3)\n",
    "\n",
    "\n",
    "snake = FastSnake(Nrow=10, Ncol=10)\n",
    "my_choice = my_agent(snake.sensors())\n",
    "my_choice"
   ]
  },
  {
   "cell_type": "markdown",
   "id": "77b64b70-d4b0-405e-9205-ec21c78fec24",
   "metadata": {},
   "source": [
    "## Automatic play with graphic output\n"
   ]
  },
  {
   "cell_type": "code",
   "execution_count": null,
   "id": "559e69ae-be9c-4481-9ceb-cc974be91a53",
   "metadata": {
    "tags": [
     "hide-input"
    ]
   },
   "outputs": [],
   "source": [
    "snake5 = FastSnake(Nrow=15, Ncol=15)\n",
    "\n",
    "\n",
    "def updatefig(*args):\n",
    "    sensors = snake5.sensors()\n",
    "    my_choice = my_agent(sensors)\n",
    "    snake5.turn(my_choice)\n",
    "    im2.set_array(snake5.grid)\n",
    "    if snake5.status != 0:\n",
    "        snake5.reset()\n",
    "    return (im2,)\n",
    "\n",
    "\n",
    "fig2, ax2 = plt.subplots()\n",
    "ax2.axis(\"off\")\n",
    "im2 = plt.imshow(snake5.grid, interpolation=\"nearest\", animated=True)\n",
    "anim = animation.FuncAnimation(fig2, updatefig, frames=40, interval=50, blit=True)\n",
    "plt.show()  # UNCOMMENT TO PLAY\n",
    "# plt.close() # COMMENT TO PLAY\n",
    "# anim # COMMENT TO PLAY"
   ]
  },
  {
   "cell_type": "code",
   "execution_count": null,
   "id": "4b936dcf-3ce6-4542-b3fb-b7990401190f",
   "metadata": {
    "tags": [
     "hide-input"
    ]
   },
   "outputs": [],
   "source": [
    "anim.pause()\n",
    "plt.close(fig2)"
   ]
  },
  {
   "cell_type": "markdown",
   "id": "aa883a8a-7d5f-497b-a10e-660ba8e1e7a9",
   "metadata": {},
   "source": [
    "## Benchmark"
   ]
  },
  {
   "cell_type": "code",
   "execution_count": null,
   "id": "25834cf6-8776-479a-bfb4-e406e24ae0a1",
   "metadata": {
    "tags": [
     "hide-input"
    ]
   },
   "outputs": [],
   "source": [
    "import tqdm\n",
    "\n",
    "Nagent_ids = 200\n",
    "max_turns = 1000\n",
    "snake3 = FastSnake(Nrow=10, Ncol=10)\n",
    "scores = np.zeros(Nagent_ids)\n",
    "turns = np.zeros(Nagent_ids)\n",
    "# for agent_id in tqdm.trange(Nagent_ids):\n",
    "for agent_id in range(Nagent_ids):\n",
    "    snake3.reset()\n",
    "    turn = 0\n",
    "    while snake3.status == 0:\n",
    "        sensors = snake3.sensors()\n",
    "        my_choice = my_agent(sensors)\n",
    "        snake3.turn(my_choice)\n",
    "        turn += 1\n",
    "        if turn >= max_turns:\n",
    "            break\n",
    "    scores[agent_id] = snake3.score\n",
    "    turns[agent_id] = turn"
   ]
  },
  {
   "cell_type": "code",
   "execution_count": null,
   "id": "db09fbfe-bb14-4376-8633-bb00eee5585e",
   "metadata": {
    "tags": [
     "hide-input"
    ]
   },
   "outputs": [],
   "source": [
    "data = pd.DataFrame({\"score\": scores, \"turns\": turns})\n",
    "data.describe().loc[[\"mean\", \"std\", \"max\", \"min\", \"count\"]].T"
   ]
  },
  {
   "cell_type": "markdown",
   "id": "37ce6eaa-8250-4894-a62b-9010f6911cae",
   "metadata": {},
   "source": [
    "## Genetic Neural Network agent "
   ]
  },
  {
   "cell_type": "code",
   "execution_count": null,
   "id": "c7248a2a-6ef9-43c2-b1ab-12ad6f9f2640",
   "metadata": {
    "tags": []
   },
   "outputs": [],
   "source": [
    "# NEURAL FUNCTIONS\n",
    "def sigmoid(x):\n",
    "    return 1.0 / (1.0 + np.exp(-x))\n",
    "\n",
    "\n",
    "def ReLu(x):\n",
    "    return np.where(x > 0.0, x, 0.0)\n",
    "\n",
    "\n",
    "def identity(x):\n",
    "    return x\n",
    "\n",
    "\n",
    "# ARG MAX\n",
    "def argMax(x):\n",
    "    return int(np.where(x == x.max())[0][0])\n",
    "\n",
    "\n",
    "# GENETIC ALGORITHM SETUP\n",
    "\n",
    "Npop = 100  # NUMBER OF INDIVIDUALS IN THE POPULATION\n",
    "Ngen = 10  # NUMBER OF GENERATIONS OF EVOLUTION\n",
    "Ntries = 2  # NUMBER OF TRIES PER INDIVIDUAL PER GENERATION\n",
    "Net_struct = 5, 3  # NETWORK STRUCTURE\n",
    "keep_ratio = 0.1  # # GENETIC ALGORITHM KEEP RATIO\n",
    "mutation_ratio = 0.1  # MUTATION RATIO\n",
    "mutation_sigma = 0.1  # MUTATION GAUSSIAN SIGMA\n",
    "max_turns = 1000  # MAX PLAY TURNS PER TRIAL\n",
    "neural_functions = [identity]  # NEURAL FUNCTION VECTOR\n",
    "\n",
    "\n",
    "# PRE-PROCESSING\n",
    "keep_individuals = int(keep_ratio * Npop)\n",
    "Nw = 0\n",
    "for i in range(len(Net_struct) - 1):\n",
    "    nin = Net_struct[i]\n",
    "    nout = Net_struct[i + 1]\n",
    "    Nw += (nin + 1) * nout\n",
    "all_weights = np.random.normal(loc=0.0, scale=1.0, size=(Npop, Nw))\n",
    "agents = []\n",
    "for agent_id in range(Npop):\n",
    "    weights = all_weights[agent_id]\n",
    "    agent = NeuralAgent(\n",
    "        weights=weights, structure=Net_struct, neural_functions=neural_functions\n",
    "    )\n",
    "    agents.append(agent)\n",
    "agent_functions = [agent.get_caller() for agent in agents]\n",
    "func = agent_functions[0]\n",
    "total_generations = 1"
   ]
  },
  {
   "cell_type": "code",
   "execution_count": null,
   "id": "fbf47619-bb81-4613-b596-54ed18d5d47a",
   "metadata": {},
   "outputs": [],
   "source": []
  },
  {
   "cell_type": "code",
   "execution_count": null,
   "id": "f694920f-fcb3-4101-8215-0123a2d510c1",
   "metadata": {
    "tags": []
   },
   "outputs": [],
   "source": [
    "# DATA STORAGE\n",
    "snake4 = FastSnake(Nrow=12, Ncol=12)\n",
    "scores = np.zeros(Npop)\n",
    "turns = np.zeros(Npop)\n",
    "tries_scores = np.zeros(Ntries)\n",
    "tries_turns = np.zeros(Ntries)\n",
    "new_all_weights = np.zeros_like(all_weights)\n",
    "turn_ids = np.array([-1.0, 0.0, 1.0])\n",
    "for generation in range(Ngen):\n",
    "    print(f\"Generation: {total_generations}\")\n",
    "    scores[:] = 0.0\n",
    "    turns[:] = 0.0\n",
    "    for agent_id in range(Npop):  # tqdm.trange(Npop):\n",
    "        tries_scores[:] = 0.0\n",
    "        tries_turns[:] = 0.0\n",
    "        agent_func = agent_functions[agent_id]\n",
    "        for trial in range(Ntries):\n",
    "            snake4.reset()\n",
    "            Ncol = snake4.Ncol\n",
    "            Nrow = snake4.Nrow\n",
    "            snake4.fruit_position = (Nrow - 2) * Ncol + Ncol - 2\n",
    "            turn = 0\n",
    "            # weights = all_weights[agent_id]\n",
    "            while snake4.status == 0:\n",
    "                sensors = snake4.sensors()\n",
    "                my_choice = turn_ids[argMax(agent_func(sensors))]\n",
    "                snake4.turn(my_choice)\n",
    "                turn += 1\n",
    "                if turn >= max_turns:\n",
    "                    break\n",
    "            tries_scores[trial] = snake4.score\n",
    "            tries_turns[trial] = turn\n",
    "        scores[agent_id] = tries_scores.mean()\n",
    "        turns[agent_id] = tries_turns.mean()\n",
    "    perf = scores\n",
    "    order = np.argsort(perf)[::-1]\n",
    "    new_all_weights[:] = 0.0\n",
    "    # SELECTION\n",
    "    new_all_weights[:keep_individuals] = all_weights[order][:keep_individuals]\n",
    "    # HYBRIDATION\n",
    "    keep_range = np.arange(keep_individuals)\n",
    "    for indiv in range(keep_individuals, Npop):\n",
    "        parents = np.random.choice(keep_range, 2)\n",
    "        while parents[1] == parents[0]:\n",
    "            parents = np.random.choice(keep_range, 2)\n",
    "        # parents = np.array([0, np.random.randint(1, keep_individuals)])\n",
    "        pw = np.random.rand()\n",
    "        # w = new_all_weights[parents[0]] * pw + (1.0 - pw) + new_all_weights[parents[1]]\n",
    "        cross_over = np.random.randint(1, Nw - 1)\n",
    "        # new_all_weights[indiv][:cross_over] = new_all_weights[parents[0]][:cross_over]\n",
    "        # new_all_weights[indiv][cross_over:] = new_all_weights[parents[1]][cross_over:]\n",
    "        # #= new_all_weights[parents[0]]\n",
    "        new_all_weights[indiv] = (\n",
    "            new_all_weights[parents[0]] * pw + (1.0 - pw) + new_all_weights[parents[1]]\n",
    "        )\n",
    "        # MUTATION:\n",
    "        if np.random.rand() <= mutation_ratio:\n",
    "            mutation_loc = np.random.randint(Nw)\n",
    "            new_all_weights[indiv] *= np.random.normal(\n",
    "                loc=1.0, scale=mutation_sigma, size=Nw\n",
    "            )\n",
    "\n",
    "        # new_all_weights[indiv] = w\n",
    "    total_generations += 1\n",
    "    all_weights[:] = new_all_weights\n",
    "    print(f\"=> best score = {scores.max()}\")\n",
    "\n",
    "    data = pd.DataFrame(\n",
    "        {\"score\": scores[order], \"turns\": turns[order], \"perf\": perf[order]}\n",
    "    )  # .sort_values( \"perf\", ascending=False    )\n",
    "    print(data.head(5))\n",
    "print(\"FINISHED\")"
   ]
  },
  {
   "cell_type": "code",
   "execution_count": null,
   "id": "74a09602-697c-4acc-980c-21c85de39023",
   "metadata": {},
   "outputs": [],
   "source": [
    "snake5 = FastSnake(Nrow=12, Ncol=12)\n",
    "\n",
    "# weights = all_weights[0]  # BEST AGENT\n",
    "best_agent_func = agent_functions[0]\n",
    "turn_ids = np.array([-1.0, 0.0, 1.0])\n",
    "\n",
    "\n",
    "def updatefig(*args):\n",
    "    sensors = snake5.sensors()\n",
    "    my_choice = turn_ids[argMax(agent_func(sensors))]\n",
    "\n",
    "    snake5.turn(my_choice)\n",
    "    im2.set_array(snake5.grid)\n",
    "    if snake5.status != 0:\n",
    "        snake5.reset()\n",
    "    return (im2,)\n",
    "\n",
    "\n",
    "fig2, ax2 = plt.subplots()\n",
    "ax2.axis(\"off\")\n",
    "im2 = plt.imshow(snake5.grid, interpolation=\"nearest\", animated=True)\n",
    "anim = animation.FuncAnimation(fig2, updatefig, frames=500, interval=50, blit=True)\n",
    "plt.show()"
   ]
  }
 ],
 "metadata": {
  "kernelspec": {
   "display_name": "Python 3 (ipykernel)",
   "language": "python",
   "name": "python3"
  },
  "language_info": {
   "codemirror_mode": {
    "name": "ipython",
    "version": 3
   },
   "file_extension": ".py",
   "mimetype": "text/x-python",
   "name": "python",
   "nbconvert_exporter": "python",
   "pygments_lexer": "ipython3",
   "version": "3.9.15"
  }
 },
 "nbformat": 4,
 "nbformat_minor": 5
}
