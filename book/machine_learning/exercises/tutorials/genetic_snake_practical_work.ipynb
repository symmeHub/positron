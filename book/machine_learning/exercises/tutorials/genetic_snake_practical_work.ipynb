{
 "cells": [
  {
   "cell_type": "code",
   "execution_count": null,
   "id": "c4ddc077-1c7c-4448-ac9a-6cf9e0768f54",
   "metadata": {
    "tags": [
     "hide-input"
    ]
   },
   "outputs": [],
   "source": [
    "# UNCOMMENT FOR INTERACTIVE PLOTTING\n",
    "# %matplotlib notebook\n",
    "%matplotlib widget\n",
    "import numpy as np\n",
    "import pandas as pd\n",
    "import matplotlib.pyplot as plt\n",
    "from matplotlib import animation, rc, cm\n",
    "import time\n",
    "from snakelib import FastSnake, show_gui, NeuralAgent\n",
    "import snakelib as snklib\n",
    "import utils\n",
    "\n",
    "rc(\"animation\", html=\"html5\")"
   ]
  },
  {
   "cell_type": "markdown",
   "id": "2e008533-84a5-4304-bb4d-1b3265213e48",
   "metadata": {},
   "source": [
    "(ML:practical_work:genetic_snake)=\n",
    "# Reinforcement learning on snake with a genetic neural network\n",
    "\n",
    ":::{admonition} Required files\n",
    ":class: important\n",
    "In order to work properly, this notebook requires the following modules in its folder:\n",
    "\n",
    "* {download}`snakelib.py <snakelib.py>`\n",
    "* {download}`utils.py <utils.py>`\n",
    "\n",
    "Put it in your working directory along with this notebook. \n",
    "\n",
    ":::\n",
    "\n",
    "\n",
    "This notebook is an example of supervised learning applied to video games. You will use the legendary game Snake rewritten in Python for the occasion and will try to develop an automatic game strategy. In a first step, by hand and in a second step using a genetic algorithm to evolve a neural network. Graphical examples will allow to see the evolution of the game performances.\n",
    "\n",
    "## Part 1: Try the game\n",
    "![](https://www.pricepony.com.ph/blog/wp-content/uploads/2015/11/bestgameever-nokia-meme-628-300x300.jpg)\n",
    "\n",
    "In this first part, you are asked to try the game and check that you understand the rules. Try to imagine what you need to know to win a game."
   ]
  },
  {
   "cell_type": "code",
   "execution_count": null,
   "id": "fc3a7833-b07c-4b87-945e-4811ddbc69bf",
   "metadata": {},
   "outputs": [],
   "source": [
    "np.random.seed(0)  # Fixing the seed\n",
    "fig = plt.figure()\n",
    "ax = fig.add_subplot(1, 1, 1)\n",
    "snake = FastSnake(Nrow=10, Ncol=10)\n",
    "show_gui(snake, ax)"
   ]
  },
  {
   "cell_type": "code",
   "execution_count": null,
   "id": "8039c7d2-ab71-4a05-8241-6902e69fc7d5",
   "metadata": {},
   "outputs": [],
   "source": [
    "plt.close()"
   ]
  },
  {
   "cell_type": "markdown",
   "id": "7faa7a86-3ccb-4f50-ba43-f35a9f05847c",
   "metadata": {},
   "source": [
    "### Some explications\n",
    "---\n",
    "#### 1. Game Grid\n",
    "The game grid is composed of a number of columns noted Ncol and a number of lines noted Nrow.\n"
   ]
  },
  {
   "cell_type": "code",
   "execution_count": null,
   "id": "683e9dfd-7386-480f-83af-9322320fa960",
   "metadata": {},
   "outputs": [],
   "source": [
    "print(\n",
    "    f\"Grid dimensions: {snake.Ncol} columns, {snake.Nrow} rows, a total of {snake.Ncell} elements\"\n",
    ")"
   ]
  },
  {
   "cell_type": "markdown",
   "id": "61b0fb61-a852-4797-bfa9-a6c1cbd16926",
   "metadata": {},
   "source": [
    "Each element of the grid is identified by an unique index."
   ]
  },
  {
   "cell_type": "code",
   "execution_count": null,
   "id": "936d28a1-36fe-46fb-82dd-b7ca0ba85c98",
   "metadata": {
    "tags": [
     "hide-input"
    ]
   },
   "outputs": [],
   "source": [
    "utils.plot_grid(snake)"
   ]
  },
  {
   "cell_type": "markdown",
   "id": "64153e7d-e1da-4c51-b099-8bbd85e878d9",
   "metadata": {},
   "source": [
    "---\n",
    "#### 2. Snake directions\n",
    "    \n",
    "From the current position of its head, the snake can only take three directions at each turn, it can go to its right, forward and left.\n",
    "    \n",
    "   Here, an example of commands that allow you to move the snake :"
   ]
  },
  {
   "cell_type": "code",
   "execution_count": null,
   "id": "efdfba42-723d-4f8f-8575-802ff7a26da7",
   "metadata": {
    "tags": []
   },
   "outputs": [],
   "source": [
    "# Moving the snake\n",
    "np.random.seed(0)  # Fixing the seed\n",
    "snake.reset()  # Reset snake position\n",
    "snake.turn(-1)  # Go Right\n",
    "snake.turn(0)  # Go Front\n",
    "snake.turn(-1)  # Go Right\n",
    "snake.turn(0)  # Go Front\n",
    "snake.turn(1)  # Go Left\n",
    "\n",
    "# Access to neighbors element positions\n",
    "print(f\"Current neighbors index {snake.get_neighbors_pos()}\")"
   ]
  },
  {
   "cell_type": "markdown",
   "id": "f49af4d9-7f84-44da-9ed8-23d69e18b76a",
   "metadata": {},
   "source": [
    "```{note}\n",
    "You notice that the value -1 turn the snake to the right, 0 in front and 1 to the left relatively to the current snake direction.\n",
    "```"
   ]
  },
  {
   "cell_type": "markdown",
   "id": "95ffb4eb-afcd-4581-9881-da2e6aa6dfb9",
   "metadata": {},
   "source": [
    "Here are the results of the actions taken by these various successive orders:"
   ]
  },
  {
   "cell_type": "code",
   "execution_count": null,
   "id": "17e9078e-5b80-4033-93ff-bbe1632e66f7",
   "metadata": {
    "tags": [
     "hide-input"
    ]
   },
   "outputs": [],
   "source": [
    "utils.plot_snake(snake)"
   ]
  },
  {
   "cell_type": "markdown",
   "id": "1cb702ab-7ba7-490f-94d6-756ad14194fd",
   "metadata": {},
   "source": [
    "#### Question 1\n",
    "What commands must be given for the snake to eat the first fruit ?\n"
   ]
  },
  {
   "cell_type": "code",
   "execution_count": null,
   "id": "b078be63-3d37-41b0-8a10-77b932c42e9c",
   "metadata": {},
   "outputs": [],
   "source": [
    "# Initial snake position\n",
    "np.random.seed(0)  # Fixing the seed\n",
    "snake.reset()  # Reset snake position\n",
    "snake.turn(-1)  # Go Right\n",
    "snake.turn(0)  # Go Front\n",
    "snake.turn(-1)  # Go Right\n",
    "snake.turn(0)  # Go Front\n",
    "snake.turn(1)  # Go Left\n",
    "\n",
    "# Your answer\n",
    "\n",
    "fig = plt.figure()\n",
    "ax = fig.add_subplot(1, 1, 1)\n",
    "show_gui(snake, ax)"
   ]
  },
  {
   "cell_type": "markdown",
   "id": "7c24613a-c5d3-4d8f-9068-9d038ce855a1",
   "metadata": {
    "tags": []
   },
   "source": [
    "---\n",
    "#### 3. Snake sensors\n",
    "![Chris Roberts (video game developer)](https://media.tenor.com/ziGwYdlteFoAAAAd/chris-roberts-video-game-designer.gif)\n",
    "\n",
    "It turns out that in their infinite wisdom, the game designers gave the snake some very weird sensors to help the players.\n",
    "Here's how to display the sensor data:"
   ]
  },
  {
   "cell_type": "code",
   "execution_count": null,
   "id": "c73bf98c-fdec-447c-ad82-f8f99f47f827",
   "metadata": {},
   "outputs": [],
   "source": [
    "# Moving the snake\n",
    "np.random.seed(0)  # Fixing the seed\n",
    "snake.reset()  # Reset snake position\n",
    "\n",
    "readings = snake.sensors()\n",
    "print(\n",
    "    f\"Sensors readings: {readings}.\\nThe output array have {readings.shape[0]} elements\"\n",
    ")"
   ]
  },
  {
   "cell_type": "markdown",
   "id": "17b116e1-65e1-43bd-b6fa-ab55e00e6e61",
   "metadata": {},
   "source": [
    "The first 3 elements indicate respectively the nature of the boxes directly to the right, in front of and to the left of the snake's head (relative to its direction).\n",
    "\n",
    "The values of the elements can be:\n",
    "* 1.0 = fruit present\n",
    "* -1.0 = forbidden position (lava or snake tail)\n",
    "* 0.0 = nothing special present"
   ]
  },
  {
   "cell_type": "code",
   "execution_count": null,
   "id": "a57704c4-d77e-46f9-b1da-f852672f0fb9",
   "metadata": {
    "tags": [
     "hide-input"
    ]
   },
   "outputs": [],
   "source": [
    "utils.plot_snake(snake)"
   ]
  },
  {
   "cell_type": "markdown",
   "id": "78192562-b678-4c61-a169-e4bd2ae76593",
   "metadata": {},
   "source": [
    ":::{admonition} Example\n",
    ":class: tip\n",
    "The head of the snake is in position 11.\n",
    "To its left is lava, a value of -1 is read on the first element of the sensors output.\n",
    "To its right, there is nothing, a value of 0 is read on the third element of the sensors output.  \n",
    ":::"
   ]
  },
  {
   "cell_type": "markdown",
   "id": "aa5c12bc-6b14-498d-ac42-e8cc2063e16f",
   "metadata": {},
   "source": [
    "The last two data give the relative directions of the fruit relative to the head of the snake.\n",
    "Indeed, there is an angle $\\theta$ between the direction of the snake and the position of the fruit on the grid.\n",
    "\n",
    "**These last two values are respectively $\\cos(\\theta)$ and $\\sin(\\theta)$.**"
   ]
  },
  {
   "cell_type": "code",
   "execution_count": null,
   "id": "fea6ecff-71c8-408d-9c89-3ba611ce496c",
   "metadata": {},
   "outputs": [],
   "source": [
    "# Moving the snake\n",
    "np.random.seed(0)  # Fixing the seed\n",
    "snake.reset()  # Reset snake position\n",
    "snake.turn(-1)  # Go Right\n",
    "snake.turn(0)  # Go Front\n",
    "snake.turn(-1)  # Go Right\n",
    "snake.turn(0)  # Go Front\n",
    "snake.turn(1)  # Go Left\n",
    "\n",
    "# Snake current direction\n",
    "direction = snake.get_current_direction()\n",
    "print(f\"Current direction: {direction}\")"
   ]
  },
  {
   "cell_type": "markdown",
   "id": "929b80aa-f04b-4d37-9361-f4d695343332",
   "metadata": {},
   "source": [
    "    The current direction of the snake based on the positions of its head and neck.\n",
    "    direction (int): An integer representing the current direction of the snake, where:\n",
    "        0 = right\n",
    "        1 = up\n",
    "        2 = left\n",
    "        3 = down\n",
    "        -1 = if the direction could not be determined"
   ]
  },
  {
   "cell_type": "code",
   "execution_count": null,
   "id": "4f2698a9-9457-401f-b591-dfd48dfec7f0",
   "metadata": {
    "tags": [
     "hide-input"
    ]
   },
   "outputs": [],
   "source": [
    "utils.plot_snake_theta(snake)"
   ]
  },
  {
   "cell_type": "markdown",
   "id": "fd9d3043-b145-4ee7-8842-6a9c1ae8eaca",
   "metadata": {
    "tags": []
   },
   "source": [
    "## Automatic playing\n",
    "### Question 2\n",
    "At first, you are asked to build an agent that will play automatically. It will have to make decisions according to the snake's sensor values. These decisions are to choose the best direction to take.\n",
    "\n",
    "Here an example of a very dummy agent:"
   ]
  },
  {
   "cell_type": "code",
   "execution_count": null,
   "id": "7c32b749-2416-4f98-8855-3da96200131b",
   "metadata": {},
   "outputs": [],
   "source": [
    "def my_agent(sensors):\n",
    "    \"\"\"\n",
    "    A dummy agent that moves in a random direction.\n",
    "    \"\"\"\n",
    "    return np.random.randint(3) - 1\n",
    "\n",
    "\n",
    "snake = FastSnake(Nrow=10, Ncol=10)\n",
    "my_choice = my_agent(snake.sensors())"
   ]
  },
  {
   "cell_type": "code",
   "execution_count": null,
   "id": "690f988b-08da-461f-87a1-8dc2fa51fd05",
   "metadata": {},
   "outputs": [],
   "source": [
    "# Your answer"
   ]
  },
  {
   "cell_type": "markdown",
   "id": "77b64b70-d4b0-405e-9205-ec21c78fec24",
   "metadata": {},
   "source": [
    "## Automatic play with graphic output\n"
   ]
  },
  {
   "cell_type": "code",
   "execution_count": null,
   "id": "559e69ae-be9c-4481-9ceb-cc974be91a53",
   "metadata": {
    "tags": [
     "hide-input"
    ]
   },
   "outputs": [],
   "source": [
    "snake5 = FastSnake(Nrow=15, Ncol=15)\n",
    "\n",
    "\n",
    "def updatefig(*args):\n",
    "    sensors = snake5.sensors()\n",
    "    my_choice = my_agent(sensors)\n",
    "    snake5.turn(my_choice)\n",
    "    im2.set_array(snake5.grid)\n",
    "    if snake5.status != 0:\n",
    "        snake5.reset()\n",
    "    return (im2,)\n",
    "\n",
    "\n",
    "fig2, ax2 = plt.subplots()\n",
    "ax2.axis(\"off\")\n",
    "im2 = plt.imshow(snake5.grid, interpolation=\"nearest\", animated=True)\n",
    "anim = animation.FuncAnimation(fig2, updatefig, frames=40, interval=50, blit=True)\n",
    "# plt.show()  # UNCOMMENT TO PLAY\n",
    "plt.close()  # COMMENT TO PLAY\n",
    "anim  # COMMENT TO PLAY"
   ]
  },
  {
   "cell_type": "code",
   "execution_count": null,
   "id": "4b936dcf-3ce6-4542-b3fb-b7990401190f",
   "metadata": {
    "tags": [
     "hide-input"
    ]
   },
   "outputs": [],
   "source": [
    "anim.pause()\n",
    "plt.close(fig2)"
   ]
  },
  {
   "cell_type": "markdown",
   "id": "aa883a8a-7d5f-497b-a10e-660ba8e1e7a9",
   "metadata": {},
   "source": [
    "## Benchmark"
   ]
  },
  {
   "cell_type": "code",
   "execution_count": null,
   "id": "25834cf6-8776-479a-bfb4-e406e24ae0a1",
   "metadata": {
    "tags": [
     "hide-input"
    ]
   },
   "outputs": [],
   "source": [
    "Nagent_ids = 200\n",
    "max_turns = 1000\n",
    "snake3 = FastSnake(Nrow=10, Ncol=10)\n",
    "scores = np.zeros(Nagent_ids)\n",
    "turns = np.zeros(Nagent_ids)\n",
    "# for agent_id in tqdm.trange(Nagent_ids):\n",
    "for agent_id in range(Nagent_ids):\n",
    "    snake3.reset()\n",
    "    turn = 0\n",
    "    while snake3.status == 0:\n",
    "        sensors = snake3.sensors()\n",
    "        my_choice = my_agent(sensors)\n",
    "        snake3.turn(my_choice)\n",
    "        turn += 1\n",
    "        if turn >= max_turns:\n",
    "            break\n",
    "    scores[agent_id] = snake3.score\n",
    "    turns[agent_id] = turn"
   ]
  },
  {
   "cell_type": "code",
   "execution_count": null,
   "id": "db09fbfe-bb14-4376-8633-bb00eee5585e",
   "metadata": {
    "tags": [
     "hide-input"
    ]
   },
   "outputs": [],
   "source": [
    "data = pd.DataFrame({\"score\": scores, \"turns\": turns})\n",
    "data.describe().loc[[\"mean\", \"std\", \"max\", \"min\", \"count\"]].T"
   ]
  },
  {
   "cell_type": "markdown",
   "id": "37ce6eaa-8250-4894-a62b-9010f6911cae",
   "metadata": {},
   "source": [
    "## Genetic Neural Network agent "
   ]
  },
  {
   "cell_type": "code",
   "execution_count": null,
   "id": "fa92c5c1-d24d-4fa3-af46-f7ce50bed78e",
   "metadata": {
    "tags": []
   },
   "outputs": [],
   "source": [
    "# NEURAL FUNCTIONS\n",
    "def sigmoid(x):\n",
    "    return 1.0 / (1.0 + np.exp(-x))\n",
    "\n",
    "\n",
    "def ReLu(x):\n",
    "    return np.where(x > 0.0, x, 0.0)\n",
    "\n",
    "\n",
    "def identity(x):\n",
    "    return x\n",
    "\n",
    "\n",
    "# ARG MAX\n",
    "def argMax(x):\n",
    "    return int(np.where(x == x.max())[0][0])"
   ]
  },
  {
   "cell_type": "code",
   "execution_count": null,
   "id": "5eeeab74-a1e5-4775-9cfc-17c011a8cc1e",
   "metadata": {
    "tags": []
   },
   "outputs": [],
   "source": [
    "# GENETIC ALGORITHM SETUP\n",
    "\n",
    "Npop = 100  # NUMBER OF INDIVIDUALS IN THE POPULATION\n",
    "Ngen = 5  # NUMBER OF GENERATIONS OF EVOLUTION\n",
    "Ntries = 2  # NUMBER OF TRIES PER INDIVIDUAL PER GENERATION\n",
    "Net_struct = 5, 3  # NETWORK STRUCTURE\n",
    "keep_ratio = 0.1  # # GENETIC ALGORITHM KEEP RATIO\n",
    "mutation_ratio = 0.1  # MUTATION RATIO\n",
    "mutation_sigma = 0.1  # MUTATION GAUSSIAN SIGMA\n",
    "max_turns = 1000  # MAX PLAY TURNS PER TRIAL\n",
    "neural_functions = [identity]  # NEURAL FUNCTION VECTOR\n",
    "\n",
    "\n",
    "# PRE-PROCESSING\n",
    "keep_individuals = int(keep_ratio * Npop)\n",
    "Nw = 0\n",
    "for i in range(len(Net_struct) - 1):\n",
    "    nin = Net_struct[i]\n",
    "    nout = Net_struct[i + 1]\n",
    "    Nw += (nin + 1) * nout\n",
    "all_weights = np.random.normal(loc=0.0, scale=1.0, size=(Npop, Nw))\n",
    "agents = []\n",
    "for agent_id in range(Npop):\n",
    "    weights = all_weights[agent_id]\n",
    "    agent = NeuralAgent(\n",
    "        weights=weights, structure=Net_struct, neural_functions=neural_functions\n",
    "    )\n",
    "    agents.append(agent)\n",
    "agent_functions = [agent.get_caller() for agent in agents]\n",
    "func = agent_functions[0]\n",
    "total_generations = 1"
   ]
  },
  {
   "cell_type": "code",
   "execution_count": null,
   "id": "f694920f-fcb3-4101-8215-0123a2d510c1",
   "metadata": {
    "tags": []
   },
   "outputs": [],
   "source": [
    "# DATA STORAGE\n",
    "snake4 = FastSnake(Nrow=12, Ncol=12)\n",
    "scores = np.zeros(Npop)\n",
    "turns = np.zeros(Npop)\n",
    "tries_scores = np.zeros(Ntries)\n",
    "tries_turns = np.zeros(Ntries)\n",
    "new_all_weights = np.zeros_like(all_weights)\n",
    "turn_ids = np.array([-1.0, 0.0, 1.0])\n",
    "for generation in range(Ngen):\n",
    "    print(f\"Generation: {total_generations}\")\n",
    "    scores[:] = 0.0\n",
    "    turns[:] = 0.0\n",
    "    for agent_id in range(Npop):\n",
    "        tries_scores[:] = 0.0\n",
    "        tries_turns[:] = 0.0\n",
    "        agent_func = agent_functions[agent_id]\n",
    "        for trial in range(Ntries):\n",
    "            snake4.reset()\n",
    "            Ncol = snake4.Ncol\n",
    "            Nrow = snake4.Nrow\n",
    "            snake4.fruit_position = (Nrow - 2) * Ncol + Ncol - 2\n",
    "            turn = 0\n",
    "            while snake4.status == 0:\n",
    "                sensors = snake4.sensors()\n",
    "                my_choice = turn_ids[argMax(agent_func(sensors))]\n",
    "                snake4.turn(my_choice)\n",
    "                turn += 1\n",
    "                if turn >= max_turns:\n",
    "                    break\n",
    "            tries_scores[trial] = snake4.score\n",
    "            tries_turns[trial] = turn\n",
    "        scores[agent_id] = tries_scores.mean()\n",
    "        turns[agent_id] = tries_turns.mean()\n",
    "    perf = scores\n",
    "    order = np.argsort(perf)[::-1]\n",
    "    new_all_weights[:] = 0.0\n",
    "    # SELECTION\n",
    "    new_all_weights[:keep_individuals] = all_weights[order][:keep_individuals]\n",
    "    # HYBRIDATION\n",
    "    keep_range = np.arange(keep_individuals)\n",
    "    for indiv in range(keep_individuals, Npop):\n",
    "        parents = np.random.choice(keep_range, 2)\n",
    "        while parents[1] == parents[0]:\n",
    "            parents = np.random.choice(keep_range, 2)\n",
    "        pw = np.random.rand()\n",
    "        cross_over = np.random.randint(1, Nw - 1)\n",
    "        new_all_weights[indiv] = (\n",
    "            new_all_weights[parents[0]] * pw + (1.0 - pw) + new_all_weights[parents[1]]\n",
    "        )\n",
    "        # MUTATION:\n",
    "        if np.random.rand() <= mutation_ratio:\n",
    "            mutation_loc = np.random.randint(Nw)\n",
    "            new_all_weights[indiv] *= np.random.normal(\n",
    "                loc=1.0, scale=mutation_sigma, size=Nw\n",
    "            )\n",
    "\n",
    "    total_generations += 1\n",
    "    all_weights[:] = new_all_weights\n",
    "    print(f\"=> best score = {scores.max()}\")\n",
    "\n",
    "    data = pd.DataFrame(\n",
    "        {\"score\": scores[order], \"turns\": turns[order], \"perf\": perf[order]}\n",
    "    )  # .sort_values( \"perf\", ascending=False    )\n",
    "    print(data.head(5))\n",
    "print(\"FINISHED\")"
   ]
  },
  {
   "cell_type": "code",
   "execution_count": null,
   "id": "74a09602-697c-4acc-980c-21c85de39023",
   "metadata": {},
   "outputs": [],
   "source": [
    "snake5 = FastSnake(Nrow=12, Ncol=12)\n",
    "\n",
    "# weights = all_weights[0]  # BEST AGENT\n",
    "best_agent_func = agent_functions[0]\n",
    "turn_ids = np.array([-1.0, 0.0, 1.0])\n",
    "\n",
    "\n",
    "def updatefig(*args):\n",
    "    sensors = snake5.sensors()\n",
    "    my_choice = turn_ids[argMax(agent_func(sensors))]\n",
    "\n",
    "    snake5.turn(my_choice)\n",
    "    im2.set_array(snake5.grid)\n",
    "    if snake5.status != 0:\n",
    "        snake5.reset()\n",
    "    return (im2,)\n",
    "\n",
    "\n",
    "fig2, ax2 = plt.subplots()\n",
    "ax2.axis(\"off\")\n",
    "im2 = plt.imshow(snake5.grid, interpolation=\"nearest\", animated=True)\n",
    "anim = animation.FuncAnimation(fig2, updatefig, frames=500, interval=50, blit=True)\n",
    "# plt.show()\n",
    "plt.close()\n",
    "anim"
   ]
  },
  {
   "cell_type": "markdown",
   "id": "bf44164c-5ac9-4a52-aa34-2e513c728d06",
   "metadata": {
    "tags": []
   },
   "source": [
    "### Question 4\n",
    "Play with the neural agent and find a performance formulation to get the highest score in less than 1000 turns.\n"
   ]
  },
  {
   "cell_type": "code",
   "execution_count": null,
   "id": "19fe2431-a002-4b3e-8498-3c2cfe2df66b",
   "metadata": {},
   "outputs": [],
   "source": []
  }
 ],
 "metadata": {
  "kernelspec": {
   "display_name": "Python 3 (ipykernel)",
   "language": "python",
   "name": "python3"
  },
  "language_info": {
   "codemirror_mode": {
    "name": "ipython",
    "version": 3
   },
   "file_extension": ".py",
   "mimetype": "text/x-python",
   "name": "python",
   "nbconvert_exporter": "python",
   "pygments_lexer": "ipython3",
   "version": "3.11.8"
  }
 },
 "nbformat": 4,
 "nbformat_minor": 5
}
