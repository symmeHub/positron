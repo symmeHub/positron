{
 "cells": [
  {
   "cell_type": "markdown",
   "metadata": {},
   "source": [
    "# Basics\n",
    "\n",
    "In this notebook, we introduce basic ways to read, show, explore and save images."
   ]
  },
  {
   "cell_type": "code",
   "execution_count": null,
   "metadata": {
    "tags": [
     "\"hide-input\""
    ]
   },
   "outputs": [],
   "source": [
    "%matplotlib notebook\n",
    "from PIL import Image\n",
    "import numpy as np\n",
    "import matplotlib.pyplot as plt\n",
    "from matplotlib import cm\n",
    "from scipy import ndimage\n",
    "from IPython.display import YouTubeVideo\n",
    "import os"
   ]
  },
  {
   "cell_type": "markdown",
   "metadata": {},
   "source": [
    "## Preamble\n",
    "\n",
    "Before going into the technical details, we strongly recommend these two videos from the excellent YouTube channel Dirty Biology:"
   ]
  },
  {
   "cell_type": "markdown",
   "metadata": {},
   "source": [
    "<center><iframe width=\"560\" height=\"315\" src=\"https://www.youtube.com/embed/wCMGxXgypS4\" title=\"YouTube video player\" frameborder=\"0\" allow=\"accelerometer; autoplay; clipboard-write; encrypted-media; gyroscope; picture-in-picture\" allowfullscreen></iframe></center>"
   ]
  },
  {
   "cell_type": "markdown",
   "metadata": {},
   "source": [
    "<center><iframe width=\"560\" height=\"315\" src=\"https://www.youtube.com/embed/Wdy4YBULvdo\" title=\"YouTube video player\" frameborder=\"0\" allow=\"accelerometer; autoplay; clipboard-write; encrypted-media; gyroscope; picture-in-picture\" allowfullscreen></iframe></center>"
   ]
  },
  {
   "cell_type": "markdown",
   "metadata": {},
   "source": [
    "## Loading an image\n",
    "\n",
    "To read an image with Python, the easiest way is to use the Python Image Library (PIL) which provides the basic tools."
   ]
  },
  {
   "cell_type": "markdown",
   "metadata": {},
   "source": [
    "<cimg><img src=\"rabbit.jpg\" width=\"300px\"/></cimg>\n",
    "\n",
    ":::{admonition} Required files\n",
    ":class: important\n",
    "Before using this notebook, download the image {download}`rabbit.jpg <rabbit.jpg>`\n",
    ":::\n",
    "\n",
    "The following code will work if the image is located in the same directory as the notebook itself. First, let's check if the file `rabbit.jpg` is in the current directory. "
   ]
  },
  {
   "cell_type": "code",
   "execution_count": null,
   "metadata": {},
   "outputs": [],
   "source": [
    "files = os.listdir(\"./\")\n",
    "if \"rabbit.jpg\" in files:\n",
    "    print(\"Ok, the file is in {0}\".format(files))\n",
    "else:\n",
    "    print(\"The file is not in {0} , retry !\".format(files))"
   ]
  },
  {
   "cell_type": "markdown",
   "metadata": {},
   "source": [
    "Now let's read it using **Python Image Library (aka PIL)**:"
   ]
  },
  {
   "cell_type": "code",
   "execution_count": null,
   "metadata": {},
   "outputs": [],
   "source": [
    "im = Image.open(\"rabbit.jpg\")\n",
    "im"
   ]
  },
  {
   "cell_type": "markdown",
   "metadata": {},
   "source": [
    "## Numerical images\n",
    "\n",
    "There are mainly two kinds of numerical images: \n",
    "\n",
    "* [**Vector images**](https://en.wikipedia.org/wiki/Vector_graphics) composed of basic geometric figures such as lines and polygons. They are very efficient to store schemes or curves. They are generally stored as `.svg`, `.pdf` or `.eps` files. In this tutorial, we will not work on such images.\n",
    "* [**Raster images**](https://en.wikipedia.org/wiki/Raster_graphics), also called **bitmaps** in which data is structures as matrix of **pixels**. Each pixel can contain from 1 to 4 values called **channels**. Images can then be sub classed by their number of channels: \n",
    "    * A single channel image is called grayscale, \n",
    "    * Most color images use 3 channels, one for red (R), one for green (G) and one for blue (B). They are called RGB images. \n",
    "    * Some image formats use a fourth channel called **alpha** corresponding to the transparency level of a given pixel.\n",
    "    \n",
    "In the following, we focus on raster images. In the current image, the channel structure can be obtained as follows:"
   ]
  },
  {
   "cell_type": "markdown",
   "metadata": {},
   "source": [
    "## From image to `numpy`\n",
    "\n",
    "In practice, we will manipulate the images in the form of **arrays**. With Python, the **numpy** library is the essential tool for this task. It is therefore necessary to know how to switch easily from an image to arrays and vice versa.\n",
    "\n",
    "Now, the channel data can be extracted as follows:"
   ]
  },
  {
   "cell_type": "code",
   "execution_count": null,
   "metadata": {},
   "outputs": [],
   "source": [
    "R, G, B = im.split()  # Three channels: Red, Green and Blue\n",
    "R = np.array(R)\n",
    "G = np.array(G)\n",
    "B = np.array(B)"
   ]
  },
  {
   "cell_type": "code",
   "execution_count": null,
   "metadata": {},
   "outputs": [],
   "source": [
    "fig, axes = plt.subplots(nrows=1, ncols=3)\n",
    "axes[0].set_title(\"R\")\n",
    "axes[0].imshow(R, \"gray\")\n",
    "axes[0].axis(\"off\")\n",
    "axes[1].set_title(\"G\")\n",
    "axes[1].imshow(G, \"gray\")\n",
    "axes[1].axis(\"off\")\n",
    "axes[2].set_title(\"B\")\n",
    "axes[2].imshow(B, \"gray\")\n",
    "axes[2].axis(\"off\")\n",
    "plt.show()"
   ]
  },
  {
   "cell_type": "markdown",
   "metadata": {},
   "source": [
    "At this stage, an image is no more than a matrix generally made up of unsigned 8-bit integers (`np.uint8`). A color image is therefore made up of 3 grayscale images corresponding to the 3 channels:"
   ]
  },
  {
   "cell_type": "code",
   "execution_count": null,
   "metadata": {},
   "outputs": [],
   "source": [
    "R"
   ]
  },
  {
   "cell_type": "markdown",
   "metadata": {},
   "source": [
    "## From `numpy` to image\n",
    "\n",
    "Let's see now how to switch back from an array to a real image.\n"
   ]
  },
  {
   "cell_type": "code",
   "execution_count": null,
   "metadata": {},
   "outputs": [],
   "source": [
    "r2 = np.arange(256).astype(np.uint8)\n",
    "g2 = np.arange(256).astype(np.uint8)\n",
    "R2, G2 = np.meshgrid(r2, g2)\n",
    "B2 = np.zeros_like(R2).astype(np.uint8)"
   ]
  },
  {
   "cell_type": "code",
   "execution_count": null,
   "metadata": {},
   "outputs": [],
   "source": [
    "im2 = Image.fromarray(np.dstack([R2, G2, B2]))\n",
    "im2"
   ]
  },
  {
   "cell_type": "markdown",
   "metadata": {},
   "source": [
    "Let's apply that to the rabbit image. For example, we can switch channels:"
   ]
  },
  {
   "cell_type": "code",
   "execution_count": null,
   "metadata": {},
   "outputs": [],
   "source": [
    "im3 = Image.fromarray(np.dstack([G, R, B]))\n",
    "im3"
   ]
  },
  {
   "cell_type": "markdown",
   "metadata": {},
   "source": [
    "## How a filter is applied to an image ? \n",
    "\n",
    "This video from the excellent YouTube channel 3Blue1Brown explains how a filter is applied to an image through a convolution operation.\n",
    "An example with the application of a Gaussian filter is presented."
   ]
  },
  {
   "cell_type": "markdown",
   "metadata": {},
   "source": [
    "<center><iframe width=\"560\" height=\"315\" src=\"https://www.youtube.com/embed/KuXjwB4LzSA?controls=0&amp;start=515\" title=\"YouTube video player\" frameborder=\"0\" allow=\"accelerometer; autoplay; clipboard-write; encrypted-media; gyroscope; picture-in-picture; web-share\" allowfullscreen></iframe></center>"
   ]
  }
 ],
 "metadata": {
  "kernelspec": {
   "display_name": "Python 3 (ipykernel)",
   "language": "python",
   "name": "python3"
  },
  "language_info": {
   "codemirror_mode": {
    "name": "ipython",
    "version": 3
   },
   "file_extension": ".py",
   "mimetype": "text/x-python",
   "name": "python",
   "nbconvert_exporter": "python",
   "pygments_lexer": "ipython3",
   "version": "3.11.8"
  },
  "vscode": {
   "interpreter": {
    "hash": "e236f0c29ea6efb4d79ddc00bd91f1d1642b65f355728415d6cc1154b712ce99"
   }
  }
 },
 "nbformat": 4,
 "nbformat_minor": 4
}
