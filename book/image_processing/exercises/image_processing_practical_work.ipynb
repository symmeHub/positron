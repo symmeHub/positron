{
 "cells": [
  {
   "cell_type": "markdown",
   "metadata": {},
   "source": [
    "# Practical Work: Steel microstructure\n",
    "\n",
    "In this tutorial, you will study the microstructure of an [HSLA steel](http://automotive.arcelormittal.com/europe/products/HYTSS/HSLA/EN). \n",
    "\n",
    "<cimg><img src=\"HSLA_340.jpg\" width=\"400px\"/></cimg>\n",
    "\n",
    "\n",
    "\n",
    ":::{admonition} Required files\n",
    ":class: important\n",
    "Download the image file {download}`HSLA_340.jpg <HSLA_340.jpg>` and put it in the same folder as this notebook.\n",
    ":::\n",
    "\n",
    "## Introduction\n",
    "\n",
    "This image is a micrograph of a high-strength low-alloy (HSLA) steel. \n",
    "The image was taken using a scanning electron microscope (SEM) and shows the microstructure of the steel.\n",
    "The microstructure shows grains and separated by [grain boundaries](https://en.wikipedia.org/wiki/Grain_boundary). \n",
    "The grains are regions of the material where the atoms are arranged in a regular pattern.\n",
    "The grain boundaries are the interfaces between the grains.\n",
    "The size of the grains and the distribution of the grain boundaries are important for the mechanical properties of the material.\n",
    "For example, the [Hall-Petch](https://en.wikipedia.org/wiki/Grain_boundary_strengthening) equation relates the yield strength of a material to the average grain size.\n",
    "\n",
    "\n",
    "## Ressources\n",
    "\n",
    "- [Orientation and aspect-ratio with Positron](https://symmehub.github.io/positron/image_processing/support_material/blob_orientation.html)\n",
    "- [Region properties with Scikit-Image](https://scikit-image.org/docs/0.24.x/auto_examples/segmentation/plot_regionprops.html)\n",
    "\n",
    "## Objectives\n",
    "\n",
    "In this tutorial, we will measure the grain size as well as the grain shape factor and the grain orientation.\n",
    "\n",
    "## Tasks"
   ]
  },
  {
   "cell_type": "code",
   "execution_count": null,
   "metadata": {},
   "outputs": [],
   "source": [
    "# IF USING JUPYTER LAB, USE THE FOLLOWING COMMAND:\n",
    "%matplotlib widget\n",
    "# IF USING JUPYTER NOTEBOOK, USE THE FOLLOWING COMMAND:\n",
    "# %matplotlib notebook\n",
    "\n",
    "from PIL import Image\n",
    "import numpy as np\n",
    "import matplotlib.pyplot as plt\n",
    "from matplotlib import cm\n",
    "from scipy import ndimage\n",
    "import pandas as pd\n",
    "import os"
   ]
  },
  {
   "cell_type": "code",
   "execution_count": null,
   "metadata": {},
   "outputs": [],
   "source": [
    "name = \"HSLA_340.jpg\"\n",
    "workdir = \"./\"\n",
    "files = os.listdir(workdir)\n",
    "if name in files:\n",
    "    print(\"Ok, the file is in {0}\".format(files))\n",
    "else:\n",
    "    print(\"The file is not in {0} , retry !\".format(files))"
   ]
  },
  {
   "cell_type": "code",
   "execution_count": null,
   "metadata": {},
   "outputs": [],
   "source": [
    "im = np.array(Image.open(workdir + name))\n",
    "fig, ax = plt.subplots()\n",
    "ax.axis(\"off\")\n",
    "plt.imshow(im, cmap=cm.copper)\n",
    "plt.colorbar()\n",
    "plt.show()"
   ]
  },
  {
   "cell_type": "markdown",
   "metadata": {},
   "source": [
    "### Histogram \n",
    "\n",
    "Plot the histogram of the image and find the right level for the thresholding.\n"
   ]
  },
  {
   "cell_type": "code",
   "execution_count": null,
   "metadata": {},
   "outputs": [],
   "source": [
    "# CODDE HERE"
   ]
  },
  {
   "cell_type": "markdown",
   "metadata": {},
   "source": [
    "### Thresholding\n",
    "\n",
    "Use thresholding to convert the image to binary format."
   ]
  },
  {
   "cell_type": "code",
   "execution_count": null,
   "metadata": {},
   "outputs": [],
   "source": [
    "# CODDE HERE"
   ]
  },
  {
   "cell_type": "markdown",
   "metadata": {},
   "source": [
    "###  Labeling\n",
    "\n",
    "Use the `ndimage.measurements.label` to label each grain and plot the result."
   ]
  },
  {
   "cell_type": "code",
   "execution_count": null,
   "metadata": {},
   "outputs": [],
   "source": [
    "# CODDE HERE"
   ]
  },
  {
   "cell_type": "markdown",
   "metadata": {},
   "source": [
    "### Grain size measurement\n",
    "\n",
    "Use the labeled image to measure the size (in pixels) of each grain. Create a new image on which the color of each pixel indicates the size of the grain it belongs to."
   ]
  },
  {
   "cell_type": "code",
   "execution_count": null,
   "metadata": {},
   "outputs": [],
   "source": [
    "# CODDE HERE"
   ]
  },
  {
   "cell_type": "markdown",
   "metadata": {},
   "source": [
    "### Grain shape factor and orientation\n",
    "\n",
    "The cold rolling treatment modifies the shape factor as well as their orientation. Find a way to measure and represent the shape factor of each grain and to mesure their orientation. "
   ]
  },
  {
   "cell_type": "code",
   "execution_count": null,
   "metadata": {},
   "outputs": [],
   "source": [
    "# CODDE HERE"
   ]
  },
  {
   "cell_type": "code",
   "execution_count": null,
   "metadata": {},
   "outputs": [],
   "source": []
  }
 ],
 "metadata": {
  "kernelspec": {
   "display_name": "science",
   "language": "python",
   "name": "python3"
  },
  "language_info": {
   "codemirror_mode": {
    "name": "ipython",
    "version": 3
   },
   "file_extension": ".py",
   "mimetype": "text/x-python",
   "name": "python",
   "nbconvert_exporter": "python",
   "pygments_lexer": "ipython3",
   "version": "3.10.16"
  }
 },
 "nbformat": 4,
 "nbformat_minor": 2
}
