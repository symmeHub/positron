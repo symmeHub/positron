{
 "cells": [
  {
   "cell_type": "markdown",
   "metadata": {},
   "source": [
    "# Practical Work Bonus: Play with dices\n",
    "\n",
    "Python provides several great libraries that allow a wide range of operation on images. For further information, please read the tutorials of:\n",
    "* [OpenCV](https://docs.opencv.org/3.0-beta/doc/py_tutorials/py_tutorials.html)\n",
    "* [Scikit Image](http://scikit-image.org/docs/stable/auto_examples/index.html)\n",
    "\n",
    "In this notebook, we just introduce a few classical image processing operations while playing with dices. The goal of the example is to count the total score one the dices, the answer being $113$.\n"
   ]
  },
  {
   "cell_type": "code",
   "execution_count": null,
   "metadata": {},
   "outputs": [],
   "source": [
    "from PIL import Image\n",
    "import numpy as np\n",
    "import matplotlib.pyplot as plt\n",
    "from matplotlib import cm\n",
    "from scipy import ndimage\n",
    "import pandas as pd\n",
    "import os\n",
    "\n",
    "# %matplotlib nbagg"
   ]
  },
  {
   "cell_type": "markdown",
   "metadata": {},
   "source": [
    "You can download the image used in this example here (just right-click and download): \n",
    "\n",
    "<cimg><img src=\"./dices.jpg\" width=\"300px\"/></cimg>\n",
    "\n",
    "The following code will work if the image is located in the same directory as the notebook itself.\n",
    " \n",
    "First, let's check if the file *\"dices.jpg\"* is in the current directory. "
   ]
  },
  {
   "cell_type": "code",
   "execution_count": null,
   "metadata": {},
   "outputs": [],
   "source": [
    "path = \"dices.jpg\"\n",
    "files = os.listdir(\"./\")\n",
    "if path in files:\n",
    "    print(\"Ok, the file is in {0}\".format(files))\n",
    "else:\n",
    "    print(\"The file is not in {0} , retry !\".format(files))"
   ]
  },
  {
   "cell_type": "markdown",
   "metadata": {},
   "source": [
    "Now let's read it using **Python Image Library (aka PIL)**:"
   ]
  },
  {
   "cell_type": "code",
   "execution_count": null,
   "metadata": {},
   "outputs": [],
   "source": [
    "im = Image.open(path)\n",
    "Nc, Nl = im.size\n",
    "im = im.resize((Nc // 2, Nl // 2), Image.ANTIALIAS)\n",
    "fig, ax = plt.subplots()\n",
    "ax.axis(\"off\")\n",
    "plt.imshow(im)\n",
    "plt.show()"
   ]
  },
  {
   "cell_type": "markdown",
   "metadata": {},
   "source": [
    "## Conversion to grayscale"
   ]
  },
  {
   "cell_type": "code",
   "execution_count": null,
   "metadata": {},
   "outputs": [],
   "source": [
    "R, G, B = im.split()\n",
    "R = np.array(R)\n",
    "G = np.array(G)\n",
    "B = np.array(B)\n",
    "R"
   ]
  },
  {
   "cell_type": "code",
   "execution_count": null,
   "metadata": {},
   "outputs": [],
   "source": [
    "title_list = [\n",
    "    \"Red channel\",\n",
    "    \"Green channel\",\n",
    "    \"Blue channel\",\n",
    "]\n",
    "fig, axs = plt.subplots(nrows=1, ncols=3)\n",
    "fig.tight_layout(pad=3.0)\n",
    "for i in range(3):\n",
    "    axs[i].imshow(np.array(im)[:, :, i], cmap=\"gray\")\n",
    "    axs[i].title.set_text(title_list[i])"
   ]
  },
  {
   "cell_type": "markdown",
   "metadata": {},
   "source": [
    "The green channel has a great contrats so we chose to work only on this channel now.\n",
    "\n",
    "## Histogram\n",
    "\n",
    "The histogram shows the repartition of the pixels on the color scale."
   ]
  },
  {
   "cell_type": "code",
   "execution_count": null,
   "metadata": {},
   "outputs": [],
   "source": [
    "plt.figure()\n",
    "plt.hist(G.flatten(), bins=np.arange(255))\n",
    "plt.title(\"Green channel histogram\")\n",
    "plt.xlabel(\"Pixel value\")\n",
    "plt.ylabel(\"Count\")\n",
    "plt.show()"
   ]
  },
  {
   "cell_type": "markdown",
   "metadata": {},
   "source": [
    "## Thresholding\n",
    "\n",
    "Using the histogram, one can see that there are 3 peaks. The left peak is the darkest one and corresponds to the colors of the dices bodies. We can cut around $120$ to isolate the dices bodies from the dots on the dices.\n",
    "\n",
    "Further reading: [Thresholding (Scikit)](http://scikit-image.org/docs/stable/auto_examples/xx_applications/plot_thresholding.html#sphx-glr-auto-examples-xx-applications-plot-thresholding-py)"
   ]
  },
  {
   "cell_type": "code",
   "execution_count": null,
   "metadata": {},
   "outputs": [],
   "source": [
    "# CODE HERE"
   ]
  },
  {
   "cell_type": "markdown",
   "metadata": {},
   "source": [
    "## Erosion / Dilation\n"
   ]
  },
  {
   "cell_type": "code",
   "execution_count": null,
   "metadata": {},
   "outputs": [],
   "source": [
    "# CODE HERE"
   ]
  },
  {
   "cell_type": "markdown",
   "metadata": {},
   "source": [
    "## Labeling\n"
   ]
  },
  {
   "cell_type": "code",
   "execution_count": null,
   "metadata": {},
   "outputs": [],
   "source": [
    "# CODE HERE"
   ]
  }
 ],
 "metadata": {
  "kernelspec": {
   "display_name": "Python 3",
   "language": "python",
   "name": "python3"
  },
  "language_info": {
   "codemirror_mode": {
    "name": "ipython",
    "version": 3
   },
   "file_extension": ".py",
   "mimetype": "text/x-python",
   "name": "python",
   "nbconvert_exporter": "python",
   "pygments_lexer": "ipython3",
   "version": "3.10.2"
  }
 },
 "nbformat": 4,
 "nbformat_minor": 2
}
