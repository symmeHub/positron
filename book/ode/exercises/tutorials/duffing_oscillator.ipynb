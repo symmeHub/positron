{
 "cells": [
  {
   "cell_type": "markdown",
   "metadata": {},
   "source": [
    "# Duffing oscillator\n",
    "\n",
    "The [duffing oscillator](https://en.wikipedia.org/wiki/Duffing_equation) is a non-linear oscillator that can be described by the following equation:\n",
    "\n",
    "$$\n",
    "\\ddot x + \\delta \\dot x + \\alpha x  +  \\beta x^3 = \\ddot x_d(t)\n",
    "$$\n",
    "\n",
    "The non-linearity comes from the $\\beta x^3$ term.\n",
    "\n",
    "## Part 1: Energies\n",
    "\n",
    "Determine the equation of the potential energy in the oscillator. Plot it and interprete it for various values of $\\alpha$ and $\\beta$ and comment it."
   ]
  },
  {
   "cell_type": "code",
   "execution_count": null,
   "metadata": {
    "tags": []
   },
   "outputs": [],
   "source": [
    "%matplotlib widget\n",
    "import numpy as np\n",
    "import matplotlib.pyplot as plt\n",
    "from scipy.integrate import odeint\n",
    "import pandas as pd"
   ]
  },
  {
   "cell_type": "code",
   "execution_count": null,
   "metadata": {},
   "outputs": [],
   "source": [
    "# CODE HERE"
   ]
  },
  {
   "cell_type": "markdown",
   "metadata": {},
   "source": [
    "## Part 2: Coding\n",
    "\n",
    "Code the oscillator and test it in configurations that you see as interresting considering what you found above. Do you see major differences with the linear oscillator ?\n"
   ]
  },
  {
   "cell_type": "code",
   "execution_count": null,
   "metadata": {
    "tags": []
   },
   "outputs": [],
   "source": [
    "class DuffingOscillator:\n",
    "    \"\"\"\n",
    "    Harmonic oscillator.\n",
    "    \"\"\"\n",
    "\n",
    "    pass"
   ]
  },
  {
   "cell_type": "code",
   "execution_count": null,
   "metadata": {
    "tags": []
   },
   "outputs": [],
   "source": [
    "# CODE HERE"
   ]
  },
  {
   "cell_type": "markdown",
   "metadata": {},
   "source": [
    "## Part 3: Steady state energy levels\n",
    "\n",
    "Find a way to measure the energy stored in the oscillator when steady state is reached. Calculate it as function of drive amplitude and frequency."
   ]
  },
  {
   "cell_type": "code",
   "execution_count": null,
   "metadata": {
    "tags": []
   },
   "outputs": [],
   "source": [
    "# CODE HERE"
   ]
  }
 ],
 "metadata": {
  "kernelspec": {
   "display_name": "Python 3 (ipykernel)",
   "language": "python",
   "name": "python3"
  },
  "language_info": {
   "codemirror_mode": {
    "name": "ipython",
    "version": 3
   },
   "file_extension": ".py",
   "mimetype": "text/x-python",
   "name": "python",
   "nbconvert_exporter": "python",
   "pygments_lexer": "ipython3",
   "version": "3.10.1"
  }
 },
 "nbformat": 4,
 "nbformat_minor": 4
}
