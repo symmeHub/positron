{
 "cells": [
  {
   "cell_type": "markdown",
   "metadata": {},
   "source": [
    "# Scientific Python\n",
    "\n",
    "Python is versatile environment but it does not provide the right tools for scientific usage without some key packages:\n",
    "\n",
    "* NumPy (http://www.numpy.org/): improves dramatically python's numerical analysis capabilities.\n",
    "* SciPy (https://www.scipy.org/): provides all classical scientific algorithm.\n",
    "* MatPlotLib (https://matplotlib.org/gallery/index.html: high quality scientific plotting.\n",
    "* Pandas (https://pandas.pydata.org/): fast and efficient data processing\n",
    "\n",
    "## A short introduction: plotting a function\n"
   ]
  },
  {
   "cell_type": "code",
   "execution_count": null,
   "metadata": {},
   "outputs": [],
   "source": [
    "# UNCOMMENT FOR INTERACTIVE PLOTS\n",
    "#%matplotlib notebook\n",
    "import numpy as np\n",
    "import pandas as pd\n",
    "import matplotlib.pyplot as plt"
   ]
  },
  {
   "cell_type": "code",
   "execution_count": null,
   "metadata": {},
   "outputs": [],
   "source": [
    "def func(t, damp=1.0, freq=1.0, phase=0.0):\n",
    "    \"\"\"\n",
    "    The solution of a second order linear ordinary differential equation:\n",
    "\n",
    "    func(t) = exp(-t * damp) * cos(2 * pi * f * t + phase)\n",
    "\n",
    "    Inputs:\n",
    "    * damp: dampening coefficient.\n",
    "    * freq: frequency\n",
    "    * phase: the phase of the signal\n",
    "\n",
    "    Ouput: data as a DataFrame for easier post processing.\n",
    "    \"\"\"\n",
    "    return pd.DataFrame(\n",
    "        {\"a\": np.exp(-t * damp) * np.cos(2.0 * np.pi * freq * t + phase), \"t\": t}\n",
    "    )\n",
    "\n",
    "\n",
    "t = np.linspace(0.0, 5.0, 1001)\n",
    "data = func(t, damp=0.1, freq=1.0)\n",
    "data.head()"
   ]
  },
  {
   "cell_type": "code",
   "execution_count": null,
   "metadata": {},
   "outputs": [],
   "source": [
    "plt.figure()\n",
    "for f in [1.0, 0.5, 0.25]:\n",
    "    data = func(t, damp=0.2, freq=f)\n",
    "    plt.plot(data.t, data.a, label=\"$f={0}$\".format(f))\n",
    "data = func(t, damp=0.2, freq=0)\n",
    "plt.plot(data.t, data.a, \"k--\", label=\"Enveloppe\")\n",
    "plt.plot(data.t, -data.a, \"k--\")\n",
    "plt.grid()\n",
    "plt.legend(loc=\"best\")\n",
    "plt.xlabel(\"Time, $t$\")\n",
    "plt.ylabel(\"Amplitude, $a$\")\n",
    "plt.title(r\"A damped harmonic oscillator: $a(t) = \\exp(-t d) \\cos (2 \\pi f t + \\phi)$\")\n",
    "plt.show()"
   ]
  },
  {
   "cell_type": "markdown",
   "metadata": {},
   "source": [
    "Further readings:\n",
    "\n",
    "* http://www.scipy-lectures.org/intro/intro.html#the-scientific-python-ecosystem\n",
    "* https://www.scipy.org/about.html\n",
    "* https://www.stat.washington.edu/~hoytak/blog/whypython.html\n"
   ]
  }
 ],
 "metadata": {
  "kernelspec": {
   "display_name": "Python 3",
   "language": "python",
   "name": "python3"
  },
  "language_info": {
   "codemirror_mode": {
    "name": "ipython",
    "version": 3
   },
   "file_extension": ".py",
   "mimetype": "text/x-python",
   "name": "python",
   "nbconvert_exporter": "python",
   "pygments_lexer": "ipython3",
   "version": "3.6.1"
  }
 },
 "nbformat": 4,
 "nbformat_minor": 2
}
